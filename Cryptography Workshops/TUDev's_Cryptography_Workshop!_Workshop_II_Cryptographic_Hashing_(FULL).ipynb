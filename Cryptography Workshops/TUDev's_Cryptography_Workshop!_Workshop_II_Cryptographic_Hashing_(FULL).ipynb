{
  "nbformat": 4,
  "nbformat_minor": 0,
  "metadata": {
    "colab": {
      "name": "TUDev's Cryptography Workshop! Workshop II - Cryptographic Hashing (FULL).ipynb",
      "provenance": [],
      "collapsed_sections": []
    },
    "kernelspec": {
      "name": "python3",
      "display_name": "Python 3"
    }
  },
  "cells": [
    {
      "cell_type": "code",
      "metadata": {
        "id": "ar2sL3g1hekY"
      },
      "source": [
        "import hashlib\r\n",
        "import string\r\n",
        "import secrets"
      ],
      "execution_count": null,
      "outputs": []
    },
    {
      "cell_type": "markdown",
      "metadata": {
        "id": "YzVbQDL9te0m"
      },
      "source": [
        "# **Cryptographic Hash**\r\n",
        "\r\n",
        "**A hash function maps arbitrary strings of data to a fixed length bit array. The function is deterministic and public, but the mapping should seem random. Hash functions do not have a secret key. Since there are no secrets and the function itself is public,anyone can evaluate the function.**\r\n",
        "\r\n",
        "**The algorithms can map both alphanumeric and non-alphanumeric characters to a bit array. The bit array can be returned in bytes or into a hexadecimal format.**\r\n",
        "\r\n",
        "<br/>\r\n",
        "\r\n",
        "|   | Input Charachters | Output in Hexadecimal Form  |\r\n",
        "|---|---|---|\r\n",
        "| **MD5 Algorithm**  | \"Test\"  | \"0cbc6611f5540bd0809a388dc95a615b\"  |\r\n",
        "| **SHA-256 Algorithm**  | \"Test\"  | \"532eaabd9574880dbf76b9b8cc00832c20a6ec113d682299550d7a6e0f345e25\"  |\r\n",
        "\r\n",
        "<br/>\r\n",
        "\r\n",
        "<sup>Source: Lecture - [Cryptography:Hashing from MIT OpenCourseWare](https://ocw.mit.edu/courses/electrical-engineering-and-computer-science/6-046j-design-and-analysis-of-algorithms-spring-2015/lecture-notes/MIT6_046JS15_lec21.pdf)</sup>"
      ]
    },
    {
      "cell_type": "markdown",
      "metadata": {
        "id": "AjdoOEl7hsMP"
      },
      "source": [
        "## **Properties of Cryptographic Hashes**\r\n",
        "\r\n",
        "- **Pre-Image Resistance: For essentially all pre-specified outputs, it is computationally infeasible to find any input which hashes to that output. This means that a hash can be computed relatively easily for a given string(s), but inverting the output to find the original string(s) is difficult.**\r\n",
        "\r\n",
        "- **Second Pre-Image Resistance: It is computationally infeasible to find any second input which has the same output as any specified input. This means given a certain string input, it should be difficult to find another input that produces the same hash. Also known as Weak Collision Resistance.**\r\n",
        "\r\n",
        "- **Collision Resistance: It is computationally infeasible to find any two distinct inputs which hash to the same output. This means it should be difficult to find two different strings that create the same hash.**\r\n",
        "\r\n",
        "\r\n",
        "<br/>\r\n",
        "\r\n",
        "<sup>Source: Lecture - [Cryptographic Hash Functions](https://www.cs.purdue.edu/homes/ssw/cs355/hash.pdf) by William R. Speirs</sup>"
      ]
    },
    {
      "cell_type": "markdown",
      "metadata": {
        "id": "GiI9iLkJVRuX"
      },
      "source": [
        "# **MD5 (Message Digest 5)**\r\n",
        "\r\n",
        "**MD5 is an algorithm that uses a hash function that takes a given input and produces a 128-bit number that is 32 digits long.**\r\n",
        "\r\n",
        "**The algorithm was developed in the 1990's and has been broken since then. It should not be used as a cybersecurity encryption tool.**\r\n",
        "\r\n",
        "<br/>\r\n",
        "\r\n",
        "<sup>Source: Article - [MD5 Homepage  Montana State University](https://www.cs.montana.edu/paxton/classes/ireland/presentations/alex/md5Home.html)</sup>"
      ]
    },
    {
      "cell_type": "code",
      "metadata": {
        "colab": {
          "base_uri": "https://localhost:8080/"
        },
        "id": "Ok3TXfem-9Rv",
        "outputId": "b5ce5a04-27bc-4b93-b689-db370ec87284"
      },
      "source": [
        "#needs to be in bytes, not unicode\r\n",
        "'hello'.encode('UTF-8') == b'hello'"
      ],
      "execution_count": null,
      "outputs": [
        {
          "output_type": "execute_result",
          "data": {
            "text/plain": [
              "True"
            ]
          },
          "metadata": {
            "tags": []
          },
          "execution_count": 2
        }
      ]
    },
    {
      "cell_type": "code",
      "metadata": {
        "colab": {
          "base_uri": "https://localhost:8080/"
        },
        "id": "iXHA8svGjAVH",
        "outputId": "43754452-bc62-4147-dc81-0244b5d0fb63"
      },
      "source": [
        "md5_hash_hex = hashlib.md5(b'hello').hexdigest()\r\n",
        "print(f'The MD5 hexadecimal hash value for \"hello\" is: {md5_hash_hex}\\nThe length of the hash is: {len(md5_hash_hex)} characters')"
      ],
      "execution_count": null,
      "outputs": [
        {
          "output_type": "stream",
          "text": [
            "The MD5 hexadecimal hash value for \"hello\" is: 5d41402abc4b2a76b9719d911017c592\n",
            "The length of the hash is: 32 characters\n"
          ],
          "name": "stdout"
        }
      ]
    },
    {
      "cell_type": "code",
      "metadata": {
        "colab": {
          "base_uri": "https://localhost:8080/"
        },
        "id": "pv8FMDm2VbHN",
        "outputId": "4527e111-eea4-4516-a837-032f433438c6"
      },
      "source": [
        "#can update the hash with chunks\r\n",
        "md5_hash = hashlib.md5()\r\n",
        "\r\n",
        "for letter in 'hello':\r\n",
        "  md5_hash.update(letter.encode('UTF-8'))\r\n",
        "  print(md5_hash.hexdigest())"
      ],
      "execution_count": null,
      "outputs": [
        {
          "output_type": "stream",
          "text": [
            "2510c39011c5be704182423e3a695e91\n",
            "6f96cfdfe5ccc627cadf24b41725caa4\n",
            "46356afe55fa3cea9cbe73ad442cad47\n",
            "4229d691b07b13341da53f17ab9f2416\n",
            "5d41402abc4b2a76b9719d911017c592\n"
          ],
          "name": "stdout"
        }
      ]
    },
    {
      "cell_type": "markdown",
      "metadata": {
        "id": "U9A_0A-9CNzB"
      },
      "source": [
        "## **Avalanche Effect**\r\n",
        "\r\n",
        "**Within cryptography, the Avalanche Effect is when a small change to the input of an encryption function lead to a significant change to the output of the function.**"
      ]
    },
    {
      "cell_type": "code",
      "metadata": {
        "colab": {
          "base_uri": "https://localhost:8080/"
        },
        "id": "OrfX6A4wCOPL",
        "outputId": "198e0262-deb0-4d09-d4c6-37de8c99b1d0"
      },
      "source": [
        "md5_hash_1 = hashlib.md5(b'hi').hexdigest()\r\n",
        "md5_hash_2 = hashlib.md5(b'Hi').hexdigest()\r\n",
        "\r\n",
        "overlap = 0\r\n",
        "for i,j in zip(md5_hash_1, md5_hash_2):\r\n",
        "  print(i, j)\r\n",
        "  if i == j:\r\n",
        "    overlap += 1\r\n",
        "\r\n",
        "print(f'\\nOut of {len(md5_hash_1)} characters, only {overlap} overlap between the two hashes.')"
      ],
      "execution_count": null,
      "outputs": [
        {
          "output_type": "stream",
          "text": [
            "4 c\n",
            "9 1\n",
            "f a\n",
            "6 5\n",
            "8 2\n",
            "a 9\n",
            "5 8\n",
            "c f\n",
            "8 9\n",
            "4 3\n",
            "9 9\n",
            "3 e\n",
            "e 8\n",
            "c 7\n",
            "2 e\n",
            "c 8\n",
            "0 f\n",
            "b 9\n",
            "f 6\n",
            "4 2\n",
            "8 a\n",
            "9 5\n",
            "8 e\n",
            "2 d\n",
            "1 f\n",
            "c c\n",
            "2 2\n",
            "1 0\n",
            "f 6\n",
            "c 9\n",
            "3 1\n",
            "b 8\n",
            "\n",
            "Out of 32 characters, only 3 overlap between the two hashes.\n"
          ],
          "name": "stdout"
        }
      ]
    },
    {
      "cell_type": "markdown",
      "metadata": {
        "id": "2jSmn6VqPHQi"
      },
      "source": [
        "## **Vulnerabilities in MD5**\r\n",
        "\r\n",
        "**We can see in the below code that the MD5 algorithm is broken because it does not hold up to Collision Resistance. A famous Cryptography paper by by Wang Xiaoyun and Hongbo Yu shows that they were able to break Collision Resistance for MD5 with the two below strings. Even though the strings are different, they produce the same hash. Over time, cryptographers were able to find more examples of violations of Collision Resistance within the MD5 algorithm.**"
      ]
    },
    {
      "cell_type": "code",
      "metadata": {
        "colab": {
          "base_uri": "https://localhost:8080/"
        },
        "id": "3RHkDnwdW4Gg",
        "outputId": "6340c32e-86c8-4a35-e18f-d9d8d6f72694"
      },
      "source": [
        "string_1 = 'd131dd02c5e6eec4693d9a0698aff95c2fcab58712467eab4004583eb8fb7f8955ad340609f4b30283e488832571415a085125e8f7cdc99fd91dbdf280373c5bd8823e3156348f5bae6dacd436c919c6dd53e2b487da03fd02396306d248cda0e99f33420f577ee8ce54b67080a80d1ec69821bcb6a8839396f9652b6ff72a70'\r\n",
        "string_2 = 'd131dd02c5e6eec4693d9a0698aff95c2fcab50712467eab4004583eb8fb7f8955ad340609f4b30283e4888325f1415a085125e8f7cdc99fd91dbd7280373c5bd8823e3156348f5bae6dacd436c919c6dd53e23487da03fd02396306d248cda0e99f33420f577ee8ce54b67080280d1ec69821bcb6a8839396f965ab6ff72a70'\r\n",
        "print(f'Check to see if the strings are the same: {string_1 == string_2}')\r\n",
        "\r\n",
        "#convert into binary\r\n",
        "string_1_hex = bytearray.fromhex(string_1)\r\n",
        "string_2_hex = bytearray.fromhex(string_2)\r\n",
        "\r\n",
        "#this is an example of collision where MD5 fails\r\n",
        "print(f'Using the MD5 algorithm, we see that this is a Collision and that the alogirthm fails: {hashlib.md5(string_1_hex).hexdigest() == hashlib.md5(string_2_hex).hexdigest()}')\r\n"
      ],
      "execution_count": null,
      "outputs": [
        {
          "output_type": "stream",
          "text": [
            "Check to see if the strings are the same: False\n",
            "Using the MD5 algorithm, we see that this is a Collision and that the alogirthm fails: True\n"
          ],
          "name": "stdout"
        }
      ]
    },
    {
      "cell_type": "markdown",
      "metadata": {
        "id": "9a5fstLvZy7a"
      },
      "source": [
        "<sup>Source: Code - [MD5 proving collision for the famous hexadecimal blocks](https://crypto.stackexchange.com/questions/41411/md5-proving-collision-for-the-famous-hexadecimal-blocks) post from Stack Overflow</sup>\r\n",
        "\r\n",
        "<sup>Source: Journal Article - [How to Break MD5 and Other Hash Functions](https://www.researchgate.net/publication/225230142_How_to_Break_MD5_and_Other_Hash_Functions) by Wang Xiaoyun and Hongbo Yu</sup>"
      ]
    },
    {
      "cell_type": "markdown",
      "metadata": {
        "id": "j3U2kgKMm7yB"
      },
      "source": [
        "# **SHA-256 (Secure Hash Algorithm 256)**\r\n",
        "\r\n",
        "**SHA-256 is an algorithm that uses a hash function that takes a given input and produces a 256-bit number that is 64 digits long.**\r\n",
        "\r\n",
        "<br/>\r\n",
        "\r\n",
        "<sup>Source: Website - [Decryptionary](https://decryptionary.com/dictionary/secure-hash-algorithm-256/)</sup>"
      ]
    },
    {
      "cell_type": "code",
      "metadata": {
        "colab": {
          "base_uri": "https://localhost:8080/"
        },
        "id": "eyJIfEVM3ms4",
        "outputId": "d19e25bd-7d20-4d48-9969-9b7532c2a589"
      },
      "source": [
        "md5_hash = hashlib.sha256(b'hello').hexdigest()\r\n",
        "print(f'The SHA-256 hexadecimal hash value for \"hello\" is: {md5_hash}\\nThe length of the hash is: {len(md5_hash)} characters')"
      ],
      "execution_count": null,
      "outputs": [
        {
          "output_type": "stream",
          "text": [
            "The SHA-256 hexadecimal hash value for \"hello\" is: 2cf24dba5fb0a30e26e83b2ac5b9e29e1b161e5c1fa7425e73043362938b9824\n",
            "The length of the hash is: 64 characters\n"
          ],
          "name": "stdout"
        }
      ]
    },
    {
      "cell_type": "code",
      "metadata": {
        "id": "A4ZKkavyYUHB"
      },
      "source": [
        "string_1 = 'd131dd02c5e6eec4693d9a0698aff95c2fcab58712467eab4004583eb8fb7f8955ad340609f4b30283e488832571415a085125e8f7cdc99fd91dbdf280373c5bd8823e3156348f5bae6dacd436c919c6dd53e2b487da03fd02396306d248cda0e99f33420f577ee8ce54b67080a80d1ec69821bcb6a8839396f9652b6ff72a70'\r\n",
        "string_2 = 'd131dd02c5e6eec4693d9a0698aff95c2fcab50712467eab4004583eb8fb7f8955ad340609f4b30283e4888325f1415a085125e8f7cdc99fd91dbd7280373c5bd8823e3156348f5bae6dacd436c919c6dd53e23487da03fd02396306d248cda0e99f33420f577ee8ce54b67080280d1ec69821bcb6a8839396f965ab6ff72a70'\r\n",
        "print(f'Check to see if the strings are the same: {string_1 == string_2}')\r\n",
        "\r\n",
        "#convert into binary\r\n",
        "string_1_hex = bytearray.fromhex(string_1)\r\n",
        "string_2_hex = bytearray.fromhex(string_2)\r\n",
        "\r\n",
        "#this is an example of collision where MD5 fails\r\n",
        "print(f'SHA-256 avoids a Collision where MD5 failed: {hashlib.sha256(string_1_hex).hexdigest() == hashlib.sha256(string_2_hex).hexdigest()}')"
      ],
      "execution_count": null,
      "outputs": []
    },
    {
      "cell_type": "markdown",
      "metadata": {
        "id": "tJfvHpNQ8iA6"
      },
      "source": [
        "# **Password Storage and Hashing**\r\n",
        "**When you create and save a password for a website, most of the time the password is saved in a hash rather than its original form. The reason that the hash of a password rather than the password itself is saved is for security. If a hacker is able to get into a system, but they only have the hashes of the password, then they will have a much harder time getting access to accounts because they don't know the password.**"
      ]
    },
    {
      "cell_type": "markdown",
      "metadata": {
        "id": "Y3P5d8UD6GU-"
      },
      "source": [
        "## **Dictionary Attack**\r\n",
        "\r\n",
        "**A dictionary attack is a type of brute force attack where an attacker tries to access an account by iterating through a dictionary of common phrases and words. The size of the dictionaries can vary from hundreds of thousands of password variations to billions. A dictionary containing over 1 billion unique words takes up only 15 gigabytes.**\r\n",
        "\r\n",
        "<br/>\r\n",
        "\r\n",
        "<sup>Source: Website - [CrackStation](https://crackstation.net/crackstation-wordlist-password-cracking-dictionary.htm)</sup>"
      ]
    },
    {
      "cell_type": "code",
      "metadata": {
        "id": "h5ZZQHCP6Gq1"
      },
      "source": [
        "#dictionary that we will use to try to break a password\r\n",
        "data_dict_attack = {'12345':hashlib.sha256(b'12345').hexdigest(), 'football':hashlib.sha256(b'football').hexdigest(),\r\n",
        "                    '123456':hashlib.sha256(b'123456').hexdigest(), 'test1':hashlib.sha256(b'test1').hexdigest(),\r\n",
        "                    'password':hashlib.sha256(b'password').hexdigest(), 'asdf':hashlib.sha256(b'asdf').hexdigest(),\r\n",
        "                     '123456789':hashlib.sha256(b'123456789').hexdigest(), 'iloveyou':hashlib.sha256(b'iloveyou').hexdigest(),\r\n",
        "                    'qwerty':hashlib.sha256(b'qwerty').hexdigest(), 'basketball':hashlib.sha256(b'basketball').hexdigest()}"
      ],
      "execution_count": null,
      "outputs": []
    },
    {
      "cell_type": "code",
      "metadata": {
        "id": "QTlwfeGS6UyP"
      },
      "source": [
        "intercepted_hash = '6382deaf1f5dc6e792b76db4a4a7bf2ba468884e000b25e7928e621e27fb23cb'\r\n",
        "\r\n",
        "#we were able to crack the password\r\n",
        "for password, hash in data_dict_attack.items():\r\n",
        "  if hash == intercepted_hash:\r\n",
        "    print(password)\r\n",
        "  else:\r\n",
        "    print('No password found')"
      ],
      "execution_count": null,
      "outputs": []
    },
    {
      "cell_type": "markdown",
      "metadata": {
        "id": "lP8Gs00hrMig"
      },
      "source": [
        "## **Salt Value**\r\n",
        "\r\n",
        "**Salt Values are randomly generated characters that are appended to a password in order to make it more secure.**"
      ]
    },
    {
      "cell_type": "code",
      "metadata": {
        "id": "TsdB6nm5leYM"
      },
      "source": [
        "#prompt user to set their password\r\n",
        "password = input('Set your password\\n')\r\n",
        "\r\n",
        "#set up list of alphanumeric characters that can be used for the salt value\r\n",
        "char_list = string.printable[0:62]\r\n",
        "\r\n",
        "#create salt from random values\r\n",
        "salt = ''\r\n",
        "while len(salt) < 15:\r\n",
        "  salt += secrets.choice(char_list)\r\n",
        "#concatenate the original password and the salt\r\n",
        "password = password + salt\r\n",
        "\r\n",
        "print(f'The salt is: {salt}\\nThe new password is: {password}')\r\n",
        "password = hashlib.sha256(password.encode('UTF-8'))\r\n",
        "print(password.hexdigest())"
      ],
      "execution_count": null,
      "outputs": []
    },
    {
      "cell_type": "markdown",
      "metadata": {
        "id": "sqPdPjjd9qIf"
      },
      "source": [
        "### **Dictionary Attack on Salt Adjusted Password**"
      ]
    },
    {
      "cell_type": "code",
      "metadata": {
        "id": "cCTDOqsJOKPK"
      },
      "source": [
        "#no luck on cracking the hash adjusted with a salt value \r\n",
        "intercepted_salt_hash = '4aa66103fe6a334268439e70dab79f9e'\r\n",
        "\r\n",
        "for password, hash in data_dict_attack.items():\r\n",
        "  if hash == intercepted_salt_hash:\r\n",
        "    print(password)\r\n",
        "  else:\r\n",
        "    print('No password found')"
      ],
      "execution_count": null,
      "outputs": []
    },
    {
      "cell_type": "markdown",
      "metadata": {
        "id": "bvL3gjs0a_bK"
      },
      "source": [
        "# **Other Cryptographic Hashing Applications**\r\n",
        "\r\n",
        "- **Digital Signatures**\r\n",
        "- **Data Integrity**\r\n",
        "- **Cryptocurrency (Proof of work)**"
      ]
    },
    {
      "cell_type": "markdown",
      "metadata": {
        "id": "nrk63pBAOKhi"
      },
      "source": [
        "# **References and Additional Learning**"
      ]
    },
    {
      "cell_type": "markdown",
      "metadata": {
        "id": "1dg8910B5dNO"
      },
      "source": [
        "## **Passwords to avoid at all costs!**\r\n",
        "\r\n",
        "- **[Ranked: The World’s Top 100 Worst Passwords](https://www.forbes.com/sites/daveywinder/2019/12/14/ranked-the-worlds-100-worst-passwords/?sh=301d78469b41) by Davey Winder**"
      ]
    },
    {
      "cell_type": "markdown",
      "metadata": {
        "id": "8Plwux6WQ6t1"
      },
      "source": [
        "## **Online Courses**\r\n",
        "\r\n",
        "- **[Master Modern Security and Cryptography by Coding in Python](https://www.udemy.com/course/learn-modern-security-and-cryptography-by-coding-in-python/), Udemy course by Rune Thomsen**"
      ]
    },
    {
      "cell_type": "markdown",
      "metadata": {
        "id": "o-CI2As3RGRD"
      },
      "source": [
        "## **Textbooks**\r\n",
        "- **[Implementing Cryptography Using Python](https://www.amazon.com/Implementing-Cryptography-Using-Python-Shannon/dp/1119612209/ref=sr_1_1?dchild=1&keywords=Implementing+Cryptography+Using+Python&qid=1609360861&s=books&sr=1-1) by Shannon Bray**\r\n",
        "- **[Practical Cryptography in Python: Learning Correct Cryptography by Example](https://www.amazon.com/Practical-Cryptography-Python-Learning-Correct/dp/1484248996/ref=sr_1_1?crid=1GKREMIFL2A0Y&dchild=1&keywords=practical+cryptography+in+python&qid=1609360771&s=books&sprefix=Practical+Cryptography+in+Python%2Cstripbooks%2C134&sr=1-1) by  Seth James Nielson and Christopher Monson**\r\n",
        "- **[Black Hat Python](https://www.amazon.com/Black-Hat-Python-Programming-Pentesters/dp/1593275900) by Justin Seitz**"
      ]
    },
    {
      "cell_type": "markdown",
      "metadata": {
        "id": "IznJsZo3ONwe"
      },
      "source": [
        "## **Websites**\r\n",
        "- **[hashlib Documentation](https://docs.python.org/3/library/hashlib.html)**\r\n",
        "- **[Hashes.com](https://hashes.com/en/decrypt/hash) - Check the strings behind hashes**\r\n",
        "- **[Bits, Bytes, Hexadecimals, and ASCII](http://www.c-jump.com/bcc/common/Talk2/Cxx/BitByteHexASCII/BitByteHexASCII.html) - How information is stored digitally**"
      ]
    },
    {
      "cell_type": "markdown",
      "metadata": {
        "id": "6D0zAuwwONzo"
      },
      "source": [
        "## **Podcasts**\r\n",
        "\r\n",
        "- **Malicious Life Episode 30: [The Ashley Madison Hack Part 1](https://malicious.life/episode/episode-30/) with Ran Levi talks about how the company saved passwords as MD5 hashes which lead to their site being compromised**"
      ]
    },
    {
      "cell_type": "markdown",
      "metadata": {
        "id": "_y0i9O_rON23"
      },
      "source": [
        "# **Connect**\r\n",
        "- **Join [TUDev](https://docs.google.com/forms/d/e/1FAIpQLSdsJbBbza_HsqhGM_5YjaSo-XnWug2KNCXv9CYQcXW4qtCQsw/viewform) and check out our [website](https://tudev.org/)!**\r\n",
        "\r\n",
        "- **Feel free to connect with Adrian on [YouTube](https://www.youtube.com/channel/UCPuDxI3xb_ryUUMfkm0jsRA), [LinkedIn](https://www.linkedin.com/in/adrian-dolinay-frm-96a289106/), [Twitter](https://twitter.com/DolinayG) and [GitHub](https://github.com/ad17171717). Happy coding!**"
      ]
    }
  ]
}