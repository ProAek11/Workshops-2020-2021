{
  "nbformat": 4,
  "nbformat_minor": 0,
  "metadata": {
    "colab": {
      "name": "TUDev's_Cryptography_Workshop!_Workshop_I_Substitution_Cipher_(Caesar_Cipher)_(FULL).ipynb",
      "provenance": [],
      "collapsed_sections": []
    },
    "kernelspec": {
      "name": "python3",
      "display_name": "Python 3"
    }
  },
  "cells": [
    {
      "cell_type": "code",
      "metadata": {
        "id": "4mBVx_zmQK5D"
      },
      "source": [
        "#libraries\r\n",
        "import string\r\n",
        "from collections import deque"
      ],
      "execution_count": null,
      "outputs": []
    },
    {
      "cell_type": "markdown",
      "metadata": {
        "id": "AFHQb8hIZipf"
      },
      "source": [
        "# **Substitution Cipher**\r\n",
        "**Is a rearrangement of the plaintext alphabet using ciphertext. The plaintext alphabet can be mapped to numbers, letters or some other unit using a fixed system.**\r\n",
        "\r\n",
        "<br/>\r\n",
        "<br/>\r\n",
        "\r\n",
        "<sup>Source: Website - [Simple Substitution Cipher](https://www.cs.uri.edu/cryptography/classicalsubstitution.htm) from the University of Rhode Island's cryptography webpage</sup>"
      ]
    },
    {
      "cell_type": "markdown",
      "metadata": {
        "id": "kUBBPg1lxS6s"
      },
      "source": [
        "# **Caesar Cipher**"
      ]
    },
    {
      "cell_type": "markdown",
      "metadata": {
        "id": "x1oyDpsUyO-a"
      },
      "source": [
        "## **Definition**\r\n",
        "\r\n",
        "**The Caesar Cipher is a Substitution Cipher and one of earliest known forms of Cryptography.**\r\n",
        "<br/>\r\n",
        "<br/>\r\n",
        "**Julius Caesar is said to have used this namesake cipher to communicate with his army. The letters in the Latin alphabet were shifted to create encrypted messages. Using the English alphabet as an example, if we shift the letters 4 places then in the Caesar Cipher the letter \"e\" will translate to \"a\". The number of shifts is also known as the cipher's key. A table of the shift can be seen below.**\r\n",
        "\r\n",
        "<br/>\r\n",
        "<br/>\r\n",
        "\r\n",
        "| Alphabet  | a  | b  | c  | d  | e  | f  | g  | h  | i  | j  | k  | l  | m  | n  | o  | p  | q  | r  |  s |  t | u  | v  | w  |  x |  y |  z |\r\n",
        "|---|---|---|---|---|---|---|---|---|---|---|---|---|---|---|---|---|---|---|---|---|---|---|---|---|---|---|\r\n",
        "| **Caesar Cipher (4 Shifts)**  | **e**  | **f**  | **g**  | **h**  | **i**  | **j**  | **k**  | **l**  | **m**  | **n**  | **o**  | **p**  | **q**  | **r**  | **s**  | **t**  | **u**  | **v**  |  **w** |  **x** | **y**  | **z**  | **a**  |  **b** |  **c** |  **d** |\r\n",
        "\r\n",
        "<br/>\r\n",
        "<br/>\r\n",
        "\r\n",
        "<sup>Source: Article - [Cracking the Code](https://www.cia.gov/news-information/featured-story-archive/2007-featured-story-archive/cracking-the-code.html) from the CIA's webpage</sup>"
      ]
    },
    {
      "cell_type": "markdown",
      "metadata": {
        "id": "AER-cZ3ag4Pt"
      },
      "source": [
        "## **Coding a Caesar Cipher**\r\n",
        "\r\n",
        "**Let's get started!**"
      ]
    },
    {
      "cell_type": "markdown",
      "metadata": {
        "id": "apxwK6PW-o3v"
      },
      "source": [
        "### **Caesar Cipher using Slicing**"
      ]
    },
    {
      "cell_type": "code",
      "metadata": {
        "id": "4hFodcD2vvM9"
      },
      "source": [
        "def caesar_cipher(key, message):\r\n",
        "  ascii_lower = [i for i in string.ascii_lowercase]\r\n",
        "  caesars_list = [i for i in string.ascii_lowercase]\r\n",
        "\r\n",
        "  #shift the caesars list based on the given key\r\n",
        "  caesars_list = caesars_list[key:] + caesars_list[:key]\r\n",
        "\r\n",
        "  #add in spaces and punctuation so the cipher can deal with sentences\r\n",
        "  caesars_list.insert((len(caesars_list)+1),\" \")\r\n",
        "  ascii_lower.insert((len(caesars_list)+1),\" \")\r\n",
        "  ascii_lower.extend([i for i in string.punctuation])\r\n",
        "  caesars_list.extend([i for i in string.punctuation])\r\n",
        "\r\n",
        "  #encode and return the encrypted message\r\n",
        "  cipher = [caesars_list[ascii_lower.index(i)] for i in message]\r\n",
        "  return ''.join(cipher)"
      ],
      "execution_count": null,
      "outputs": []
    },
    {
      "cell_type": "code",
      "metadata": {
        "colab": {
          "base_uri": "https://localhost:8080/"
        },
        "id": "4Bl3dB7v5fOo",
        "outputId": "442bc843-9580-4f72-ba47-58dfa602b4f1"
      },
      "source": [
        "#testing our caesars cipher\r\n",
        "key = int(input('How many shifts do you want in your caesars cipher?\\n'))\r\n",
        "message = input('What is your message?\\n')\r\n",
        "\r\n",
        "caesar_message = caesar_cipher(key, message.lower())\r\n",
        "print(caesar_message)"
      ],
      "execution_count": null,
      "outputs": [
        {
          "output_type": "stream",
          "text": [
            "How many shifts do you want in your caesars cipher?\n",
            "4\n",
            "What is your message?\n",
            "hello world!\n",
            "lipps asvph!\n"
          ],
          "name": "stdout"
        }
      ]
    },
    {
      "cell_type": "markdown",
      "metadata": {
        "id": "cNayJpRNEJeV"
      },
      "source": [
        "#### **Decoding Caesar Cipher (Slicing)**"
      ]
    },
    {
      "cell_type": "code",
      "metadata": {
        "colab": {
          "base_uri": "https://localhost:8080/"
        },
        "id": "jIIl7s6fEIWR",
        "outputId": "be535e74-91ba-47ae-a06f-5f7d7fc1c713"
      },
      "source": [
        "def caesar_cipher_decoder(key, encrypted_message):\r\n",
        "  ascii_lower = [i for i in string.ascii_lowercase]\r\n",
        "  caesars_list = [i for i in string.ascii_lowercase]\r\n",
        "\r\n",
        "  #shift the caesars list based on the given key\r\n",
        "  caesars_list = caesars_list[key:] + caesars_list[:key]\r\n",
        "\r\n",
        "  #add in spaces and punctuation so the cipher can deal with sentences\r\n",
        "  caesars_list.insert((len(caesars_list)+1),\" \")\r\n",
        "  ascii_lower.insert((len(caesars_list)+1),\" \")\r\n",
        "  ascii_lower.extend([i for i in string.punctuation])\r\n",
        "  caesars_list.extend([i for i in string.punctuation])\r\n",
        "\r\n",
        "  #encode and return the encrypted message\r\n",
        "  decrypted_message = [ascii_lower[caesars_list.index(i)] for i in encrypted_message]\r\n",
        "  return ''.join(decrypted_message)\r\n",
        "\r\n",
        "decoder_key = int(input('How many shifts are in the caesars cipher?\\n'))\r\n",
        "encrypted_message = input('What is the encrypted message?\\n')\r\n",
        "decoded_message = caesar_cipher_decoder(decoder_key, encrypted_message.lower())\r\n",
        "print(decoded_message)\r\n"
      ],
      "execution_count": null,
      "outputs": [
        {
          "output_type": "stream",
          "text": [
            "How many shifts are in the caesars cipher?\n",
            "4\n",
            "What is the encrypted message?\n",
            "lipps asvph!\n",
            "hello world!\n"
          ],
          "name": "stdout"
        }
      ]
    },
    {
      "cell_type": "markdown",
      "metadata": {
        "id": "9_2cXrfWHMS0"
      },
      "source": [
        "### **Breaking a Caesar Cipher**\r\n",
        "**What if we intercepted an encrypted message that we know was encrypted using Caesars Cipher. How could we break it? Would it be easy to break?**"
      ]
    },
    {
      "cell_type": "markdown",
      "metadata": {
        "id": "U8RbDSys3GLF"
      },
      "source": [
        "#### **Slicing**"
      ]
    },
    {
      "cell_type": "code",
      "metadata": {
        "colab": {
          "base_uri": "https://localhost:8080/"
        },
        "id": "F1IP7m_N3D1d",
        "outputId": "4d064e36-34b0-49ad-a47b-3402233ec5e0"
      },
      "source": [
        "intercepted_message = 'uwdm bw bpm miab ib uqlvqopb. lw vwb ow qvbw bwev, abig qv bpm apilwea.'\r\n",
        "\r\n",
        "for i in range(len(string.ascii_lowercase)):\r\n",
        "  print(caesar_cipher_decoder(i, intercepted_message),\"\\n\")"
      ],
      "execution_count": null,
      "outputs": [
        {
          "output_type": "stream",
          "text": [
            "uwdm bw bpm miab ib uqlvqopb. lw vwb ow qvbw bwev, abig qv bpm apilwea. \n",
            "\n",
            "tvcl av aol lhza ha tpkupnoa. kv uva nv puav avdu, zahf pu aol zohkvdz. \n",
            "\n",
            "subk zu znk kgyz gz sojtomnz. ju tuz mu otzu zuct, yzge ot znk yngjucy. \n",
            "\n",
            "rtaj yt ymj jfxy fy rnisnlmy. it sty lt nsyt ytbs, xyfd ns ymj xmfitbx. \n",
            "\n",
            "qszi xs xli iewx ex qmhrmklx. hs rsx ks mrxs xsar, wxec mr xli wlehsaw. \n",
            "\n",
            "pryh wr wkh hdvw dw plgqljkw. gr qrw jr lqwr wrzq, vwdb lq wkh vkdgrzv. \n",
            "\n",
            "oqxg vq vjg gcuv cv okfpkijv. fq pqv iq kpvq vqyp, uvca kp vjg ujcfqyu. \n",
            "\n",
            "npwf up uif fbtu bu njeojhiu. ep opu hp joup upxo, tubz jo uif tibepxt. \n",
            "\n",
            "move to the east at midnight. do not go into town, stay in the shadows. \n",
            "\n",
            "lnud sn sgd dzrs zs lhcmhfgs. cn mns fn hmsn snvm, rszx hm sgd rgzcnvr. \n",
            "\n",
            "kmtc rm rfc cyqr yr kgblgefr. bm lmr em glrm rmul, qryw gl rfc qfybmuq. \n",
            "\n",
            "jlsb ql qeb bxpq xq jfakfdeq. al klq dl fkql qltk, pqxv fk qeb pexaltp. \n",
            "\n",
            "ikra pk pda awop wp iezjecdp. zk jkp ck ejpk pksj, opwu ej pda odwzkso. \n",
            "\n",
            "hjqz oj ocz zvno vo hdyidbco. yj ijo bj dioj ojri, novt di ocz ncvyjrn. \n",
            "\n",
            "gipy ni nby yumn un gcxhcabn. xi hin ai chni niqh, mnus ch nby mbuxiqm. \n",
            "\n",
            "fhox mh max xtlm tm fbwgbzam. wh ghm zh bgmh mhpg, lmtr bg max latwhpl. \n",
            "\n",
            "egnw lg lzw wskl sl eavfayzl. vg fgl yg aflg lgof, klsq af lzw kzsvgok. \n",
            "\n",
            "dfmv kf kyv vrjk rk dzuezxyk. uf efk xf zekf kfne, jkrp ze kyv jyrufnj. \n",
            "\n",
            "celu je jxu uqij qj cytdywxj. te dej we ydje jemd, ijqo yd jxu ixqtemi. \n",
            "\n",
            "bdkt id iwt tphi pi bxscxvwi. sd cdi vd xcid idlc, hipn xc iwt hwpsdlh. \n",
            "\n",
            "acjs hc hvs sogh oh awrbwuvh. rc bch uc wbhc hckb, ghom wb hvs gvorckg. \n",
            "\n",
            "zbir gb gur rnfg ng zvqavtug. qb abg tb vagb gbja, fgnl va gur funqbjf. \n",
            "\n",
            "yahq fa ftq qmef mf yupzustf. pa zaf sa uzfa faiz, efmk uz ftq etmpaie. \n",
            "\n",
            "xzgp ez esp plde le xtoytrse. oz yze rz tyez ezhy, delj ty esp dslozhd. \n",
            "\n",
            "wyfo dy dro okcd kd wsnxsqrd. ny xyd qy sxdy dygx, cdki sx dro crknygc. \n",
            "\n",
            "vxen cx cqn njbc jc vrmwrpqc. mx wxc px rwcx cxfw, bcjh rw cqn bqjmxfb. \n",
            "\n"
          ],
          "name": "stdout"
        }
      ]
    },
    {
      "cell_type": "markdown",
      "metadata": {
        "id": "pKgaPAF5xP5C"
      },
      "source": [
        "# **Challenge: Caesar Cipher**\r\n",
        "\r\n",
        "**How would you code a Caesar Cipher? Can you code it using an imported data structure? What about with modular arithmetic? How fast does your Caesar Cipher run when compared to the given example?**"
      ]
    },
    {
      "cell_type": "markdown",
      "metadata": {
        "id": "vR2YHl9_I-Yb"
      },
      "source": [
        "# **Challenge Answer 1**\r\n",
        "**The following Caesar Cipher uses a deque to encrypt and decrypt messages.**"
      ]
    },
    {
      "cell_type": "markdown",
      "metadata": {
        "id": "lV8_kV64JQpN"
      },
      "source": [
        "### **Caesar Cipher using Deque**"
      ]
    },
    {
      "cell_type": "code",
      "metadata": {
        "id": "YNYkFfw8JRMS"
      },
      "source": [
        "#creating our caesars cipher function\r\n",
        "def caesar_cipher_deque(key, message):\r\n",
        "  ascii_lower = [i for i in string.ascii_lowercase]\r\n",
        "  caesars_list = deque(ascii_lower)\r\n",
        "  caesars_list.rotate(-key)\r\n",
        "  caesars_list.insert((len(caesars_list)+1),\" \")\r\n",
        "  ascii_lower.insert((len(caesars_list)+1),\" \")\r\n",
        "  ascii_lower.extend([i for i in string.punctuation])\r\n",
        "  caesars_list.extend([i for i in string.punctuation])\r\n",
        "  cipher = [caesars_list[ascii_lower.index(i)] for i in message]\r\n",
        "  return ''.join(cipher)"
      ],
      "execution_count": null,
      "outputs": []
    },
    {
      "cell_type": "markdown",
      "metadata": {
        "id": "VX8Lz3mpJkrs"
      },
      "source": [
        "### **Testing Caesar Cipher**"
      ]
    },
    {
      "cell_type": "code",
      "metadata": {
        "colab": {
          "base_uri": "https://localhost:8080/"
        },
        "id": "IJfVVN8cJfpb",
        "outputId": "89fb3c11-2424-4d80-b138-864c0c426a3e"
      },
      "source": [
        "#testing our caesars cipher\r\n",
        "key = int(input('How many shifts do you want in your caesars cipher?\\n'))\r\n",
        "message = input('What is your message?\\n')\r\n",
        "\r\n",
        "caesar_message = caesar_cipher_deque(key, message.lower())\r\n",
        "print(caesar_message)"
      ],
      "execution_count": null,
      "outputs": [
        {
          "output_type": "stream",
          "text": [
            "How many shifts do you want in your caesars cipher?\n",
            "4\n",
            "What is your message?\n",
            "hello world!\n",
            "lipps asvph!\n"
          ],
          "name": "stdout"
        }
      ]
    },
    {
      "cell_type": "markdown",
      "metadata": {
        "id": "LqvF6t3rJtX3"
      },
      "source": [
        "#### **Decoding Caesar Cipher (Deque)**"
      ]
    },
    {
      "cell_type": "code",
      "metadata": {
        "colab": {
          "base_uri": "https://localhost:8080/"
        },
        "id": "2UK2zJLeJf0Y",
        "outputId": "6e8b4dd4-4629-4c5e-9e59-6e4d845b22c5"
      },
      "source": [
        "#decoding the message\r\n",
        "def caesar_deque_decoder(key, encrypted_message):\r\n",
        "  ascii_lower = [i for i in string.ascii_lowercase]\r\n",
        "  caesars_list = deque(ascii_lower)\r\n",
        "  caesars_list.rotate(-key)\r\n",
        "  caesars_list.insert((len(caesars_list)+1),\" \")\r\n",
        "  ascii_lower.insert((len(caesars_list)+1),\" \")\r\n",
        "  ascii_lower.extend([i for i in string.punctuation])\r\n",
        "  caesars_list.extend([i for i in string.punctuation])\r\n",
        "  decrypted_message = [ascii_lower[caesars_list.index(i)] for i in encrypted_message]\r\n",
        "  return ''.join(decrypted_message)\r\n",
        "\r\n",
        "decoder_key = int(input('How many shifts are in the caesars cipher?\\n'))\r\n",
        "encrypted_message = input('What is the encrypted message?\\n')\r\n",
        "decoded_message = caesar_deque_decoder(decoder_key, encrypted_message.lower())\r\n",
        "print(decoded_message)"
      ],
      "execution_count": null,
      "outputs": [
        {
          "output_type": "stream",
          "text": [
            "How many shifts are in the caesars cipher?\n",
            "4\n",
            "What is the encrypted message?\n",
            "lipps asvph!\n",
            "hello world!\n"
          ],
          "name": "stdout"
        }
      ]
    },
    {
      "cell_type": "markdown",
      "metadata": {
        "id": "2LNJm7CNJ44o"
      },
      "source": [
        "#### **Breaking a Caesar Cipher (Deque)**"
      ]
    },
    {
      "cell_type": "code",
      "metadata": {
        "colab": {
          "base_uri": "https://localhost:8080/"
        },
        "id": "giMKJ_MdJf6X",
        "outputId": "3c67d814-6e40-4cda-d3ff-1ca43deca860"
      },
      "source": [
        "intercepted_message = 'uwdm bw bpm miab ib uqlvqopb. lw vwb ow qvbw bwev, abig qv bpm apilwea.'\r\n",
        "\r\n",
        "for i in range(len(string.ascii_lowercase)):\r\n",
        "  print(caesar_deque_decoder(i, intercepted_message),\"\\n\")"
      ],
      "execution_count": null,
      "outputs": [
        {
          "output_type": "stream",
          "text": [
            "uwdm bw bpm miab ib uqlvqopb. lw vwb ow qvbw bwev, abig qv bpm apilwea. \n",
            "\n",
            "tvcl av aol lhza ha tpkupnoa. kv uva nv puav avdu, zahf pu aol zohkvdz. \n",
            "\n",
            "subk zu znk kgyz gz sojtomnz. ju tuz mu otzu zuct, yzge ot znk yngjucy. \n",
            "\n",
            "rtaj yt ymj jfxy fy rnisnlmy. it sty lt nsyt ytbs, xyfd ns ymj xmfitbx. \n",
            "\n",
            "qszi xs xli iewx ex qmhrmklx. hs rsx ks mrxs xsar, wxec mr xli wlehsaw. \n",
            "\n",
            "pryh wr wkh hdvw dw plgqljkw. gr qrw jr lqwr wrzq, vwdb lq wkh vkdgrzv. \n",
            "\n",
            "oqxg vq vjg gcuv cv okfpkijv. fq pqv iq kpvq vqyp, uvca kp vjg ujcfqyu. \n",
            "\n",
            "npwf up uif fbtu bu njeojhiu. ep opu hp joup upxo, tubz jo uif tibepxt. \n",
            "\n",
            "move to the east at midnight. do not go into town, stay in the shadows. \n",
            "\n",
            "lnud sn sgd dzrs zs lhcmhfgs. cn mns fn hmsn snvm, rszx hm sgd rgzcnvr. \n",
            "\n",
            "kmtc rm rfc cyqr yr kgblgefr. bm lmr em glrm rmul, qryw gl rfc qfybmuq. \n",
            "\n",
            "jlsb ql qeb bxpq xq jfakfdeq. al klq dl fkql qltk, pqxv fk qeb pexaltp. \n",
            "\n",
            "ikra pk pda awop wp iezjecdp. zk jkp ck ejpk pksj, opwu ej pda odwzkso. \n",
            "\n",
            "hjqz oj ocz zvno vo hdyidbco. yj ijo bj dioj ojri, novt di ocz ncvyjrn. \n",
            "\n",
            "gipy ni nby yumn un gcxhcabn. xi hin ai chni niqh, mnus ch nby mbuxiqm. \n",
            "\n",
            "fhox mh max xtlm tm fbwgbzam. wh ghm zh bgmh mhpg, lmtr bg max latwhpl. \n",
            "\n",
            "egnw lg lzw wskl sl eavfayzl. vg fgl yg aflg lgof, klsq af lzw kzsvgok. \n",
            "\n",
            "dfmv kf kyv vrjk rk dzuezxyk. uf efk xf zekf kfne, jkrp ze kyv jyrufnj. \n",
            "\n",
            "celu je jxu uqij qj cytdywxj. te dej we ydje jemd, ijqo yd jxu ixqtemi. \n",
            "\n",
            "bdkt id iwt tphi pi bxscxvwi. sd cdi vd xcid idlc, hipn xc iwt hwpsdlh. \n",
            "\n",
            "acjs hc hvs sogh oh awrbwuvh. rc bch uc wbhc hckb, ghom wb hvs gvorckg. \n",
            "\n",
            "zbir gb gur rnfg ng zvqavtug. qb abg tb vagb gbja, fgnl va gur funqbjf. \n",
            "\n",
            "yahq fa ftq qmef mf yupzustf. pa zaf sa uzfa faiz, efmk uz ftq etmpaie. \n",
            "\n",
            "xzgp ez esp plde le xtoytrse. oz yze rz tyez ezhy, delj ty esp dslozhd. \n",
            "\n",
            "wyfo dy dro okcd kd wsnxsqrd. ny xyd qy sxdy dygx, cdki sx dro crknygc. \n",
            "\n",
            "vxen cx cqn njbc jc vrmwrpqc. mx wxc px rwcx cxfw, bcjh rw cqn bqjmxfb. \n",
            "\n"
          ],
          "name": "stdout"
        }
      ]
    },
    {
      "cell_type": "markdown",
      "metadata": {
        "id": "63CmRLmelqwA"
      },
      "source": [
        "# **Challenge Answer 2**\r\n",
        "**The following Caesar Cipher uses modular arithmetic to encrypt and decrypt messages.**"
      ]
    },
    {
      "cell_type": "code",
      "metadata": {
        "id": "eMiXCXZvlqRd"
      },
      "source": [
        "#see the khan academy link to learn how to use modular arithmetic when implementing caesar cipher\r\n",
        "def caesar_cipher_modulo(key, message):\r\n",
        "  alphabet = dict(zip(string.ascii_lowercase, [i for i in range(len(string.ascii_lowercase))]))\r\n",
        "\r\n",
        "  cipher = []\r\n",
        "  for i in message:\r\n",
        "    if i.isalnum() == True:\r\n",
        "      cipher.append(list(alphabet.keys())[list(alphabet.values()).index((alphabet[i] + key) % len(alphabet))])\r\n",
        "    else:\r\n",
        "      cipher.append(i)\r\n",
        "\r\n",
        "  return ''.join(cipher)"
      ],
      "execution_count": null,
      "outputs": []
    },
    {
      "cell_type": "markdown",
      "metadata": {
        "id": "JTKt726atLtW"
      },
      "source": [
        "### **Caesar Cipher using Modular Arithmetic**"
      ]
    },
    {
      "cell_type": "code",
      "metadata": {
        "colab": {
          "base_uri": "https://localhost:8080/"
        },
        "id": "xvbynEzEozkK",
        "outputId": "6b170e95-0d39-44ee-a134-e02ecfa5d891"
      },
      "source": [
        "#testing our caesars cipher\r\n",
        "key = int(input('How many shifts do you want in your caesars cipher?\\n'))\r\n",
        "message = input('What is your message?\\n')\r\n",
        "\r\n",
        "caesar_message = caesar_cipher_modulo(key, message.lower())\r\n",
        "print(caesar_message)"
      ],
      "execution_count": null,
      "outputs": [
        {
          "output_type": "stream",
          "text": [
            "How many shifts do you want in your caesars cipher?\n",
            "4\n",
            "What is your message?\n",
            "hello world!\n",
            "lipps asvph!\n"
          ],
          "name": "stdout"
        }
      ]
    },
    {
      "cell_type": "markdown",
      "metadata": {
        "id": "IYrtZ_matC5K"
      },
      "source": [
        "#### **Decoding Caesar Cipher (Modular Arithmetic)**"
      ]
    },
    {
      "cell_type": "code",
      "metadata": {
        "colab": {
          "base_uri": "https://localhost:8080/"
        },
        "id": "MMTlft3ypIcl",
        "outputId": "65acbe42-3ee4-4089-f72d-2deef4550efc"
      },
      "source": [
        "#decoding the message\r\n",
        "def caesar_modulo_decoder(key, message):\r\n",
        "  alphabet = dict(zip(string.ascii_lowercase, [i for i in range(len(string.ascii_lowercase))]))\r\n",
        "\r\n",
        "  cipher = []\r\n",
        "  for i in message:\r\n",
        "    if i.isalnum() == True:\r\n",
        "      cipher.append(list(alphabet.keys())[list(alphabet.values()).index((alphabet[i] - key) % len(alphabet))])\r\n",
        "    else:\r\n",
        "      cipher.append(i)\r\n",
        "\r\n",
        "  return ''.join(cipher)\r\n",
        "\r\n",
        "decoder_key = int(input('How many shifts are in the caesars cipher?\\n'))\r\n",
        "encrypted_message = input('What is the encrypted message?\\n')\r\n",
        "decoded_message = caesar_modulo_decoder(decoder_key, encrypted_message.lower())\r\n",
        "print(decoded_message)"
      ],
      "execution_count": null,
      "outputs": [
        {
          "output_type": "stream",
          "text": [
            "How many shifts are in the caesars cipher?\n",
            "4\n",
            "What is the encrypted message?\n",
            "lipps asvph!\n",
            "hello world!\n"
          ],
          "name": "stdout"
        }
      ]
    },
    {
      "cell_type": "markdown",
      "metadata": {
        "id": "FDLFd904qPQ9"
      },
      "source": [
        "### **You can break the message the same way as before**"
      ]
    },
    {
      "cell_type": "markdown",
      "metadata": {
        "id": "b1zGseRjM_Ht"
      },
      "source": [
        "# **Kerckhoffs's Principle & Shannon's Maxim**\r\n",
        "\r\n",
        "**Kerckhoffs’ Principle states that the security of a cryptosystem must lie in the choice of its keys only; everything else (including the algorithm itself) should be considered public knowledge.**\r\n",
        "\r\n",
        "**Shannon's Maxim states that systems should be designed under the assumption that the enemy will immediately gain full familiarity with them.**\r\n",
        "\r\n",
        "\r\n",
        "<sup>Source: Website - [Kerckhoffs’ Principle](https://link.springer.com/referenceworkentry/10.1007%2F978-1-4419-5906-5_487) from Springer's Encyclopedia of Cryptography and Security webpage</sup>\r\n",
        "\r\n",
        "<sup>Source: Journal - [Communication Theory of Secrecy Systems](http://netlab.cs.ucla.edu/wiki/files/shannon1949.pdf) by Claude Shannon from the Bell System Technical Journal</sup>\r\n"
      ]
    },
    {
      "cell_type": "markdown",
      "metadata": {
        "id": "GHemxp2GVc-f"
      },
      "source": [
        "# **References and Additional Learning**"
      ]
    },
    {
      "cell_type": "markdown",
      "metadata": {
        "id": "kj3T_AQXVjLj"
      },
      "source": [
        "## **Online Courses**\r\n",
        "\r\n",
        "- **[Master Modern Security and Cryptography by Coding in Python](https://www.udemy.com/course/learn-modern-security-and-cryptography-by-coding-in-python/), Udemy course by Rune Thomsen**"
      ]
    },
    {
      "cell_type": "markdown",
      "metadata": {
        "id": "Zm36AaN9V5JP"
      },
      "source": [
        "## **Textbooks**\r\n",
        "- **[Implementing Cryptography Using Python](https://www.amazon.com/Implementing-Cryptography-Using-Python-Shannon/dp/1119612209/ref=sr_1_1?dchild=1&keywords=Implementing+Cryptography+Using+Python&qid=1609360861&s=books&sr=1-1) by Shannon Bray**\r\n",
        "- **[Practical Cryptography in Python: Learning Correct Cryptography by Example](https://www.amazon.com/Practical-Cryptography-Python-Learning-Correct/dp/1484248996/ref=sr_1_1?crid=1GKREMIFL2A0Y&dchild=1&keywords=practical+cryptography+in+python&qid=1609360771&s=books&sprefix=Practical+Cryptography+in+Python%2Cstripbooks%2C134&sr=1-1) by  Seth James Nielson and Christopher Monson**\r\n",
        "- **[Black Hat Python](https://www.amazon.com/Black-Hat-Python-Programming-Pentesters/dp/1593275900) by Justin Seitz**"
      ]
    },
    {
      "cell_type": "markdown",
      "metadata": {
        "id": "naOv_DcpWKaa"
      },
      "source": [
        "## **Podcasts**\r\n",
        "\r\n",
        "- **Talk Python Episode 37: [Python Cybersecurity and Penetration Testing](https://talkpython.fm/episodes/embed_details/37) with Justin Seitz**"
      ]
    },
    {
      "cell_type": "markdown",
      "metadata": {
        "id": "EH2dFdlSqfll"
      },
      "source": [
        "# **Math behind the Cipher**\r\n",
        "- **[Shift cipher](https://www.khanacademy.org/computing/computer-science/cryptography/ciphers/a/shift-cipher) article from Khan Academy**"
      ]
    },
    {
      "cell_type": "markdown",
      "metadata": {
        "id": "gq91O7ywQHwI"
      },
      "source": [
        "# **Connect**\r\n",
        "- **Join [TUDev](https://docs.google.com/forms/d/e/1FAIpQLSdsJbBbza_HsqhGM_5YjaSo-XnWug2KNCXv9CYQcXW4qtCQsw/viewform) and check out our [website](https://tudev.org/)!**\r\n",
        "\r\n",
        "- **Feel free to connect with Adrian on [YouTube](https://www.youtube.com/channel/UCPuDxI3xb_ryUUMfkm0jsRA), [LinkedIn](https://www.linkedin.com/in/adrian-dolinay-frm-96a289106/), [Twitter](https://twitter.com/DolinayG) and [GitHub](https://github.com/ad17171717). Happy coding!**"
      ]
    }
  ]
}