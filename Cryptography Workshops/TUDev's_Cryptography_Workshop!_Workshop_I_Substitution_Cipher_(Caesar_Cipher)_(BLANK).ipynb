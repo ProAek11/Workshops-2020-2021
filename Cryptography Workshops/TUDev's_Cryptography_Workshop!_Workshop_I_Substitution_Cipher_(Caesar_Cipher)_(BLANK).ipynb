{
  "nbformat": 4,
  "nbformat_minor": 0,
  "metadata": {
    "colab": {
      "name": "TUDev's Cryptography Workshop! Workshop I - Substitution Cipher (Caesar Cipher) (BLANK).ipynb",
      "provenance": [],
      "collapsed_sections": []
    },
    "kernelspec": {
      "name": "python3",
      "display_name": "Python 3"
    }
  },
  "cells": [
    {
      "cell_type": "code",
      "metadata": {
        "id": "4mBVx_zmQK5D"
      },
      "source": [
        "#libraries\r\n",
        "import string\r\n",
        "from collections import deque"
      ],
      "execution_count": null,
      "outputs": []
    },
    {
      "cell_type": "markdown",
      "metadata": {
        "id": "AFHQb8hIZipf"
      },
      "source": [
        "# **Substitution Cipher**\r\n",
        "**Is a rearrangement of the plaintext alphabet using ciphertext. The plaintext alphabet can be mapped to numbers, letters or some other unit using a fixed system.**\r\n",
        "\r\n",
        "<br/>\r\n",
        "<br/>\r\n",
        "\r\n",
        "<sup>Source: Website - [Simple Substitution Cipher](https://www.cs.uri.edu/cryptography/classicalsubstitution.htm) from the University of Rhode Island's cryptography webpage</sup>"
      ]
    },
    {
      "cell_type": "markdown",
      "metadata": {
        "id": "kUBBPg1lxS6s"
      },
      "source": [
        "# **Caesar Cipher**"
      ]
    },
    {
      "cell_type": "markdown",
      "metadata": {
        "id": "x1oyDpsUyO-a"
      },
      "source": [
        "## **Definition**\r\n",
        "\r\n",
        "**The Caesar Cipher is a Substitution Cipher and one of earliest known forms of Cryptography.**\r\n",
        "<br/>\r\n",
        "<br/>\r\n",
        "**Julius Caesar is said to have used this namesake cipher to communicate with his army. The letters in the Latin alphabet were shifted to create encrypted messages. Using the English alphabet as an example, if we shift the letters 4 places then in the Caesar Cipher the letter \"e\" will translate to \"a\". The number of shifts is also known as the cipher's key. A table of the shift can be seen below.**\r\n",
        "\r\n",
        "<br/>\r\n",
        "<br/>\r\n",
        "\r\n",
        "| Alphabet  | a  | b  | c  | d  | e  | f  | g  | h  | i  | j  | k  | l  | m  | n  | o  | p  | q  | r  |  s |  t | u  | v  | w  |  x |  y |  z |\r\n",
        "|---|---|---|---|---|---|---|---|---|---|---|---|---|---|---|---|---|---|---|---|---|---|---|---|---|---|---|\r\n",
        "| **Caesar Cipher (4 Shifts)**  | **e**  | **f**  | **g**  | **h**  | **i**  | **j**  | **k**  | **l**  | **m**  | **n**  | **o**  | **p**  | **q**  | **r**  | **s**  | **t**  | **u**  | **v**  |  **w** |  **x** | **y**  | **z**  | **a**  |  **b** |  **c** |  **d** |\r\n",
        "\r\n",
        "<br/>\r\n",
        "<br/>\r\n",
        "\r\n",
        "<sup>Source: Article - [Cracking the Code](https://www.cia.gov/news-information/featured-story-archive/2007-featured-story-archive/cracking-the-code.html) from the CIA's webpage</sup>"
      ]
    },
    {
      "cell_type": "markdown",
      "metadata": {
        "id": "AER-cZ3ag4Pt"
      },
      "source": [
        "## **Coding a Caesar Cipher**\r\n",
        "\r\n",
        "**Let's get started!**"
      ]
    },
    {
      "cell_type": "markdown",
      "metadata": {
        "id": "apxwK6PW-o3v"
      },
      "source": [
        "### **Caesar Cipher using Slicing**"
      ]
    },
    {
      "cell_type": "code",
      "metadata": {
        "id": "4hFodcD2vvM9"
      },
      "source": [
        ""
      ],
      "execution_count": null,
      "outputs": []
    },
    {
      "cell_type": "code",
      "metadata": {
        "id": "4Bl3dB7v5fOo"
      },
      "source": [
        ""
      ],
      "execution_count": null,
      "outputs": []
    },
    {
      "cell_type": "markdown",
      "metadata": {
        "id": "cNayJpRNEJeV"
      },
      "source": [
        "#### **Decoding Caesar Cipher (Slicing)**"
      ]
    },
    {
      "cell_type": "code",
      "metadata": {
        "id": "jIIl7s6fEIWR"
      },
      "source": [
        ""
      ],
      "execution_count": null,
      "outputs": []
    },
    {
      "cell_type": "markdown",
      "metadata": {
        "id": "9_2cXrfWHMS0"
      },
      "source": [
        "### **Breaking a Caesar Cipher**\r\n",
        "**What if we intercepted an encrypted message that we know was encrypted using Caesars Cipher. How could we break it? Would it be easy to break?**"
      ]
    },
    {
      "cell_type": "markdown",
      "metadata": {
        "id": "U8RbDSys3GLF"
      },
      "source": [
        "#### **Slicing**"
      ]
    },
    {
      "cell_type": "code",
      "metadata": {
        "id": "hG1L1608W6P9"
      },
      "source": [
        "intercepted_message = 'uwdm bw bpm miab ib uqlvqopb. lw vwb ow qvbw bwev, abig qv bpm apilwea.'"
      ],
      "execution_count": 1,
      "outputs": []
    },
    {
      "cell_type": "code",
      "metadata": {
        "id": "F1IP7m_N3D1d"
      },
      "source": [
        ""
      ],
      "execution_count": null,
      "outputs": []
    },
    {
      "cell_type": "markdown",
      "metadata": {
        "id": "pKgaPAF5xP5C"
      },
      "source": [
        "# **Challenge: Caesar Cipher**\r\n",
        "\r\n",
        "**How would you code a Caesar Cipher? Can you code it using an imported data structure? What about with modular arithmetic? How fast does your Caesar Cipher run when compared to the given example?**"
      ]
    },
    {
      "cell_type": "code",
      "metadata": {
        "id": "Tobo7GpbvEsI"
      },
      "source": [
        ""
      ],
      "execution_count": null,
      "outputs": []
    },
    {
      "cell_type": "code",
      "metadata": {
        "id": "LEYKto7nvEzu"
      },
      "source": [
        ""
      ],
      "execution_count": null,
      "outputs": []
    },
    {
      "cell_type": "code",
      "metadata": {
        "id": "hZSmYwOSvFB2"
      },
      "source": [
        ""
      ],
      "execution_count": null,
      "outputs": []
    },
    {
      "cell_type": "code",
      "metadata": {
        "id": "NDrxhwAnvFHG"
      },
      "source": [
        ""
      ],
      "execution_count": null,
      "outputs": []
    },
    {
      "cell_type": "markdown",
      "metadata": {
        "id": "b1zGseRjM_Ht"
      },
      "source": [
        "# **Kerckhoffs's Principle & Shannon's Maxim**\r\n",
        "\r\n",
        "**Kerckhoffs’ Principle states that the security of a cryptosystem must lie in the choice of its keys only; everything else (including the algorithm itself) should be considered public knowledge.**\r\n",
        "\r\n",
        "**Shannon's Maxim states that systems should be designed under the assumption that the enemy will immediately gain full familiarity with them.**\r\n",
        "\r\n",
        "\r\n",
        "<sup>Source: Website - [Kerckhoffs’ Principle](https://link.springer.com/referenceworkentry/10.1007%2F978-1-4419-5906-5_487) from Springer's Encyclopedia of Cryptography and Security webpage</sup>\r\n",
        "\r\n",
        "<sup>Source: Journal - [Communication Theory of Secrecy Systems](http://netlab.cs.ucla.edu/wiki/files/shannon1949.pdf) by Claude Shannon from the Bell System Technical Journal</sup>\r\n"
      ]
    },
    {
      "cell_type": "markdown",
      "metadata": {
        "id": "GHemxp2GVc-f"
      },
      "source": [
        "# **References and Additional Learning**"
      ]
    },
    {
      "cell_type": "markdown",
      "metadata": {
        "id": "kj3T_AQXVjLj"
      },
      "source": [
        "## **Online Courses**\r\n",
        "\r\n",
        "- **[Master Modern Security and Cryptography by Coding in Python](https://www.udemy.com/course/learn-modern-security-and-cryptography-by-coding-in-python/), Udemy course by Rune Thomsen**"
      ]
    },
    {
      "cell_type": "markdown",
      "metadata": {
        "id": "Zm36AaN9V5JP"
      },
      "source": [
        "## **Textbooks**\r\n",
        "- **[Implementing Cryptography Using Python](https://www.amazon.com/Implementing-Cryptography-Using-Python-Shannon/dp/1119612209/ref=sr_1_1?dchild=1&keywords=Implementing+Cryptography+Using+Python&qid=1609360861&s=books&sr=1-1) by Shannon Bray**\r\n",
        "- **[Practical Cryptography in Python: Learning Correct Cryptography by Example](https://www.amazon.com/Practical-Cryptography-Python-Learning-Correct/dp/1484248996/ref=sr_1_1?crid=1GKREMIFL2A0Y&dchild=1&keywords=practical+cryptography+in+python&qid=1609360771&s=books&sprefix=Practical+Cryptography+in+Python%2Cstripbooks%2C134&sr=1-1) by  Seth James Nielson and Christopher Monson**\r\n",
        "- **[Black Hat Python](https://www.amazon.com/Black-Hat-Python-Programming-Pentesters/dp/1593275900) by Justin Seitz**"
      ]
    },
    {
      "cell_type": "markdown",
      "metadata": {
        "id": "naOv_DcpWKaa"
      },
      "source": [
        "## **Podcasts**\r\n",
        "\r\n",
        "- **Talk Python Episode 37: [Python Cybersecurity and Penetration Testing](https://talkpython.fm/episodes/embed_details/37) with Justin Seitz**"
      ]
    },
    {
      "cell_type": "markdown",
      "metadata": {
        "id": "EH2dFdlSqfll"
      },
      "source": [
        "# **Math behind the Cipher**\r\n",
        "- **[Shift cipher](https://www.khanacademy.org/computing/computer-science/cryptography/ciphers/a/shift-cipher) article from Khan Academy**"
      ]
    },
    {
      "cell_type": "markdown",
      "metadata": {
        "id": "gq91O7ywQHwI"
      },
      "source": [
        "# **Connect**\r\n",
        "- **Join [TUDev](https://docs.google.com/forms/d/e/1FAIpQLSdsJbBbza_HsqhGM_5YjaSo-XnWug2KNCXv9CYQcXW4qtCQsw/viewform) and check out our [website](https://tudev.org/)!**\r\n",
        "\r\n",
        "- **Feel free to connect with Adrian on [YouTube](https://www.youtube.com/channel/UCPuDxI3xb_ryUUMfkm0jsRA), [LinkedIn](https://www.linkedin.com/in/adrian-dolinay-frm-96a289106/), [Twitter](https://twitter.com/DolinayG) and [GitHub](https://github.com/ad17171717). Happy coding!**"
      ]
    }
  ]
}