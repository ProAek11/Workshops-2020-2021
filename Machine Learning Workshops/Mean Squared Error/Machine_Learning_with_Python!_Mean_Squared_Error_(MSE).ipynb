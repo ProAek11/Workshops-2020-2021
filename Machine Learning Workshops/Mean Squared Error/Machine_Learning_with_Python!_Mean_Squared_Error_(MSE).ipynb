{
  "nbformat": 4,
  "nbformat_minor": 0,
  "metadata": {
    "colab": {
      "name": "Machine Learning with Python! Mean Squared Error (MSE).ipynb",
      "provenance": [],
      "collapsed_sections": []
    },
    "kernelspec": {
      "name": "python3",
      "display_name": "Python 3"
    },
    "language_info": {
      "name": "python"
    }
  },
  "cells": [
    {
      "cell_type": "code",
      "metadata": {
        "id": "bIyzr7vXvpJ7"
      },
      "source": [
        "import numpy as np\n",
        "from numpy.linalg import inv\n",
        "import pandas as pd\n",
        "from sklearn.metrics import mean_squared_error\n",
        "from sklearn.model_selection import train_test_split\n",
        "from sklearn.linear_model import LinearRegression\n",
        "from sklearn import tree\n",
        "import matplotlib.pyplot as plt\n",
        "import plotly.express as px\n",
        "import plotly.graph_objects as go"
      ],
      "execution_count": null,
      "outputs": []
    },
    {
      "cell_type": "code",
      "metadata": {
        "id": "Gkxl1NyKxLIU"
      },
      "source": [
        "def sigmoid(x):\n",
        "  return 1/(1+np.e^(-x))\n",
        "\n",
        "for i in range(-100,100):\n",
        "  print(sigmoid(i))"
      ],
      "execution_count": null,
      "outputs": []
    },
    {
      "cell_type": "code",
      "metadata": {
        "id": "EkIRpAXc7nyf"
      },
      "source": [
        "plt.rcParams[\"figure.figsize\"] = (14,10)\n",
        "plt.rcParams.update({'font.size': 14})"
      ],
      "execution_count": null,
      "outputs": []
    },
    {
      "cell_type": "markdown",
      "metadata": {
        "id": "6R_sYQ_9bzP4"
      },
      "source": [
        "# **Mean Squared Error**\n",
        "\n",
        "**Mean squared error (MSE) is the sum of squared differences\n",
        "between the predicted and true values. As the error rate increases, the MSE penalty grows quadratically, which heavily penalizes a model. A downside to MSE is if applied to a data set with a few outliers, it can heavily penalize a model.**\n",
        "\n",
        "**MSE is one of the most popular tools to measure how accurate models are within statistics and machine learning.**\n",
        "\n",
        "**Within Machine Learning, MSE is used as a loss function or part of a loss function that an algorithm minimizes.**\n",
        "\n",
        "### $MSE = \\displaystyle \\frac{1}{N}\\sum_{i=0}^N (y_i - \\hat{y_i})^2 = \\displaystyle \\frac{1}{N}\\sum_{i=0}^N (error_i)^2$\n",
        "\n",
        "### $\\text{Where: $N$=number of observed values, $y_i$ = observed target value, $\\hat{y}=$ predicted}$\n",
        "\n",
        "### $\\text{target value.}$"
      ]
    },
    {
      "cell_type": "markdown",
      "metadata": {
        "id": "GtN3GJSdxBam"
      },
      "source": [
        "Source: [Introduction to Machine Learning with Python](https://www.oreilly.com/library/view/introduction-to-machine/9781449369880/) by Andreas C. Müller and Sarah Guido"
      ]
    },
    {
      "cell_type": "code",
      "metadata": {
        "id": "IDpvrQ58vsp4"
      },
      "source": [
        "df = pd.read_csv('/content/drive/MyDrive/Colab Notebooks/TUDev + YouTube Vids/YouTube Vids/Machine Learning/Machine Learning with Python! Mean Squared Error (MSE)/nba_draft_combine_all_years.csv')"
      ],
      "execution_count": null,
      "outputs": []
    },
    {
      "cell_type": "markdown",
      "metadata": {
        "id": "klWXqQeTxUq2"
      },
      "source": [
        "Data Source: [data.world](https://data.world/achou/nba-draft-combine-measurements)"
      ]
    },
    {
      "cell_type": "code",
      "metadata": {
        "colab": {
          "base_uri": "https://localhost:8080/",
          "height": 206
        },
        "id": "2_cUfhAy0Lju",
        "outputId": "97b0a59e-645a-4c0b-b599-dcb7b96d0fa1"
      },
      "source": [
        "df.head()"
      ],
      "execution_count": null,
      "outputs": [
        {
          "output_type": "execute_result",
          "data": {
            "text/html": [
              "<div>\n",
              "<style scoped>\n",
              "    .dataframe tbody tr th:only-of-type {\n",
              "        vertical-align: middle;\n",
              "    }\n",
              "\n",
              "    .dataframe tbody tr th {\n",
              "        vertical-align: top;\n",
              "    }\n",
              "\n",
              "    .dataframe thead th {\n",
              "        text-align: right;\n",
              "    }\n",
              "</style>\n",
              "<table border=\"1\" class=\"dataframe\">\n",
              "  <thead>\n",
              "    <tr style=\"text-align: right;\">\n",
              "      <th></th>\n",
              "      <th>Player</th>\n",
              "      <th>Year</th>\n",
              "      <th>Weight</th>\n",
              "      <th>Height (No Shoes)</th>\n",
              "    </tr>\n",
              "  </thead>\n",
              "  <tbody>\n",
              "    <tr>\n",
              "      <th>0</th>\n",
              "      <td>Tyler Ulis</td>\n",
              "      <td>2016</td>\n",
              "      <td>149</td>\n",
              "      <td>68.75</td>\n",
              "    </tr>\n",
              "    <tr>\n",
              "      <th>1</th>\n",
              "      <td>Russ Smith</td>\n",
              "      <td>2014</td>\n",
              "      <td>160</td>\n",
              "      <td>71.50</td>\n",
              "    </tr>\n",
              "    <tr>\n",
              "      <th>2</th>\n",
              "      <td>Eric Maynor</td>\n",
              "      <td>2009</td>\n",
              "      <td>164</td>\n",
              "      <td>74.25</td>\n",
              "    </tr>\n",
              "    <tr>\n",
              "      <th>3</th>\n",
              "      <td>Marcus Paige</td>\n",
              "      <td>2016</td>\n",
              "      <td>164</td>\n",
              "      <td>72.50</td>\n",
              "    </tr>\n",
              "    <tr>\n",
              "      <th>4</th>\n",
              "      <td>Dennis Schroeder</td>\n",
              "      <td>2013</td>\n",
              "      <td>165</td>\n",
              "      <td>73.00</td>\n",
              "    </tr>\n",
              "  </tbody>\n",
              "</table>\n",
              "</div>"
            ],
            "text/plain": [
              "             Player  Year  Weight  Height (No Shoes)\n",
              "0        Tyler Ulis  2016     149              68.75\n",
              "1        Russ Smith  2014     160              71.50\n",
              "2       Eric Maynor  2009     164              74.25\n",
              "3      Marcus Paige  2016     164              72.50\n",
              "4  Dennis Schroeder  2013     165              73.00"
            ]
          },
          "metadata": {},
          "execution_count": 5
        }
      ]
    },
    {
      "cell_type": "markdown",
      "metadata": {
        "id": "J5OVKEbcbuwx"
      },
      "source": [
        "## **Exploratory Data Analysis**"
      ]
    },
    {
      "cell_type": "code",
      "metadata": {
        "colab": {
          "base_uri": "https://localhost:8080/",
          "height": 614
        },
        "id": "zEp4ZaBE0PvV",
        "outputId": "e99c3d26-364c-4823-d512-d84235878bc8"
      },
      "source": [
        "plt.scatter(df['Weight'], df['Height (No Shoes)'])\n",
        "plt.xlabel('Weight in Lbs.')\n",
        "plt.ylabel('Height in Inches');"
      ],
      "execution_count": null,
      "outputs": [
        {
          "output_type": "display_data",
          "data": {
            "image/png": "[encoded data removed]",
            "text/plain": [
              "<Figure size 1008x720 with 1 Axes>"
            ]
          },
          "metadata": {
            "needs_background": "light"
          }
        }
      ]
    },
    {
      "cell_type": "code",
      "metadata": {
        "colab": {
          "base_uri": "https://localhost:8080/"
        },
        "id": "aFMRB3hHbf00",
        "outputId": "2800cb15-0abf-4a40-cb6d-08953db202e8"
      },
      "source": [
        "df.corr()['Height (No Shoes)']"
      ],
      "execution_count": null,
      "outputs": [
        {
          "output_type": "execute_result",
          "data": {
            "text/plain": [
              "Year                 0.007057\n",
              "Weight               0.741515\n",
              "Height (No Shoes)    1.000000\n",
              "Name: Height (No Shoes), dtype: float64"
            ]
          },
          "metadata": {},
          "execution_count": 7
        }
      ]
    },
    {
      "cell_type": "markdown",
      "metadata": {
        "id": "jEY9Oc_Ez7sl"
      },
      "source": [
        "## **Modeling and Forecasting**"
      ]
    },
    {
      "cell_type": "code",
      "metadata": {
        "id": "9nhlQ5M92D5U"
      },
      "source": [
        "#split data into training and testing sets\n",
        "X_train, X_test, y_train, y_test = train_test_split(df['Weight'].to_numpy(),df['Height (No Shoes)'].to_numpy(), test_size=0.25, random_state=5)\n",
        "\n",
        "#linear regression model\n",
        "linear_reg = LinearRegression()\n",
        "#decision tree model\n",
        "decision_tree = tree.DecisionTreeRegressor()\n",
        "\n",
        "#fit/predict data\n",
        "linear_reg.fit(X_train.reshape(-1, 1), y_train)\n",
        "decision_tree = decision_tree.fit(X_train.reshape(-1, 1),y_train)\n",
        "linreg_heights = linear_reg.predict(X_test.reshape(-1, 1))\n",
        "d_tree_heights = decision_tree.predict(X_test.reshape(-1, 1))\n",
        "df_predict = pd.DataFrame({'Weight':X_test,'Actual Height':y_test,'Lin Reg Predicted Height':linreg_heights, 'Decision Tree Predicted Height':d_tree_heights})"
      ],
      "execution_count": null,
      "outputs": []
    },
    {
      "cell_type": "code",
      "metadata": {
        "colab": {
          "base_uri": "https://localhost:8080/",
          "height": 424
        },
        "id": "HoGP2e362va4",
        "outputId": "66e5d84c-48cc-4a28-8a76-cb397195a6ec"
      },
      "source": [
        "df_predict"
      ],
      "execution_count": null,
      "outputs": [
        {
          "output_type": "execute_result",
          "data": {
            "text/html": [
              "<div>\n",
              "<style scoped>\n",
              "    .dataframe tbody tr th:only-of-type {\n",
              "        vertical-align: middle;\n",
              "    }\n",
              "\n",
              "    .dataframe tbody tr th {\n",
              "        vertical-align: top;\n",
              "    }\n",
              "\n",
              "    .dataframe thead th {\n",
              "        text-align: right;\n",
              "    }\n",
              "</style>\n",
              "<table border=\"1\" class=\"dataframe\">\n",
              "  <thead>\n",
              "    <tr style=\"text-align: right;\">\n",
              "      <th></th>\n",
              "      <th>Weight</th>\n",
              "      <th>Actual Height</th>\n",
              "      <th>Lin Reg Predicted Height</th>\n",
              "      <th>Decision Tree Predicted Height</th>\n",
              "    </tr>\n",
              "  </thead>\n",
              "  <tbody>\n",
              "    <tr>\n",
              "      <th>0</th>\n",
              "      <td>223</td>\n",
              "      <td>82.00</td>\n",
              "      <td>78.420682</td>\n",
              "      <td>77.535714</td>\n",
              "    </tr>\n",
              "    <tr>\n",
              "      <th>1</th>\n",
              "      <td>227</td>\n",
              "      <td>79.50</td>\n",
              "      <td>78.827627</td>\n",
              "      <td>78.964286</td>\n",
              "    </tr>\n",
              "    <tr>\n",
              "      <th>2</th>\n",
              "      <td>227</td>\n",
              "      <td>78.00</td>\n",
              "      <td>78.827627</td>\n",
              "      <td>78.964286</td>\n",
              "    </tr>\n",
              "    <tr>\n",
              "      <th>3</th>\n",
              "      <td>199</td>\n",
              "      <td>75.25</td>\n",
              "      <td>75.979008</td>\n",
              "      <td>78.375000</td>\n",
              "    </tr>\n",
              "    <tr>\n",
              "      <th>4</th>\n",
              "      <td>216</td>\n",
              "      <td>81.25</td>\n",
              "      <td>77.708527</td>\n",
              "      <td>77.083333</td>\n",
              "    </tr>\n",
              "    <tr>\n",
              "      <th>...</th>\n",
              "      <td>...</td>\n",
              "      <td>...</td>\n",
              "      <td>...</td>\n",
              "      <td>...</td>\n",
              "    </tr>\n",
              "    <tr>\n",
              "      <th>124</th>\n",
              "      <td>206</td>\n",
              "      <td>82.00</td>\n",
              "      <td>76.691163</td>\n",
              "      <td>76.950000</td>\n",
              "    </tr>\n",
              "    <tr>\n",
              "      <th>125</th>\n",
              "      <td>182</td>\n",
              "      <td>74.25</td>\n",
              "      <td>74.249490</td>\n",
              "      <td>74.937500</td>\n",
              "    </tr>\n",
              "    <tr>\n",
              "      <th>126</th>\n",
              "      <td>196</td>\n",
              "      <td>74.75</td>\n",
              "      <td>75.673799</td>\n",
              "      <td>76.041667</td>\n",
              "    </tr>\n",
              "    <tr>\n",
              "      <th>127</th>\n",
              "      <td>170</td>\n",
              "      <td>74.00</td>\n",
              "      <td>73.028653</td>\n",
              "      <td>70.000000</td>\n",
              "    </tr>\n",
              "    <tr>\n",
              "      <th>128</th>\n",
              "      <td>221</td>\n",
              "      <td>80.75</td>\n",
              "      <td>78.217209</td>\n",
              "      <td>76.000000</td>\n",
              "    </tr>\n",
              "  </tbody>\n",
              "</table>\n",
              "<p>129 rows × 4 columns</p>\n",
              "</div>"
            ],
            "text/plain": [
              "     Weight  ...  Decision Tree Predicted Height\n",
              "0       223  ...                       77.535714\n",
              "1       227  ...                       78.964286\n",
              "2       227  ...                       78.964286\n",
              "3       199  ...                       78.375000\n",
              "4       216  ...                       77.083333\n",
              "..      ...  ...                             ...\n",
              "124     206  ...                       76.950000\n",
              "125     182  ...                       74.937500\n",
              "126     196  ...                       76.041667\n",
              "127     170  ...                       70.000000\n",
              "128     221  ...                       76.000000\n",
              "\n",
              "[129 rows x 4 columns]"
            ]
          },
          "metadata": {},
          "execution_count": 9
        }
      ]
    },
    {
      "cell_type": "markdown",
      "metadata": {
        "id": "08xBNRftzfNO"
      },
      "source": [
        "## **Model Error Calculation**"
      ]
    },
    {
      "cell_type": "code",
      "metadata": {
        "id": "KTOXUC9g3GZn"
      },
      "source": [
        "df_predict['Forecast Error Lin Reg'] = df_predict['Actual Height'] - df_predict['Lin Reg Predicted Height']\n",
        "df_predict['Forecast Error Decision Tree'] = df_predict['Actual Height'] - df_predict['Decision Tree Predicted Height']"
      ],
      "execution_count": null,
      "outputs": []
    },
    {
      "cell_type": "code",
      "metadata": {
        "colab": {
          "base_uri": "https://localhost:8080/",
          "height": 424
        },
        "id": "zlRYEnxU7PX5",
        "outputId": "f7deb99d-2d1c-48df-c5c4-adbe1bd74ef6"
      },
      "source": [
        "df_predict"
      ],
      "execution_count": null,
      "outputs": [
        {
          "output_type": "execute_result",
          "data": {
            "text/html": [
              "<div>\n",
              "<style scoped>\n",
              "    .dataframe tbody tr th:only-of-type {\n",
              "        vertical-align: middle;\n",
              "    }\n",
              "\n",
              "    .dataframe tbody tr th {\n",
              "        vertical-align: top;\n",
              "    }\n",
              "\n",
              "    .dataframe thead th {\n",
              "        text-align: right;\n",
              "    }\n",
              "</style>\n",
              "<table border=\"1\" class=\"dataframe\">\n",
              "  <thead>\n",
              "    <tr style=\"text-align: right;\">\n",
              "      <th></th>\n",
              "      <th>Weight</th>\n",
              "      <th>Actual Height</th>\n",
              "      <th>Lin Reg Predicted Height</th>\n",
              "      <th>Decision Tree Predicted Height</th>\n",
              "      <th>Forecast Error Lin Reg</th>\n",
              "      <th>Forecast Error Decision Tree</th>\n",
              "    </tr>\n",
              "  </thead>\n",
              "  <tbody>\n",
              "    <tr>\n",
              "      <th>0</th>\n",
              "      <td>223</td>\n",
              "      <td>82.00</td>\n",
              "      <td>78.420682</td>\n",
              "      <td>77.535714</td>\n",
              "      <td>3.579318</td>\n",
              "      <td>4.464286</td>\n",
              "    </tr>\n",
              "    <tr>\n",
              "      <th>1</th>\n",
              "      <td>227</td>\n",
              "      <td>79.50</td>\n",
              "      <td>78.827627</td>\n",
              "      <td>78.964286</td>\n",
              "      <td>0.672373</td>\n",
              "      <td>0.535714</td>\n",
              "    </tr>\n",
              "    <tr>\n",
              "      <th>2</th>\n",
              "      <td>227</td>\n",
              "      <td>78.00</td>\n",
              "      <td>78.827627</td>\n",
              "      <td>78.964286</td>\n",
              "      <td>-0.827627</td>\n",
              "      <td>-0.964286</td>\n",
              "    </tr>\n",
              "    <tr>\n",
              "      <th>3</th>\n",
              "      <td>199</td>\n",
              "      <td>75.25</td>\n",
              "      <td>75.979008</td>\n",
              "      <td>78.375000</td>\n",
              "      <td>-0.729008</td>\n",
              "      <td>-3.125000</td>\n",
              "    </tr>\n",
              "    <tr>\n",
              "      <th>4</th>\n",
              "      <td>216</td>\n",
              "      <td>81.25</td>\n",
              "      <td>77.708527</td>\n",
              "      <td>77.083333</td>\n",
              "      <td>3.541473</td>\n",
              "      <td>4.166667</td>\n",
              "    </tr>\n",
              "    <tr>\n",
              "      <th>...</th>\n",
              "      <td>...</td>\n",
              "      <td>...</td>\n",
              "      <td>...</td>\n",
              "      <td>...</td>\n",
              "      <td>...</td>\n",
              "      <td>...</td>\n",
              "    </tr>\n",
              "    <tr>\n",
              "      <th>124</th>\n",
              "      <td>206</td>\n",
              "      <td>82.00</td>\n",
              "      <td>76.691163</td>\n",
              "      <td>76.950000</td>\n",
              "      <td>5.308837</td>\n",
              "      <td>5.050000</td>\n",
              "    </tr>\n",
              "    <tr>\n",
              "      <th>125</th>\n",
              "      <td>182</td>\n",
              "      <td>74.25</td>\n",
              "      <td>74.249490</td>\n",
              "      <td>74.937500</td>\n",
              "      <td>0.000510</td>\n",
              "      <td>-0.687500</td>\n",
              "    </tr>\n",
              "    <tr>\n",
              "      <th>126</th>\n",
              "      <td>196</td>\n",
              "      <td>74.75</td>\n",
              "      <td>75.673799</td>\n",
              "      <td>76.041667</td>\n",
              "      <td>-0.923799</td>\n",
              "      <td>-1.291667</td>\n",
              "    </tr>\n",
              "    <tr>\n",
              "      <th>127</th>\n",
              "      <td>170</td>\n",
              "      <td>74.00</td>\n",
              "      <td>73.028653</td>\n",
              "      <td>70.000000</td>\n",
              "      <td>0.971347</td>\n",
              "      <td>4.000000</td>\n",
              "    </tr>\n",
              "    <tr>\n",
              "      <th>128</th>\n",
              "      <td>221</td>\n",
              "      <td>80.75</td>\n",
              "      <td>78.217209</td>\n",
              "      <td>76.000000</td>\n",
              "      <td>2.532791</td>\n",
              "      <td>4.750000</td>\n",
              "    </tr>\n",
              "  </tbody>\n",
              "</table>\n",
              "<p>129 rows × 6 columns</p>\n",
              "</div>"
            ],
            "text/plain": [
              "     Weight  ...  Forecast Error Decision Tree\n",
              "0       223  ...                      4.464286\n",
              "1       227  ...                      0.535714\n",
              "2       227  ...                     -0.964286\n",
              "3       199  ...                     -3.125000\n",
              "4       216  ...                      4.166667\n",
              "..      ...  ...                           ...\n",
              "124     206  ...                      5.050000\n",
              "125     182  ...                     -0.687500\n",
              "126     196  ...                     -1.291667\n",
              "127     170  ...                      4.000000\n",
              "128     221  ...                      4.750000\n",
              "\n",
              "[129 rows x 6 columns]"
            ]
          },
          "metadata": {},
          "execution_count": 11
        }
      ]
    },
    {
      "cell_type": "markdown",
      "metadata": {
        "id": "k0EnrBfKUY3S"
      },
      "source": [
        "\n",
        "## **Mean Squared Error Calculation**"
      ]
    },
    {
      "cell_type": "markdown",
      "metadata": {
        "id": "zOIHRSXksCbx"
      },
      "source": [
        "## $MSE = \\frac{1}{N} \\displaystyle \\sum_{i=0}^N (error_i)^2$"
      ]
    },
    {
      "cell_type": "code",
      "metadata": {
        "id": "uxbm1kQgzCNC"
      },
      "source": [
        "#%%timeit\n",
        "sum([(x**2)*(1/len(df_predict)) for x in df_predict['Forecast Error Lin Reg']])"
      ],
      "execution_count": null,
      "outputs": []
    },
    {
      "cell_type": "markdown",
      "metadata": {
        "id": "2Cyxp7vqsP5K"
      },
      "source": [
        "## $MSE = \\frac{1}{N} \\ error^{\\text{T}}error$\n",
        "\n",
        "$\\text{Where: }error= [error_1, error_2, ... , error_N]$"
      ]
    },
    {
      "cell_type": "code",
      "metadata": {
        "id": "NwJlTlOyx9u4"
      },
      "source": [
        "#%%timeit\n",
        "np.dot(df_predict['Forecast Error Lin Reg'], df_predict['Forecast Error Lin Reg'])*(1/len(df_predict))"
      ],
      "execution_count": null,
      "outputs": []
    },
    {
      "cell_type": "markdown",
      "metadata": {
        "id": "YjoaFLz4tMTN"
      },
      "source": [
        "### **Using scikit-learn's `mean_squared_error` function**"
      ]
    },
    {
      "cell_type": "code",
      "metadata": {
        "id": "dJ97w7eBzUAJ"
      },
      "source": [
        "#%%timeit\n",
        "mean_squared_error(df_predict['Actual Height'], df_predict['Lin Reg Predicted Height'])"
      ],
      "execution_count": null,
      "outputs": []
    },
    {
      "cell_type": "code",
      "metadata": {
        "id": "i7udFjkodqoY"
      },
      "source": [
        "def mse(error_array):\n",
        "  return np.dot(error_array, error_array)*(1/len(error_array))"
      ],
      "execution_count": null,
      "outputs": []
    },
    {
      "cell_type": "code",
      "metadata": {
        "id": "Vmzk1org4gny"
      },
      "source": [
        "mse(df_predict['Forecast Error Lin Reg'])"
      ],
      "execution_count": null,
      "outputs": []
    },
    {
      "cell_type": "markdown",
      "metadata": {
        "id": "f4XZh6FE78dO"
      },
      "source": [
        "## **Graphing the Error**"
      ]
    },
    {
      "cell_type": "code",
      "metadata": {
        "id": "sziYXXZeROF6"
      },
      "source": [
        "weight_range = np.arange(df['Weight'].min(),df['Weight'].max())\n",
        "height_range_lr = linear_reg.predict(weight_range.reshape(-1,1))"
      ],
      "execution_count": null,
      "outputs": []
    },
    {
      "cell_type": "code",
      "metadata": {
        "id": "BjLJgUbLttnX"
      },
      "source": [
        "fig = px.scatter(df_predict, x='Weight',y='Actual Height', title='Linear Regression Model')\n",
        "fig.add_trace(go.Scatter(x=weight_range,y=height_range_lr,mode=\"lines\",name='Linear Regression Model'))\n",
        "fig.show()"
      ],
      "execution_count": null,
      "outputs": []
    },
    {
      "cell_type": "code",
      "metadata": {
        "id": "vJNXph0AV1aY"
      },
      "source": [
        "height_range_d = decision_tree.predict(weight_range.reshape(-1,1))"
      ],
      "execution_count": null,
      "outputs": []
    },
    {
      "cell_type": "code",
      "metadata": {
        "id": "-sOHjny3Mi4V"
      },
      "source": [
        "fig = px.scatter(df_predict, x='Weight',y='Actual Height', title='Decision Tree Model')\n",
        "fig.add_trace(go.Scatter(x=weight_range,y=height_range_d,mode=\"lines\",name='Decision Tree Model'))\n",
        "fig.show()"
      ],
      "execution_count": null,
      "outputs": []
    },
    {
      "cell_type": "code",
      "metadata": {
        "id": "qB23Wu5gQ1B9"
      },
      "source": [
        "df_predict.sort_values('Weight')"
      ],
      "execution_count": null,
      "outputs": []
    },
    {
      "cell_type": "markdown",
      "metadata": {
        "id": "a9ixyQslBXu6"
      },
      "source": [
        "## **Iterating to find the minimum Mean Squared Error for a parameter in a Linear Regression Model**\n",
        "\n",
        "**Linear Regression model for NBA Player Heights: Height = Intercept + $\\\\beta_1$(Weight)=**\n",
        "\n",
        "**Height = 55.73 + 0.1017(Weight)**"
      ]
    },
    {
      "cell_type": "code",
      "metadata": {
        "id": "JsAuP0Z3_YWN"
      },
      "source": [
        "mse_list = []\n",
        "\n",
        "for num in np.arange(30,70,.001):\n",
        "  mse_list.append(mse(df_predict['Weight'] * linear_reg.coef_[0] + num - df_predict['Actual Height']))"
      ],
      "execution_count": null,
      "outputs": []
    },
    {
      "cell_type": "code",
      "metadata": {
        "id": "E7dZoLGW_kEO"
      },
      "source": [
        "plt.scatter(np.arange(30,70,.001)[mse_list.index(min(mse_list))], min(mse_list), color='red', s=250,\n",
        "            label = f'Intercept Estimate: {np.arange(30,70,.001)[mse_list.index(min(mse_list))]:.2f}\\nMean Squared Error: {min(mse_list):.2f}',zorder=2)\n",
        "plt.plot(np.arange(30,70,.001), mse_list, lw = 7,zorder=1)\n",
        "plt.xlabel('Intercept Estimate')\n",
        "plt.ylabel('Mean Squared Error')\n",
        "plt.legend();"
      ],
      "execution_count": null,
      "outputs": []
    },
    {
      "cell_type": "code",
      "metadata": {
        "id": "FntasFANE4eB"
      },
      "source": [
        "linear_reg.intercept_"
      ],
      "execution_count": null,
      "outputs": []
    },
    {
      "cell_type": "markdown",
      "metadata": {
        "id": "xuhyx9qmd4tm"
      },
      "source": [
        "# **References and Additional Learning**"
      ]
    },
    {
      "cell_type": "markdown",
      "metadata": {
        "id": "3zQrvljguoRA"
      },
      "source": [
        "## **Data Set**\n",
        "\n",
        "- **[NBA Draft Combine Measurements from data.world](https://data.world/achou/nba-draft-combine-measurements)**\n",
        "\n",
        "\n",
        "## **Textbook**\n",
        "- **[Introduction to Machine Learning with Python](https://www.oreilly.com/library/view/introduction-to-machine/9781449369880/) by Andreas C. Müller and Sarah Guido**\n",
        "\n",
        "\n",
        "## **Websites**\n",
        "\n",
        "- **[scikit-learn Documentation](https://scikit-learn.org/0.21/documentation.html)**"
      ]
    },
    {
      "cell_type": "markdown",
      "metadata": {
        "id": "EVRci4LLd-bi"
      },
      "source": [
        "# **Connect**\n",
        "\n",
        "- **Feel free to connect with Adrian on [YouTube](https://www.youtube.com/channel/UCPuDxI3xb_ryUUMfkm0jsRA), [LinkedIn](https://www.linkedin.com/in/adrian-dolinay-frm-96a289106/), [Twitter](https://twitter.com/DolinayG) and [GitHub](https://github.com/ad17171717)**"
      ]
    }
  ]
}