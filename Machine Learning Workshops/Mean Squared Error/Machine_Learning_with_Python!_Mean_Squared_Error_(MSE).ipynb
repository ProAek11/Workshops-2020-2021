{
 "cells": [
  {
   "cell_type": "code",
   "execution_count": null,
   "metadata": {
    "id": "bIyzr7vXvpJ7"
   },
   "outputs": [],
   "source": [
    "import numpy as np\n",
    "from numpy.linalg import inv\n",
    "import pandas as pd\n",
    "from sklearn.metrics import mean_squared_error\n",
    "from sklearn.model_selection import train_test_split\n",
    "from sklearn.linear_model import LinearRegression\n",
    "from sklearn import tree\n",
    "import matplotlib.pyplot as plt\n",
    "import plotly.express as px\n",
    "import plotly.graph_objects as go"
   ]
  },
  {
   "cell_type": "code",
   "execution_count": null,
   "metadata": {
    "id": "EkIRpAXc7nyf"
   },
   "outputs": [],
   "source": [
    "plt.rcParams[\"figure.figsize\"] = (14,10)\n",
    "plt.rcParams.update({'font.size': 14})"
   ]
  },
  {
   "cell_type": "markdown",
   "metadata": {
    "id": "6R_sYQ_9bzP4"
   },
   "source": [
    "# **Mean Squared Error**\n",
    "\n",
    "**Mean squared error (MSE) is the sum of squared differences\n",
    "between the predicted and true values. As the error rate increases, the MSE penalty grows quadratically, which heavily penalizes a model. A downside to MSE is if applied to a data set with a few outliers, it can heavily penalize a model.**\n",
    "\n",
    "**MSE is one of the most popular tools to measure how accurate models are within statistics and machine learning.**\n",
    "\n",
    "**Within Machine Learning, MSE is used as a loss function or part of a loss function that an algorithm minimizes.**\n",
    "\n",
    "### $MSE = \\displaystyle \\sum_{i=0}^N (y_i - \\hat{y_i})^2 = \\displaystyle \\sum_{i=0}^N (error_i)^2$\n",
    "\n",
    "### $\\text{Where: $N$=number of observed values, $y_i$ = observed target value, $\\hat{y}=$ predicted}$\n",
    "\n",
    "### $\\text{target value.}$"
   ]
  },
  {
   "cell_type": "markdown",
   "metadata": {
    "id": "GtN3GJSdxBam"
   },
   "source": [
    "Source: [Introduction to Machine Learning with Python](https://www.oreilly.com/library/view/introduction-to-machine/9781449369880/) by Andreas C. Müller and Sarah Guido"
   ]
  },
  {
   "cell_type": "code",
   "execution_count": null,
   "metadata": {
    "id": "IDpvrQ58vsp4"
   },
   "outputs": [],
   "source": [
    "df = pd.read_csv('/content/drive/MyDrive/Colab Notebooks/TUDev + YouTube Vids/YouTube Vids/Machine Learning with Python! Mean Squared Error (MSE)/nba_draft_combine_all_years.csv')"
   ]
  },
  {
   "cell_type": "markdown",
   "metadata": {
    "id": "klWXqQeTxUq2"
   },
   "source": [
    "Data Source: [data.world](https://data.world/achou/nba-draft-combine-measurements)"
   ]
  },
  {
   "cell_type": "code",
   "execution_count": null,
   "metadata": {
    "colab": {
     "base_uri": "https://localhost:8080/",
     "height": 206
    },
    "id": "2_cUfhAy0Lju",
    "outputId": "3932b5c6-0dd8-46ab-bf4e-96ad6d173fe0"
   },
   "outputs": [
    {
     "data": {
      "text/html": [
       "<div>\n",
       "<style scoped>\n",
       "    .dataframe tbody tr th:only-of-type {\n",
       "        vertical-align: middle;\n",
       "    }\n",
       "\n",
       "    .dataframe tbody tr th {\n",
       "        vertical-align: top;\n",
       "    }\n",
       "\n",
       "    .dataframe thead th {\n",
       "        text-align: right;\n",
       "    }\n",
       "</style>\n",
       "<table border=\"1\" class=\"dataframe\">\n",
       "  <thead>\n",
       "    <tr style=\"text-align: right;\">\n",
       "      <th></th>\n",
       "      <th>Player</th>\n",
       "      <th>Year</th>\n",
       "      <th>Weight</th>\n",
       "      <th>Height (No Shoes)</th>\n",
       "    </tr>\n",
       "  </thead>\n",
       "  <tbody>\n",
       "    <tr>\n",
       "      <th>0</th>\n",
       "      <td>Tyler Ulis</td>\n",
       "      <td>2016</td>\n",
       "      <td>149</td>\n",
       "      <td>68.75</td>\n",
       "    </tr>\n",
       "    <tr>\n",
       "      <th>1</th>\n",
       "      <td>Russ Smith</td>\n",
       "      <td>2014</td>\n",
       "      <td>160</td>\n",
       "      <td>71.50</td>\n",
       "    </tr>\n",
       "    <tr>\n",
       "      <th>2</th>\n",
       "      <td>Eric Maynor</td>\n",
       "      <td>2009</td>\n",
       "      <td>164</td>\n",
       "      <td>74.25</td>\n",
       "    </tr>\n",
       "    <tr>\n",
       "      <th>3</th>\n",
       "      <td>Marcus Paige</td>\n",
       "      <td>2016</td>\n",
       "      <td>164</td>\n",
       "      <td>72.50</td>\n",
       "    </tr>\n",
       "    <tr>\n",
       "      <th>4</th>\n",
       "      <td>Dennis Schroeder</td>\n",
       "      <td>2013</td>\n",
       "      <td>165</td>\n",
       "      <td>73.00</td>\n",
       "    </tr>\n",
       "  </tbody>\n",
       "</table>\n",
       "</div>"
      ],
      "text/plain": [
       "             Player  Year  Weight  Height (No Shoes)\n",
       "0        Tyler Ulis  2016     149              68.75\n",
       "1        Russ Smith  2014     160              71.50\n",
       "2       Eric Maynor  2009     164              74.25\n",
       "3      Marcus Paige  2016     164              72.50\n",
       "4  Dennis Schroeder  2013     165              73.00"
      ]
     },
     "execution_count": 5,
     "metadata": {},
     "output_type": "execute_result"
    }
   ],
   "source": [
    "df.head()"
   ]
  },
  {
   "cell_type": "markdown",
   "metadata": {
    "id": "J5OVKEbcbuwx"
   },
   "source": [
    "## **Exploratory Data Analysis**"
   ]
  },
  {
   "cell_type": "code",
   "execution_count": null,
   "metadata": {
    "colab": {
     "base_uri": "https://localhost:8080/",
     "height": 614
    },
    "id": "zEp4ZaBE0PvV",
    "outputId": "100a9244-35f5-4ee9-d380-32755c13d2f3"
   },
   "outputs": [
    {
     "data": {
      "image/png": "[encoded data removed]",
      "text/plain": [
       "<Figure size 1008x720 with 1 Axes>"
      ]
     },
     "metadata": {
      "needs_background": "light"
     },
     "output_type": "display_data"
    }
   ],
   "source": [
    "plt.scatter(df['Weight'], df['Height (No Shoes)'])\n",
    "plt.xlabel('Weight in Lbs.')\n",
    "plt.ylabel('Height in Inches');"
   ]
  },
  {
   "cell_type": "code",
   "execution_count": null,
   "metadata": {
    "colab": {
     "base_uri": "https://localhost:8080/"
    },
    "id": "aFMRB3hHbf00",
    "outputId": "5d9608b7-5fb5-4f8f-9f26-6b0a12723ee2"
   },
   "outputs": [
    {
     "data": {
      "text/plain": [
       "Year                 0.007057\n",
       "Weight               0.741515\n",
       "Height (No Shoes)    1.000000\n",
       "Name: Height (No Shoes), dtype: float64"
      ]
     },
     "execution_count": 7,
     "metadata": {},
     "output_type": "execute_result"
    }
   ],
   "source": [
    "df.corr()['Height (No Shoes)']"
   ]
  },
  {
   "cell_type": "markdown",
   "metadata": {
    "id": "jEY9Oc_Ez7sl"
   },
   "source": [
    "## **Modeling and Forecasting**"
   ]
  },
  {
   "cell_type": "code",
   "execution_count": null,
   "metadata": {
    "id": "9nhlQ5M92D5U"
   },
   "outputs": [],
   "source": [
    "#split data into training and testing sets\n",
    "X_train, X_test, y_train, y_test = train_test_split(df['Weight'].to_numpy(),df['Height (No Shoes)'].to_numpy(), test_size=0.25, random_state=5)\n",
    "\n",
    "#linear regression model\n",
    "linear_reg = LinearRegression()\n",
    "#decision tree model\n",
    "decision_tree = tree.DecisionTreeRegressor()\n",
    "\n",
    "#fit/predict data\n",
    "linear_reg.fit(X_train.reshape(-1, 1), y_train)\n",
    "decision_tree = decision_tree.fit(X_train.reshape(-1, 1),y_train)\n",
    "linreg_heights = linear_reg.predict(X_test.reshape(-1, 1))\n",
    "d_tree_heights = decision_tree.predict(X_test.reshape(-1, 1))\n",
    "df_predict = pd.DataFrame({'Weight':X_test,'Actual Height':y_test,'Lin Reg Predicted Height':linreg_heights, 'Decision Tree Predicted Height':d_tree_heights})"
   ]
  },
  {
   "cell_type": "code",
   "execution_count": null,
   "metadata": {
    "colab": {
     "base_uri": "https://localhost:8080/",
     "height": 423
    },
    "id": "HoGP2e362va4",
    "outputId": "4c64a24c-7d38-449a-c98e-9570c038fb05"
   },
   "outputs": [
    {
     "data": {
      "text/html": [
       "<div>\n",
       "<style scoped>\n",
       "    .dataframe tbody tr th:only-of-type {\n",
       "        vertical-align: middle;\n",
       "    }\n",
       "\n",
       "    .dataframe tbody tr th {\n",
       "        vertical-align: top;\n",
       "    }\n",
       "\n",
       "    .dataframe thead th {\n",
       "        text-align: right;\n",
       "    }\n",
       "</style>\n",
       "<table border=\"1\" class=\"dataframe\">\n",
       "  <thead>\n",
       "    <tr style=\"text-align: right;\">\n",
       "      <th></th>\n",
       "      <th>Weight</th>\n",
       "      <th>Actual Height</th>\n",
       "      <th>Lin Reg Predicted Height</th>\n",
       "      <th>Decision Tree Predicted Height</th>\n",
       "    </tr>\n",
       "  </thead>\n",
       "  <tbody>\n",
       "    <tr>\n",
       "      <th>0</th>\n",
       "      <td>223</td>\n",
       "      <td>82.00</td>\n",
       "      <td>78.420682</td>\n",
       "      <td>77.535714</td>\n",
       "    </tr>\n",
       "    <tr>\n",
       "      <th>1</th>\n",
       "      <td>227</td>\n",
       "      <td>79.50</td>\n",
       "      <td>78.827627</td>\n",
       "      <td>78.964286</td>\n",
       "    </tr>\n",
       "    <tr>\n",
       "      <th>2</th>\n",
       "      <td>227</td>\n",
       "      <td>78.00</td>\n",
       "      <td>78.827627</td>\n",
       "      <td>78.964286</td>\n",
       "    </tr>\n",
       "    <tr>\n",
       "      <th>3</th>\n",
       "      <td>199</td>\n",
       "      <td>75.25</td>\n",
       "      <td>75.979008</td>\n",
       "      <td>78.375000</td>\n",
       "    </tr>\n",
       "    <tr>\n",
       "      <th>4</th>\n",
       "      <td>216</td>\n",
       "      <td>81.25</td>\n",
       "      <td>77.708527</td>\n",
       "      <td>77.083333</td>\n",
       "    </tr>\n",
       "    <tr>\n",
       "      <th>...</th>\n",
       "      <td>...</td>\n",
       "      <td>...</td>\n",
       "      <td>...</td>\n",
       "      <td>...</td>\n",
       "    </tr>\n",
       "    <tr>\n",
       "      <th>124</th>\n",
       "      <td>206</td>\n",
       "      <td>82.00</td>\n",
       "      <td>76.691163</td>\n",
       "      <td>76.950000</td>\n",
       "    </tr>\n",
       "    <tr>\n",
       "      <th>125</th>\n",
       "      <td>182</td>\n",
       "      <td>74.25</td>\n",
       "      <td>74.249490</td>\n",
       "      <td>74.937500</td>\n",
       "    </tr>\n",
       "    <tr>\n",
       "      <th>126</th>\n",
       "      <td>196</td>\n",
       "      <td>74.75</td>\n",
       "      <td>75.673799</td>\n",
       "      <td>76.041667</td>\n",
       "    </tr>\n",
       "    <tr>\n",
       "      <th>127</th>\n",
       "      <td>170</td>\n",
       "      <td>74.00</td>\n",
       "      <td>73.028653</td>\n",
       "      <td>70.000000</td>\n",
       "    </tr>\n",
       "    <tr>\n",
       "      <th>128</th>\n",
       "      <td>221</td>\n",
       "      <td>80.75</td>\n",
       "      <td>78.217209</td>\n",
       "      <td>76.000000</td>\n",
       "    </tr>\n",
       "  </tbody>\n",
       "</table>\n",
       "<p>129 rows × 4 columns</p>\n",
       "</div>"
      ],
      "text/plain": [
       "     Weight  ...  Decision Tree Predicted Height\n",
       "0       223  ...                       77.535714\n",
       "1       227  ...                       78.964286\n",
       "2       227  ...                       78.964286\n",
       "3       199  ...                       78.375000\n",
       "4       216  ...                       77.083333\n",
       "..      ...  ...                             ...\n",
       "124     206  ...                       76.950000\n",
       "125     182  ...                       74.937500\n",
       "126     196  ...                       76.041667\n",
       "127     170  ...                       70.000000\n",
       "128     221  ...                       76.000000\n",
       "\n",
       "[129 rows x 4 columns]"
      ]
     },
     "execution_count": 9,
     "metadata": {},
     "output_type": "execute_result"
    }
   ],
   "source": [
    "df_predict"
   ]
  },
  {
   "cell_type": "markdown",
   "metadata": {
    "id": "08xBNRftzfNO"
   },
   "source": [
    "## **Model Error Calculation**"
   ]
  },
  {
   "cell_type": "code",
   "execution_count": null,
   "metadata": {
    "id": "KTOXUC9g3GZn"
   },
   "outputs": [],
   "source": [
    "df_predict['Forecast Error Lin Reg'] = df_predict['Actual Height'] - df_predict['Lin Reg Predicted Height']\n",
    "df_predict['Forecast Error Decision Tree'] = df_predict['Actual Height'] - df_predict['Decision Tree Predicted Height']"
   ]
  },
  {
   "cell_type": "code",
   "execution_count": null,
   "metadata": {
    "colab": {
     "base_uri": "https://localhost:8080/",
     "height": 423
    },
    "id": "zlRYEnxU7PX5",
    "outputId": "f226fa1f-1465-402a-f897-dc09c9a855a7"
   },
   "outputs": [
    {
     "data": {
      "text/html": [
       "<div>\n",
       "<style scoped>\n",
       "    .dataframe tbody tr th:only-of-type {\n",
       "        vertical-align: middle;\n",
       "    }\n",
       "\n",
       "    .dataframe tbody tr th {\n",
       "        vertical-align: top;\n",
       "    }\n",
       "\n",
       "    .dataframe thead th {\n",
       "        text-align: right;\n",
       "    }\n",
       "</style>\n",
       "<table border=\"1\" class=\"dataframe\">\n",
       "  <thead>\n",
       "    <tr style=\"text-align: right;\">\n",
       "      <th></th>\n",
       "      <th>Weight</th>\n",
       "      <th>Actual Height</th>\n",
       "      <th>Lin Reg Predicted Height</th>\n",
       "      <th>Decision Tree Predicted Height</th>\n",
       "      <th>Forecast Error Lin Reg</th>\n",
       "      <th>Forecast Error Decision Tree</th>\n",
       "    </tr>\n",
       "  </thead>\n",
       "  <tbody>\n",
       "    <tr>\n",
       "      <th>0</th>\n",
       "      <td>223</td>\n",
       "      <td>82.00</td>\n",
       "      <td>78.420682</td>\n",
       "      <td>77.535714</td>\n",
       "      <td>3.579318</td>\n",
       "      <td>4.464286</td>\n",
       "    </tr>\n",
       "    <tr>\n",
       "      <th>1</th>\n",
       "      <td>227</td>\n",
       "      <td>79.50</td>\n",
       "      <td>78.827627</td>\n",
       "      <td>78.964286</td>\n",
       "      <td>0.672373</td>\n",
       "      <td>0.535714</td>\n",
       "    </tr>\n",
       "    <tr>\n",
       "      <th>2</th>\n",
       "      <td>227</td>\n",
       "      <td>78.00</td>\n",
       "      <td>78.827627</td>\n",
       "      <td>78.964286</td>\n",
       "      <td>-0.827627</td>\n",
       "      <td>-0.964286</td>\n",
       "    </tr>\n",
       "    <tr>\n",
       "      <th>3</th>\n",
       "      <td>199</td>\n",
       "      <td>75.25</td>\n",
       "      <td>75.979008</td>\n",
       "      <td>78.375000</td>\n",
       "      <td>-0.729008</td>\n",
       "      <td>-3.125000</td>\n",
       "    </tr>\n",
       "    <tr>\n",
       "      <th>4</th>\n",
       "      <td>216</td>\n",
       "      <td>81.25</td>\n",
       "      <td>77.708527</td>\n",
       "      <td>77.083333</td>\n",
       "      <td>3.541473</td>\n",
       "      <td>4.166667</td>\n",
       "    </tr>\n",
       "    <tr>\n",
       "      <th>...</th>\n",
       "      <td>...</td>\n",
       "      <td>...</td>\n",
       "      <td>...</td>\n",
       "      <td>...</td>\n",
       "      <td>...</td>\n",
       "      <td>...</td>\n",
       "    </tr>\n",
       "    <tr>\n",
       "      <th>124</th>\n",
       "      <td>206</td>\n",
       "      <td>82.00</td>\n",
       "      <td>76.691163</td>\n",
       "      <td>76.950000</td>\n",
       "      <td>5.308837</td>\n",
       "      <td>5.050000</td>\n",
       "    </tr>\n",
       "    <tr>\n",
       "      <th>125</th>\n",
       "      <td>182</td>\n",
       "      <td>74.25</td>\n",
       "      <td>74.249490</td>\n",
       "      <td>74.937500</td>\n",
       "      <td>0.000510</td>\n",
       "      <td>-0.687500</td>\n",
       "    </tr>\n",
       "    <tr>\n",
       "      <th>126</th>\n",
       "      <td>196</td>\n",
       "      <td>74.75</td>\n",
       "      <td>75.673799</td>\n",
       "      <td>76.041667</td>\n",
       "      <td>-0.923799</td>\n",
       "      <td>-1.291667</td>\n",
       "    </tr>\n",
       "    <tr>\n",
       "      <th>127</th>\n",
       "      <td>170</td>\n",
       "      <td>74.00</td>\n",
       "      <td>73.028653</td>\n",
       "      <td>70.000000</td>\n",
       "      <td>0.971347</td>\n",
       "      <td>4.000000</td>\n",
       "    </tr>\n",
       "    <tr>\n",
       "      <th>128</th>\n",
       "      <td>221</td>\n",
       "      <td>80.75</td>\n",
       "      <td>78.217209</td>\n",
       "      <td>76.000000</td>\n",
       "      <td>2.532791</td>\n",
       "      <td>4.750000</td>\n",
       "    </tr>\n",
       "  </tbody>\n",
       "</table>\n",
       "<p>129 rows × 6 columns</p>\n",
       "</div>"
      ],
      "text/plain": [
       "     Weight  ...  Forecast Error Decision Tree\n",
       "0       223  ...                      4.464286\n",
       "1       227  ...                      0.535714\n",
       "2       227  ...                     -0.964286\n",
       "3       199  ...                     -3.125000\n",
       "4       216  ...                      4.166667\n",
       "..      ...  ...                           ...\n",
       "124     206  ...                      5.050000\n",
       "125     182  ...                     -0.687500\n",
       "126     196  ...                     -1.291667\n",
       "127     170  ...                      4.000000\n",
       "128     221  ...                      4.750000\n",
       "\n",
       "[129 rows x 6 columns]"
      ]
     },
     "execution_count": 11,
     "metadata": {},
     "output_type": "execute_result"
    }
   ],
   "source": [
    "df_predict"
   ]
  },
  {
   "cell_type": "markdown",
   "metadata": {
    "id": "k0EnrBfKUY3S"
   },
   "source": [
    "## **Mean Squared Error Calculation**"
   ]
  },
  {
   "cell_type": "markdown",
   "metadata": {
    "id": "zOIHRSXksCbx"
   },
   "source": [
    "## $MSE = \\frac{1}{N} \\displaystyle \\sum_{i=0}^N (error_i)^2$"
   ]
  },
  {
   "cell_type": "code",
   "execution_count": null,
   "metadata": {
    "colab": {
     "base_uri": "https://localhost:8080/"
    },
    "id": "uxbm1kQgzCNC",
    "outputId": "cad3d109-7290-4cc0-8062-4198ae9ea7a0"
   },
   "outputs": [
    {
     "name": "stdout",
     "output_type": "stream",
     "text": [
      "The slowest run took 6.54 times longer than the fastest. This could mean that an intermediate result is being cached.\n",
      "10000 loops, best of 5: 110 µs per loop\n"
     ]
    }
   ],
   "source": [
    "%%timeit\n",
    "sum([(x**2)*(1/len(df_predict)) for x in df_predict['Forecast Error Lin Reg']])"
   ]
  },
  {
   "cell_type": "markdown",
   "metadata": {
    "id": "2Cyxp7vqsP5K"
   },
   "source": [
    "## $MSE = \\frac{1}{N} \\ error^{\\text{T}}error$\n",
    "\n",
    "$\\text{Where: }error= [error_1, error_2, ... , error_N]$"
   ]
  },
  {
   "cell_type": "code",
   "execution_count": null,
   "metadata": {
    "colab": {
     "base_uri": "https://localhost:8080/"
    },
    "id": "NwJlTlOyx9u4",
    "outputId": "02288766-7fa3-499e-e246-5d2eec8c919f"
   },
   "outputs": [
    {
     "name": "stdout",
     "output_type": "stream",
     "text": [
      "The slowest run took 4.51 times longer than the fastest. This could mean that an intermediate result is being cached.\n",
      "10000 loops, best of 5: 46.4 µs per loop\n"
     ]
    }
   ],
   "source": [
    "%%timeit\n",
    "np.dot(df_predict['Forecast Error Lin Reg'], df_predict['Forecast Error Lin Reg'])*(1/len(df_predict))"
   ]
  },
  {
   "cell_type": "markdown",
   "metadata": {
    "id": "YjoaFLz4tMTN"
   },
   "source": [
    "### **Using scikit-learn's `mean_squared_error` function**"
   ]
  },
  {
   "cell_type": "code",
   "execution_count": null,
   "metadata": {
    "colab": {
     "base_uri": "https://localhost:8080/"
    },
    "id": "dJ97w7eBzUAJ",
    "outputId": "459c5980-fd3f-4458-900d-5955c346e27c"
   },
   "outputs": [
    {
     "name": "stdout",
     "output_type": "stream",
     "text": [
      "1000 loops, best of 5: 247 µs per loop\n"
     ]
    }
   ],
   "source": [
    "%%timeit\n",
    "mean_squared_error(df_predict['Actual Height'], df_predict['Lin Reg Predicted Height'])"
   ]
  },
  {
   "cell_type": "code",
   "execution_count": null,
   "metadata": {
    "id": "i7udFjkodqoY"
   },
   "outputs": [],
   "source": [
    "def mse(error_array):\n",
    "  return np.dot(error_array, error_array)*(1/len(error_array))"
   ]
  },
  {
   "cell_type": "code",
   "execution_count": null,
   "metadata": {
    "colab": {
     "base_uri": "https://localhost:8080/"
    },
    "id": "Vmzk1org4gny",
    "outputId": "218bc102-631a-475a-bccd-6441fc40f047"
   },
   "outputs": [
    {
     "data": {
      "text/plain": [
       "4.852529094639254"
      ]
     },
     "execution_count": 16,
     "metadata": {},
     "output_type": "execute_result"
    }
   ],
   "source": [
    "mse(df_predict['Forecast Error Lin Reg'])"
   ]
  },
  {
   "cell_type": "markdown",
   "metadata": {
    "id": "f4XZh6FE78dO"
   },
   "source": [
    "## **Graphing the Error**"
   ]
  },
  {
   "cell_type": "code",
   "execution_count": null,
   "metadata": {
    "id": "sziYXXZeROF6"
   },
   "outputs": [],
   "source": [
    "weight_range = np.arange(df['Weight'].min(),df['Weight'].max())\n",
    "height_range_lr = linear_reg.predict(weight_range.reshape(-1,1))"
   ]
  },
  {
   "cell_type": "code",
   "execution_count": null,
   "metadata": {
    "colab": {
     "base_uri": "https://localhost:8080/",
     "height": 542
    },
    "id": "BjLJgUbLttnX",
    "outputId": "203db78f-4c02-43be-8fb0-5384d8495eab"
   },
   "outputs": [
    {
     "data": {
      "text/html": [
       "<html>\n",
       "<head><meta charset=\"utf-8\" /></head>\n",
       "<body>\n",
       "    <div>\n",
       "            <script src=\"https://cdnjs.cloudflare.com/ajax/libs/mathjax/2.7.5/MathJax.js?config=TeX-AMS-MML_SVG\"></script><script type=\"text/javascript\">if (window.MathJax) {MathJax.Hub.Config({SVG: {font: \"STIX-Web\"}});}</script>\n",
       "                <script type=\"text/javascript\">window.PlotlyConfig = {MathJaxConfig: 'local'};</script>\n",
       "        <script src=\"https://cdn.plot.ly/plotly-latest.min.js\"></script>    \n",
       "            <div id=\"ef168586-fa7c-48fe-8508-7a01a5fc5336\" class=\"plotly-graph-div\" style=\"height:525px; width:100%;\"></div>\n",
       "            <script type=\"text/javascript\">\n",
       "                \n",
       "                    window.PLOTLYENV=window.PLOTLYENV || {};\n",
       "                    \n",
       "                if (document.getElementById(\"ef168586-fa7c-48fe-8508-7a01a5fc5336\")) {\n",
       "                    Plotly.newPlot(\n",
       "                        'ef168586-fa7c-48fe-8508-7a01a5fc5336',\n",
       "                        [{\"hoverlabel\": {\"namelength\": 0}, \"hovertemplate\": \"Weight=%{x}<br>Actual Height=%{y}\", \"legendgroup\": \"\", \"marker\": {\"color\": \"#636efa\", \"symbol\": \"circle\"}, \"mode\": \"markers\", \"name\": \"\", \"showlegend\": false, \"type\": \"scatter\", \"x\": [223, 227, 227, 199, 216, 187, 197, 230, 212, 190, 183, 209, 224, 192, 252, 188, 212, 229, 230, 206, 228, 243, 222, 239, 214, 245, 222, 198, 250, 241, 216, 226, 196, 181, 228, 196, 234, 193, 302, 239, 200, 216, 233, 221, 209, 222, 264, 214, 247, 209, 211, 254, 206, 199, 234, 184, 211, 240, 219, 242, 230, 220, 220, 197, 277, 180, 224, 236, 239, 277, 179, 182, 219, 219, 252, 193, 183, 197, 239, 205, 236, 209, 222, 247, 184, 200, 202, 236, 225, 211, 186, 240, 194, 197, 242, 252, 257, 177, 257, 203, 220, 192, 183, 197, 228, 231, 201, 234, 206, 180, 232, 221, 211, 222, 231, 198, 265, 220, 199, 211, 236, 263, 216, 199, 206, 182, 196, 170, 221], \"xaxis\": \"x\", \"y\": [82.0, 79.5, 78.0, 75.25, 81.25, 70.5, 74.25, 79.75, 75.25, 75.25, 74.25, 75.0, 78.25, 72.25, 80.25, 75.0, 77.25, 76.25, 79.5, 76.5, 80.5, 80.75, 76.75, 80.0, 78.5, 80.75, 80.0, 75.0, 79.75, 77.25, 82.5, 76.5, 76.5, 76.25, 79.5, 72.75, 81.0, 77.0, 80.5, 80.0, 74.75, 79.25, 80.5, 79.0, 81.0, 78.0, 81.75, 78.25, 83.25, 76.5, 78.75, 83.5, 77.75, 75.75, 80.75, 74.0, 81.0, 80.75, 80.75, 78.5, 82.5, 78.5, 78.5, 77.25, 80.75, 73.0, 78.5, 77.25, 81.75, 77.25, 73.0, 73.25, 77.25, 79.75, 82.5, 79.0, 73.0, 75.75, 84.25, 74.5, 78.75, 78.0, 76.5, 80.5, 71.5, 77.75, 74.5, 79.5, 79.5, 77.25, 68.75, 78.25, 72.0, 76.75, 82.0, 80.75, 79.25, 74.75, 79.0, 76.75, 77.0, 76.25, 75.0, 78.25, 79.0, 83.75, 76.0, 82.25, 78.25, 76.75, 79.25, 74.5, 75.0, 81.25, 82.0, 77.0, 83.0, 78.75, 75.75, 76.5, 81.0, 79.0, 83.75, 75.25, 82.0, 74.25, 74.75, 74.0, 80.75], \"yaxis\": \"y\"}, {\"mode\": \"lines\", \"name\": \"Linear Regression Model\", \"type\": \"scatter\", \"x\": [149, 150, 151, 152, 153, 154, 155, 156, 157, 158, 159, 160, 161, 162, 163, 164, 165, 166, 167, 168, 169, 170, 171, 172, 173, 174, 175, 176, 177, 178, 179, 180, 181, 182, 183, 184, 185, 186, 187, 188, 189, 190, 191, 192, 193, 194, 195, 196, 197, 198, 199, 200, 201, 202, 203, 204, 205, 206, 207, 208, 209, 210, 211, 212, 213, 214, 215, 216, 217, 218, 219, 220, 221, 222, 223, 224, 225, 226, 227, 228, 229, 230, 231, 232, 233, 234, 235, 236, 237, 238, 239, 240, 241, 242, 243, 244, 245, 246, 247, 248, 249, 250, 251, 252, 253, 254, 255, 256, 257, 258, 259, 260, 261, 262, 263, 264, 265, 266, 267, 268, 269, 270, 271, 272, 273, 274, 275, 276, 277, 278, 279, 280, 281, 282, 283, 284, 285, 286, 287, 288, 289, 290, 291, 292, 293, 294, 295, 296, 297, 298, 299, 300, 301, 302], \"y\": [70.89218869403953, 70.99392508422869, 71.09566147441785, 71.19739786460701, 71.29913425479617, 71.40087064498532, 71.50260703517448, 71.60434342536364, 71.7060798155528, 71.80781620574194, 71.9095525959311, 72.01128898612026, 72.11302537630942, 72.21476176649858, 72.31649815668773, 72.41823454687689, 72.51997093706605, 72.6217073272552, 72.72344371744435, 72.82518010763351, 72.92691649782267, 73.02865288801183, 73.130389278201, 73.23212566839014, 73.3338620585793, 73.43559844876846, 73.5373348389576, 73.63907122914677, 73.74080761933592, 73.84254400952508, 73.94428039971424, 74.0460167899034, 74.14775318009255, 74.24948957028171, 74.35122596047087, 74.45296235066002, 74.55469874084918, 74.65643513103834, 74.7581715212275, 74.85990791141666, 74.9616443016058, 75.06338069179496, 75.16511708198412, 75.26685347217328, 75.36858986236243, 75.47032625255159, 75.57206264274075, 75.6737990329299, 75.77553542311907, 75.87727181330821, 75.97900820349737, 76.08074459368653, 76.18248098387569, 76.28421737406484, 76.385953764254, 76.48769015444316, 76.58942654463232, 76.69116293482148, 76.79289932501062, 76.89463571519978, 76.99637210538894, 77.0981084955781, 77.19984488576725, 77.30158127595641, 77.40331766614557, 77.50505405633473, 77.60679044652389, 77.70852683671303, 77.8102632269022, 77.91199961709135, 78.0137360072805, 78.11547239746966, 78.21720878765882, 78.31894517784798, 78.42068156803714, 78.5224179582263, 78.62415434841544, 78.7258907386046, 78.82762712879376, 78.92936351898291, 79.03109990917207, 79.13283629936123, 79.23457268955039, 79.33630907973955, 79.43804546992871, 79.53978186011786, 79.64151825030702, 79.74325464049618, 79.84499103068532, 79.94672742087448, 80.04846381106364, 80.1502002012528, 80.25193659144196, 80.35367298163112, 80.45540937182027, 80.55714576200943, 80.65888215219859, 80.76061854238773, 80.86235493257689, 80.96409132276605, 81.06582771295521, 81.16756410314437, 81.26930049333353, 81.37103688352268, 81.47277327371184, 81.574509663901, 81.67624605409014, 81.7779824442793, 81.87971883446846, 81.98145522465762, 82.08319161484678, 82.18492800503593, 82.28666439522509, 82.38840078541425, 82.49013717560341, 82.59187356579255, 82.69360995598171, 82.79534634617087, 82.89708273636003, 82.9988191265492, 83.10055551673834, 83.2022919069275, 83.30402829711666, 83.40576468730582, 83.50750107749496, 83.60923746768412, 83.71097385787328, 83.81271024806244, 83.9144466382516, 84.01618302844075, 84.11791941862991, 84.21965580881907, 84.32139219900822, 84.42312858919738, 84.52486497938654, 84.6266013695757, 84.72833775976486, 84.83007414995402, 84.93181054014316, 85.03354693033232, 85.13528332052148, 85.23701971071063, 85.33875610089979, 85.44049249108895, 85.5422288812781, 85.64396527146727, 85.74570166165643, 85.84743805184557, 85.94917444203473, 86.05091083222389, 86.15264722241304, 86.2543836126022, 86.35612000279136, 86.45785639298052]}],\n",
       "                        {\"legend\": {\"tracegroupgap\": 0}, \"template\": {\"data\": {\"bar\": [{\"error_x\": {\"color\": \"#2a3f5f\"}, \"error_y\": {\"color\": \"#2a3f5f\"}, \"marker\": {\"line\": {\"color\": \"#E5ECF6\", \"width\": 0.5}}, \"type\": \"bar\"}], \"barpolar\": [{\"marker\": {\"line\": {\"color\": \"#E5ECF6\", \"width\": 0.5}}, \"type\": \"barpolar\"}], \"carpet\": [{\"aaxis\": {\"endlinecolor\": \"#2a3f5f\", \"gridcolor\": \"white\", \"linecolor\": \"white\", \"minorgridcolor\": \"white\", \"startlinecolor\": \"#2a3f5f\"}, \"baxis\": {\"endlinecolor\": \"#2a3f5f\", \"gridcolor\": \"white\", \"linecolor\": \"white\", \"minorgridcolor\": \"white\", \"startlinecolor\": \"#2a3f5f\"}, \"type\": \"carpet\"}], \"choropleth\": [{\"colorbar\": {\"outlinewidth\": 0, \"ticks\": \"\"}, \"type\": \"choropleth\"}], \"contour\": [{\"colorbar\": {\"outlinewidth\": 0, \"ticks\": \"\"}, \"colorscale\": [[0.0, \"#0d0887\"], [0.1111111111111111, \"#46039f\"], [0.2222222222222222, \"#7201a8\"], [0.3333333333333333, \"#9c179e\"], [0.4444444444444444, \"#bd3786\"], [0.5555555555555556, \"#d8576b\"], [0.6666666666666666, \"#ed7953\"], [0.7777777777777778, \"#fb9f3a\"], [0.8888888888888888, \"#fdca26\"], [1.0, \"#f0f921\"]], \"type\": \"contour\"}], \"contourcarpet\": [{\"colorbar\": {\"outlinewidth\": 0, \"ticks\": \"\"}, \"type\": \"contourcarpet\"}], \"heatmap\": [{\"colorbar\": {\"outlinewidth\": 0, \"ticks\": \"\"}, \"colorscale\": [[0.0, \"#0d0887\"], [0.1111111111111111, \"#46039f\"], [0.2222222222222222, \"#7201a8\"], [0.3333333333333333, \"#9c179e\"], [0.4444444444444444, \"#bd3786\"], [0.5555555555555556, \"#d8576b\"], [0.6666666666666666, \"#ed7953\"], [0.7777777777777778, \"#fb9f3a\"], [0.8888888888888888, \"#fdca26\"], [1.0, \"#f0f921\"]], \"type\": \"heatmap\"}], \"heatmapgl\": [{\"colorbar\": {\"outlinewidth\": 0, \"ticks\": \"\"}, \"colorscale\": [[0.0, \"#0d0887\"], [0.1111111111111111, \"#46039f\"], [0.2222222222222222, \"#7201a8\"], [0.3333333333333333, \"#9c179e\"], [0.4444444444444444, \"#bd3786\"], [0.5555555555555556, \"#d8576b\"], [0.6666666666666666, \"#ed7953\"], [0.7777777777777778, \"#fb9f3a\"], [0.8888888888888888, \"#fdca26\"], [1.0, \"#f0f921\"]], \"type\": \"heatmapgl\"}], \"histogram\": [{\"marker\": {\"colorbar\": {\"outlinewidth\": 0, \"ticks\": \"\"}}, \"type\": \"histogram\"}], \"histogram2d\": [{\"colorbar\": {\"outlinewidth\": 0, \"ticks\": \"\"}, \"colorscale\": [[0.0, \"#0d0887\"], [0.1111111111111111, \"#46039f\"], [0.2222222222222222, \"#7201a8\"], [0.3333333333333333, \"#9c179e\"], [0.4444444444444444, \"#bd3786\"], [0.5555555555555556, \"#d8576b\"], [0.6666666666666666, \"#ed7953\"], [0.7777777777777778, \"#fb9f3a\"], [0.8888888888888888, \"#fdca26\"], [1.0, \"#f0f921\"]], \"type\": \"histogram2d\"}], \"histogram2dcontour\": [{\"colorbar\": {\"outlinewidth\": 0, \"ticks\": \"\"}, \"colorscale\": [[0.0, \"#0d0887\"], [0.1111111111111111, \"#46039f\"], [0.2222222222222222, \"#7201a8\"], [0.3333333333333333, \"#9c179e\"], [0.4444444444444444, \"#bd3786\"], [0.5555555555555556, \"#d8576b\"], [0.6666666666666666, \"#ed7953\"], [0.7777777777777778, \"#fb9f3a\"], [0.8888888888888888, \"#fdca26\"], [1.0, \"#f0f921\"]], \"type\": \"histogram2dcontour\"}], \"mesh3d\": [{\"colorbar\": {\"outlinewidth\": 0, \"ticks\": \"\"}, \"type\": \"mesh3d\"}], \"parcoords\": [{\"line\": {\"colorbar\": {\"outlinewidth\": 0, \"ticks\": \"\"}}, \"type\": \"parcoords\"}], \"pie\": [{\"automargin\": true, \"type\": \"pie\"}], \"scatter\": [{\"marker\": {\"colorbar\": {\"outlinewidth\": 0, \"ticks\": \"\"}}, \"type\": \"scatter\"}], \"scatter3d\": [{\"line\": {\"colorbar\": {\"outlinewidth\": 0, \"ticks\": \"\"}}, \"marker\": {\"colorbar\": {\"outlinewidth\": 0, \"ticks\": \"\"}}, \"type\": \"scatter3d\"}], \"scattercarpet\": [{\"marker\": {\"colorbar\": {\"outlinewidth\": 0, \"ticks\": \"\"}}, \"type\": \"scattercarpet\"}], \"scattergeo\": [{\"marker\": {\"colorbar\": {\"outlinewidth\": 0, \"ticks\": \"\"}}, \"type\": \"scattergeo\"}], \"scattergl\": [{\"marker\": {\"colorbar\": {\"outlinewidth\": 0, \"ticks\": \"\"}}, \"type\": \"scattergl\"}], \"scattermapbox\": [{\"marker\": {\"colorbar\": {\"outlinewidth\": 0, \"ticks\": \"\"}}, \"type\": \"scattermapbox\"}], \"scatterpolar\": [{\"marker\": {\"colorbar\": {\"outlinewidth\": 0, \"ticks\": \"\"}}, \"type\": \"scatterpolar\"}], \"scatterpolargl\": [{\"marker\": {\"colorbar\": {\"outlinewidth\": 0, \"ticks\": \"\"}}, \"type\": \"scatterpolargl\"}], \"scatterternary\": [{\"marker\": {\"colorbar\": {\"outlinewidth\": 0, \"ticks\": \"\"}}, \"type\": \"scatterternary\"}], \"surface\": [{\"colorbar\": {\"outlinewidth\": 0, \"ticks\": \"\"}, \"colorscale\": [[0.0, \"#0d0887\"], [0.1111111111111111, \"#46039f\"], [0.2222222222222222, \"#7201a8\"], [0.3333333333333333, \"#9c179e\"], [0.4444444444444444, \"#bd3786\"], [0.5555555555555556, \"#d8576b\"], [0.6666666666666666, \"#ed7953\"], [0.7777777777777778, \"#fb9f3a\"], [0.8888888888888888, \"#fdca26\"], [1.0, \"#f0f921\"]], \"type\": \"surface\"}], \"table\": [{\"cells\": {\"fill\": {\"color\": \"#EBF0F8\"}, \"line\": {\"color\": \"white\"}}, \"header\": {\"fill\": {\"color\": \"#C8D4E3\"}, \"line\": {\"color\": \"white\"}}, \"type\": \"table\"}]}, \"layout\": {\"annotationdefaults\": {\"arrowcolor\": \"#2a3f5f\", \"arrowhead\": 0, \"arrowwidth\": 1}, \"coloraxis\": {\"colorbar\": {\"outlinewidth\": 0, \"ticks\": \"\"}}, \"colorscale\": {\"diverging\": [[0, \"#8e0152\"], [0.1, \"#c51b7d\"], [0.2, \"#de77ae\"], [0.3, \"#f1b6da\"], [0.4, \"#fde0ef\"], [0.5, \"#f7f7f7\"], [0.6, \"#e6f5d0\"], [0.7, \"#b8e186\"], [0.8, \"#7fbc41\"], [0.9, \"#4d9221\"], [1, \"#276419\"]], \"sequential\": [[0.0, \"#0d0887\"], [0.1111111111111111, \"#46039f\"], [0.2222222222222222, \"#7201a8\"], [0.3333333333333333, \"#9c179e\"], [0.4444444444444444, \"#bd3786\"], [0.5555555555555556, \"#d8576b\"], [0.6666666666666666, \"#ed7953\"], [0.7777777777777778, \"#fb9f3a\"], [0.8888888888888888, \"#fdca26\"], [1.0, \"#f0f921\"]], \"sequentialminus\": [[0.0, \"#0d0887\"], [0.1111111111111111, \"#46039f\"], [0.2222222222222222, \"#7201a8\"], [0.3333333333333333, \"#9c179e\"], [0.4444444444444444, \"#bd3786\"], [0.5555555555555556, \"#d8576b\"], [0.6666666666666666, \"#ed7953\"], [0.7777777777777778, \"#fb9f3a\"], [0.8888888888888888, \"#fdca26\"], [1.0, \"#f0f921\"]]}, \"colorway\": [\"#636efa\", \"#EF553B\", \"#00cc96\", \"#ab63fa\", \"#FFA15A\", \"#19d3f3\", \"#FF6692\", \"#B6E880\", \"#FF97FF\", \"#FECB52\"], \"font\": {\"color\": \"#2a3f5f\"}, \"geo\": {\"bgcolor\": \"white\", \"lakecolor\": \"white\", \"landcolor\": \"#E5ECF6\", \"showlakes\": true, \"showland\": true, \"subunitcolor\": \"white\"}, \"hoverlabel\": {\"align\": \"left\"}, \"hovermode\": \"closest\", \"mapbox\": {\"style\": \"light\"}, \"paper_bgcolor\": \"white\", \"plot_bgcolor\": \"#E5ECF6\", \"polar\": {\"angularaxis\": {\"gridcolor\": \"white\", \"linecolor\": \"white\", \"ticks\": \"\"}, \"bgcolor\": \"#E5ECF6\", \"radialaxis\": {\"gridcolor\": \"white\", \"linecolor\": \"white\", \"ticks\": \"\"}}, \"scene\": {\"xaxis\": {\"backgroundcolor\": \"#E5ECF6\", \"gridcolor\": \"white\", \"gridwidth\": 2, \"linecolor\": \"white\", \"showbackground\": true, \"ticks\": \"\", \"zerolinecolor\": \"white\"}, \"yaxis\": {\"backgroundcolor\": \"#E5ECF6\", \"gridcolor\": \"white\", \"gridwidth\": 2, \"linecolor\": \"white\", \"showbackground\": true, \"ticks\": \"\", \"zerolinecolor\": \"white\"}, \"zaxis\": {\"backgroundcolor\": \"#E5ECF6\", \"gridcolor\": \"white\", \"gridwidth\": 2, \"linecolor\": \"white\", \"showbackground\": true, \"ticks\": \"\", \"zerolinecolor\": \"white\"}}, \"shapedefaults\": {\"line\": {\"color\": \"#2a3f5f\"}}, \"ternary\": {\"aaxis\": {\"gridcolor\": \"white\", \"linecolor\": \"white\", \"ticks\": \"\"}, \"baxis\": {\"gridcolor\": \"white\", \"linecolor\": \"white\", \"ticks\": \"\"}, \"bgcolor\": \"#E5ECF6\", \"caxis\": {\"gridcolor\": \"white\", \"linecolor\": \"white\", \"ticks\": \"\"}}, \"title\": {\"x\": 0.05}, \"xaxis\": {\"automargin\": true, \"gridcolor\": \"white\", \"linecolor\": \"white\", \"ticks\": \"\", \"title\": {\"standoff\": 15}, \"zerolinecolor\": \"white\", \"zerolinewidth\": 2}, \"yaxis\": {\"automargin\": true, \"gridcolor\": \"white\", \"linecolor\": \"white\", \"ticks\": \"\", \"title\": {\"standoff\": 15}, \"zerolinecolor\": \"white\", \"zerolinewidth\": 2}}}, \"title\": {\"text\": \"Linear Regression Model\"}, \"xaxis\": {\"anchor\": \"y\", \"domain\": [0.0, 1.0], \"title\": {\"text\": \"Weight\"}}, \"yaxis\": {\"anchor\": \"x\", \"domain\": [0.0, 1.0], \"title\": {\"text\": \"Actual Height\"}}},\n",
       "                        {\"responsive\": true}\n",
       "                    ).then(function(){\n",
       "                            \n",
       "var gd = document.getElementById('ef168586-fa7c-48fe-8508-7a01a5fc5336');\n",
       "var x = new MutationObserver(function (mutations, observer) {{\n",
       "        var display = window.getComputedStyle(gd).display;\n",
       "        if (!display || display === 'none') {{\n",
       "            console.log([gd, 'removed!']);\n",
       "            Plotly.purge(gd);\n",
       "            observer.disconnect();\n",
       "        }}\n",
       "}});\n",
       "\n",
       "// Listen for the removal of the full notebook cells\n",
       "var notebookContainer = gd.closest('#notebook-container');\n",
       "if (notebookContainer) {{\n",
       "    x.observe(notebookContainer, {childList: true});\n",
       "}}\n",
       "\n",
       "// Listen for the clearing of the current output cell\n",
       "var outputEl = gd.closest('.output');\n",
       "if (outputEl) {{\n",
       "    x.observe(outputEl, {childList: true});\n",
       "}}\n",
       "\n",
       "                        })\n",
       "                };\n",
       "                \n",
       "            </script>\n",
       "        </div>\n",
       "</body>\n",
       "</html>"
      ]
     },
     "metadata": {},
     "output_type": "display_data"
    }
   ],
   "source": [
    "fig = px.scatter(df_predict, x='Weight',y='Actual Height', title='Linear Regression Model')\n",
    "fig.add_trace(go.Scatter(x=weight_range,y=height_range_lr,mode=\"lines\",name='Linear Regression Model'))\n",
    "fig.show()"
   ]
  },
  {
   "cell_type": "code",
   "execution_count": null,
   "metadata": {
    "id": "vJNXph0AV1aY"
   },
   "outputs": [],
   "source": [
    "height_range_d = decision_tree.predict(weight_range.reshape(-1,1))"
   ]
  },
  {
   "cell_type": "code",
   "execution_count": null,
   "metadata": {
    "colab": {
     "base_uri": "https://localhost:8080/",
     "height": 542
    },
    "id": "-sOHjny3Mi4V",
    "outputId": "47894c44-3382-44ae-8242-85de70c92250"
   },
   "outputs": [
    {
     "data": {
      "text/html": [
       "<html>\n",
       "<head><meta charset=\"utf-8\" /></head>\n",
       "<body>\n",
       "    <div>\n",
       "            <script src=\"https://cdnjs.cloudflare.com/ajax/libs/mathjax/2.7.5/MathJax.js?config=TeX-AMS-MML_SVG\"></script><script type=\"text/javascript\">if (window.MathJax) {MathJax.Hub.Config({SVG: {font: \"STIX-Web\"}});}</script>\n",
       "                <script type=\"text/javascript\">window.PlotlyConfig = {MathJaxConfig: 'local'};</script>\n",
       "        <script src=\"https://cdn.plot.ly/plotly-latest.min.js\"></script>    \n",
       "            <div id=\"11050547-bb9c-409d-8b3b-ef3d7dfe158e\" class=\"plotly-graph-div\" style=\"height:525px; width:100%;\"></div>\n",
       "            <script type=\"text/javascript\">\n",
       "                \n",
       "                    window.PLOTLYENV=window.PLOTLYENV || {};\n",
       "                    \n",
       "                if (document.getElementById(\"11050547-bb9c-409d-8b3b-ef3d7dfe158e\")) {\n",
       "                    Plotly.newPlot(\n",
       "                        '11050547-bb9c-409d-8b3b-ef3d7dfe158e',\n",
       "                        [{\"hoverlabel\": {\"namelength\": 0}, \"hovertemplate\": \"Weight=%{x}<br>Actual Height=%{y}\", \"legendgroup\": \"\", \"marker\": {\"color\": \"#636efa\", \"symbol\": \"circle\"}, \"mode\": \"markers\", \"name\": \"\", \"showlegend\": false, \"type\": \"scatter\", \"x\": [223, 227, 227, 199, 216, 187, 197, 230, 212, 190, 183, 209, 224, 192, 252, 188, 212, 229, 230, 206, 228, 243, 222, 239, 214, 245, 222, 198, 250, 241, 216, 226, 196, 181, 228, 196, 234, 193, 302, 239, 200, 216, 233, 221, 209, 222, 264, 214, 247, 209, 211, 254, 206, 199, 234, 184, 211, 240, 219, 242, 230, 220, 220, 197, 277, 180, 224, 236, 239, 277, 179, 182, 219, 219, 252, 193, 183, 197, 239, 205, 236, 209, 222, 247, 184, 200, 202, 236, 225, 211, 186, 240, 194, 197, 242, 252, 257, 177, 257, 203, 220, 192, 183, 197, 228, 231, 201, 234, 206, 180, 232, 221, 211, 222, 231, 198, 265, 220, 199, 211, 236, 263, 216, 199, 206, 182, 196, 170, 221], \"xaxis\": \"x\", \"y\": [82.0, 79.5, 78.0, 75.25, 81.25, 70.5, 74.25, 79.75, 75.25, 75.25, 74.25, 75.0, 78.25, 72.25, 80.25, 75.0, 77.25, 76.25, 79.5, 76.5, 80.5, 80.75, 76.75, 80.0, 78.5, 80.75, 80.0, 75.0, 79.75, 77.25, 82.5, 76.5, 76.5, 76.25, 79.5, 72.75, 81.0, 77.0, 80.5, 80.0, 74.75, 79.25, 80.5, 79.0, 81.0, 78.0, 81.75, 78.25, 83.25, 76.5, 78.75, 83.5, 77.75, 75.75, 80.75, 74.0, 81.0, 80.75, 80.75, 78.5, 82.5, 78.5, 78.5, 77.25, 80.75, 73.0, 78.5, 77.25, 81.75, 77.25, 73.0, 73.25, 77.25, 79.75, 82.5, 79.0, 73.0, 75.75, 84.25, 74.5, 78.75, 78.0, 76.5, 80.5, 71.5, 77.75, 74.5, 79.5, 79.5, 77.25, 68.75, 78.25, 72.0, 76.75, 82.0, 80.75, 79.25, 74.75, 79.0, 76.75, 77.0, 76.25, 75.0, 78.25, 79.0, 83.75, 76.0, 82.25, 78.25, 76.75, 79.25, 74.5, 75.0, 81.25, 82.0, 77.0, 83.0, 78.75, 75.75, 76.5, 81.0, 79.0, 83.75, 75.25, 82.0, 74.25, 74.75, 74.0, 80.75], \"yaxis\": \"y\"}, {\"mode\": \"lines\", \"name\": \"Decision Tree Model\", \"type\": \"scatter\", \"x\": [149, 150, 151, 152, 153, 154, 155, 156, 157, 158, 159, 160, 161, 162, 163, 164, 165, 166, 167, 168, 169, 170, 171, 172, 173, 174, 175, 176, 177, 178, 179, 180, 181, 182, 183, 184, 185, 186, 187, 188, 189, 190, 191, 192, 193, 194, 195, 196, 197, 198, 199, 200, 201, 202, 203, 204, 205, 206, 207, 208, 209, 210, 211, 212, 213, 214, 215, 216, 217, 218, 219, 220, 221, 222, 223, 224, 225, 226, 227, 228, 229, 230, 231, 232, 233, 234, 235, 236, 237, 238, 239, 240, 241, 242, 243, 244, 245, 246, 247, 248, 249, 250, 251, 252, 253, 254, 255, 256, 257, 258, 259, 260, 261, 262, 263, 264, 265, 266, 267, 268, 269, 270, 271, 272, 273, 274, 275, 276, 277, 278, 279, 280, 281, 282, 283, 284, 285, 286, 287, 288, 289, 290, 291, 292, 293, 294, 295, 296, 297, 298, 299, 300, 301, 302], \"y\": [68.75, 68.75, 68.75, 68.75, 68.75, 68.75, 71.5, 71.5, 71.5, 71.5, 71.5, 71.5, 71.5, 71.5, 73.375, 73.375, 73.0, 73.75, 70.5, 70.5, 70.0, 70.0, 70.25, 70.25, 73.5, 74.625, 71.9375, 72.75, 71.25, 73.5, 74.2, 72.33333333333333, 74.8, 74.9375, 72.75, 76.25, 73.82142857142857, 74.5, 74.91666666666667, 73.35, 73.83333333333333, 74.91666666666667, 75.125, 75.28571428571429, 74.75, 75.66666666666667, 74.66666666666667, 76.04166666666667, 75.875, 75.82142857142857, 78.375, 76.75, 76.75, 75.25, 76.4375, 75.875, 76.75, 76.95, 78.52777777777777, 78.03571428571429, 77.78125, 77.17857142857143, 76.95833333333333, 75.0, 77.3125, 79.625, 76.85714285714286, 77.08333333333333, 77.41666666666667, 79.65625, 77.125, 80.07142857142857, 76.0, 78.14285714285714, 77.53571428571429, 78.08333333333333, 79.08333333333333, 76.75, 78.96428571428571, 79.85, 80.375, 80.66666666666667, 80.08333333333333, 79.625, 79.45, 81.45, 81.45, 78.0, 81.83333333333333, 81.4, 80.04166666666667, 80.0, 79.82142857142857, 80.33333333333333, 80.125, 81.83333333333333, 79.625, 81.75, 80.5, 80.9375, 81.25, 81.0, 78.5, 80.875, 79.5, 83.125, 82.75, 82.75, 83.25, 83.25, 81.75, 82.25, 79.125, 81.0, 82.5, 82.5, 82.5, 85.25, 85.25, 81.0, 80.75, 80.75, 80.75, 80.75, 80.75, 80.75, 81.75, 81.75, 81.75, 81.75, 81.75, 80.25, 80.25, 80.25, 80.25, 80.25, 80.25, 80.25, 81.5, 81.5, 81.5, 81.5, 81.5, 81.5, 81.5, 81.5, 81.5, 81.5, 81.5, 81.5, 81.5, 81.5, 81.5, 81.5]}],\n",
       "                        {\"legend\": {\"tracegroupgap\": 0}, \"template\": {\"data\": {\"bar\": [{\"error_x\": {\"color\": \"#2a3f5f\"}, \"error_y\": {\"color\": \"#2a3f5f\"}, \"marker\": {\"line\": {\"color\": \"#E5ECF6\", \"width\": 0.5}}, \"type\": \"bar\"}], \"barpolar\": [{\"marker\": {\"line\": {\"color\": \"#E5ECF6\", \"width\": 0.5}}, \"type\": \"barpolar\"}], \"carpet\": [{\"aaxis\": {\"endlinecolor\": \"#2a3f5f\", \"gridcolor\": \"white\", \"linecolor\": \"white\", \"minorgridcolor\": \"white\", \"startlinecolor\": \"#2a3f5f\"}, \"baxis\": {\"endlinecolor\": \"#2a3f5f\", \"gridcolor\": \"white\", \"linecolor\": \"white\", \"minorgridcolor\": \"white\", \"startlinecolor\": \"#2a3f5f\"}, \"type\": \"carpet\"}], \"choropleth\": [{\"colorbar\": {\"outlinewidth\": 0, \"ticks\": \"\"}, \"type\": \"choropleth\"}], \"contour\": [{\"colorbar\": {\"outlinewidth\": 0, \"ticks\": \"\"}, \"colorscale\": [[0.0, \"#0d0887\"], [0.1111111111111111, \"#46039f\"], [0.2222222222222222, \"#7201a8\"], [0.3333333333333333, \"#9c179e\"], [0.4444444444444444, \"#bd3786\"], [0.5555555555555556, \"#d8576b\"], [0.6666666666666666, \"#ed7953\"], [0.7777777777777778, \"#fb9f3a\"], [0.8888888888888888, \"#fdca26\"], [1.0, \"#f0f921\"]], \"type\": \"contour\"}], \"contourcarpet\": [{\"colorbar\": {\"outlinewidth\": 0, \"ticks\": \"\"}, \"type\": \"contourcarpet\"}], \"heatmap\": [{\"colorbar\": {\"outlinewidth\": 0, \"ticks\": \"\"}, \"colorscale\": [[0.0, \"#0d0887\"], [0.1111111111111111, \"#46039f\"], [0.2222222222222222, \"#7201a8\"], [0.3333333333333333, \"#9c179e\"], [0.4444444444444444, \"#bd3786\"], [0.5555555555555556, \"#d8576b\"], [0.6666666666666666, \"#ed7953\"], [0.7777777777777778, \"#fb9f3a\"], [0.8888888888888888, \"#fdca26\"], [1.0, \"#f0f921\"]], \"type\": \"heatmap\"}], \"heatmapgl\": [{\"colorbar\": {\"outlinewidth\": 0, \"ticks\": \"\"}, \"colorscale\": [[0.0, \"#0d0887\"], [0.1111111111111111, \"#46039f\"], [0.2222222222222222, \"#7201a8\"], [0.3333333333333333, \"#9c179e\"], [0.4444444444444444, \"#bd3786\"], [0.5555555555555556, \"#d8576b\"], [0.6666666666666666, \"#ed7953\"], [0.7777777777777778, \"#fb9f3a\"], [0.8888888888888888, \"#fdca26\"], [1.0, \"#f0f921\"]], \"type\": \"heatmapgl\"}], \"histogram\": [{\"marker\": {\"colorbar\": {\"outlinewidth\": 0, \"ticks\": \"\"}}, \"type\": \"histogram\"}], \"histogram2d\": [{\"colorbar\": {\"outlinewidth\": 0, \"ticks\": \"\"}, \"colorscale\": [[0.0, \"#0d0887\"], [0.1111111111111111, \"#46039f\"], [0.2222222222222222, \"#7201a8\"], [0.3333333333333333, \"#9c179e\"], [0.4444444444444444, \"#bd3786\"], [0.5555555555555556, \"#d8576b\"], [0.6666666666666666, \"#ed7953\"], [0.7777777777777778, \"#fb9f3a\"], [0.8888888888888888, \"#fdca26\"], [1.0, \"#f0f921\"]], \"type\": \"histogram2d\"}], \"histogram2dcontour\": [{\"colorbar\": {\"outlinewidth\": 0, \"ticks\": \"\"}, \"colorscale\": [[0.0, \"#0d0887\"], [0.1111111111111111, \"#46039f\"], [0.2222222222222222, \"#7201a8\"], [0.3333333333333333, \"#9c179e\"], [0.4444444444444444, \"#bd3786\"], [0.5555555555555556, \"#d8576b\"], [0.6666666666666666, \"#ed7953\"], [0.7777777777777778, \"#fb9f3a\"], [0.8888888888888888, \"#fdca26\"], [1.0, \"#f0f921\"]], \"type\": \"histogram2dcontour\"}], \"mesh3d\": [{\"colorbar\": {\"outlinewidth\": 0, \"ticks\": \"\"}, \"type\": \"mesh3d\"}], \"parcoords\": [{\"line\": {\"colorbar\": {\"outlinewidth\": 0, \"ticks\": \"\"}}, \"type\": \"parcoords\"}], \"pie\": [{\"automargin\": true, \"type\": \"pie\"}], \"scatter\": [{\"marker\": {\"colorbar\": {\"outlinewidth\": 0, \"ticks\": \"\"}}, \"type\": \"scatter\"}], \"scatter3d\": [{\"line\": {\"colorbar\": {\"outlinewidth\": 0, \"ticks\": \"\"}}, \"marker\": {\"colorbar\": {\"outlinewidth\": 0, \"ticks\": \"\"}}, \"type\": \"scatter3d\"}], \"scattercarpet\": [{\"marker\": {\"colorbar\": {\"outlinewidth\": 0, \"ticks\": \"\"}}, \"type\": \"scattercarpet\"}], \"scattergeo\": [{\"marker\": {\"colorbar\": {\"outlinewidth\": 0, \"ticks\": \"\"}}, \"type\": \"scattergeo\"}], \"scattergl\": [{\"marker\": {\"colorbar\": {\"outlinewidth\": 0, \"ticks\": \"\"}}, \"type\": \"scattergl\"}], \"scattermapbox\": [{\"marker\": {\"colorbar\": {\"outlinewidth\": 0, \"ticks\": \"\"}}, \"type\": \"scattermapbox\"}], \"scatterpolar\": [{\"marker\": {\"colorbar\": {\"outlinewidth\": 0, \"ticks\": \"\"}}, \"type\": \"scatterpolar\"}], \"scatterpolargl\": [{\"marker\": {\"colorbar\": {\"outlinewidth\": 0, \"ticks\": \"\"}}, \"type\": \"scatterpolargl\"}], \"scatterternary\": [{\"marker\": {\"colorbar\": {\"outlinewidth\": 0, \"ticks\": \"\"}}, \"type\": \"scatterternary\"}], \"surface\": [{\"colorbar\": {\"outlinewidth\": 0, \"ticks\": \"\"}, \"colorscale\": [[0.0, \"#0d0887\"], [0.1111111111111111, \"#46039f\"], [0.2222222222222222, \"#7201a8\"], [0.3333333333333333, \"#9c179e\"], [0.4444444444444444, \"#bd3786\"], [0.5555555555555556, \"#d8576b\"], [0.6666666666666666, \"#ed7953\"], [0.7777777777777778, \"#fb9f3a\"], [0.8888888888888888, \"#fdca26\"], [1.0, \"#f0f921\"]], \"type\": \"surface\"}], \"table\": [{\"cells\": {\"fill\": {\"color\": \"#EBF0F8\"}, \"line\": {\"color\": \"white\"}}, \"header\": {\"fill\": {\"color\": \"#C8D4E3\"}, \"line\": {\"color\": \"white\"}}, \"type\": \"table\"}]}, \"layout\": {\"annotationdefaults\": {\"arrowcolor\": \"#2a3f5f\", \"arrowhead\": 0, \"arrowwidth\": 1}, \"coloraxis\": {\"colorbar\": {\"outlinewidth\": 0, \"ticks\": \"\"}}, \"colorscale\": {\"diverging\": [[0, \"#8e0152\"], [0.1, \"#c51b7d\"], [0.2, \"#de77ae\"], [0.3, \"#f1b6da\"], [0.4, \"#fde0ef\"], [0.5, \"#f7f7f7\"], [0.6, \"#e6f5d0\"], [0.7, \"#b8e186\"], [0.8, \"#7fbc41\"], [0.9, \"#4d9221\"], [1, \"#276419\"]], \"sequential\": [[0.0, \"#0d0887\"], [0.1111111111111111, \"#46039f\"], [0.2222222222222222, \"#7201a8\"], [0.3333333333333333, \"#9c179e\"], [0.4444444444444444, \"#bd3786\"], [0.5555555555555556, \"#d8576b\"], [0.6666666666666666, \"#ed7953\"], [0.7777777777777778, \"#fb9f3a\"], [0.8888888888888888, \"#fdca26\"], [1.0, \"#f0f921\"]], \"sequentialminus\": [[0.0, \"#0d0887\"], [0.1111111111111111, \"#46039f\"], [0.2222222222222222, \"#7201a8\"], [0.3333333333333333, \"#9c179e\"], [0.4444444444444444, \"#bd3786\"], [0.5555555555555556, \"#d8576b\"], [0.6666666666666666, \"#ed7953\"], [0.7777777777777778, \"#fb9f3a\"], [0.8888888888888888, \"#fdca26\"], [1.0, \"#f0f921\"]]}, \"colorway\": [\"#636efa\", \"#EF553B\", \"#00cc96\", \"#ab63fa\", \"#FFA15A\", \"#19d3f3\", \"#FF6692\", \"#B6E880\", \"#FF97FF\", \"#FECB52\"], \"font\": {\"color\": \"#2a3f5f\"}, \"geo\": {\"bgcolor\": \"white\", \"lakecolor\": \"white\", \"landcolor\": \"#E5ECF6\", \"showlakes\": true, \"showland\": true, \"subunitcolor\": \"white\"}, \"hoverlabel\": {\"align\": \"left\"}, \"hovermode\": \"closest\", \"mapbox\": {\"style\": \"light\"}, \"paper_bgcolor\": \"white\", \"plot_bgcolor\": \"#E5ECF6\", \"polar\": {\"angularaxis\": {\"gridcolor\": \"white\", \"linecolor\": \"white\", \"ticks\": \"\"}, \"bgcolor\": \"#E5ECF6\", \"radialaxis\": {\"gridcolor\": \"white\", \"linecolor\": \"white\", \"ticks\": \"\"}}, \"scene\": {\"xaxis\": {\"backgroundcolor\": \"#E5ECF6\", \"gridcolor\": \"white\", \"gridwidth\": 2, \"linecolor\": \"white\", \"showbackground\": true, \"ticks\": \"\", \"zerolinecolor\": \"white\"}, \"yaxis\": {\"backgroundcolor\": \"#E5ECF6\", \"gridcolor\": \"white\", \"gridwidth\": 2, \"linecolor\": \"white\", \"showbackground\": true, \"ticks\": \"\", \"zerolinecolor\": \"white\"}, \"zaxis\": {\"backgroundcolor\": \"#E5ECF6\", \"gridcolor\": \"white\", \"gridwidth\": 2, \"linecolor\": \"white\", \"showbackground\": true, \"ticks\": \"\", \"zerolinecolor\": \"white\"}}, \"shapedefaults\": {\"line\": {\"color\": \"#2a3f5f\"}}, \"ternary\": {\"aaxis\": {\"gridcolor\": \"white\", \"linecolor\": \"white\", \"ticks\": \"\"}, \"baxis\": {\"gridcolor\": \"white\", \"linecolor\": \"white\", \"ticks\": \"\"}, \"bgcolor\": \"#E5ECF6\", \"caxis\": {\"gridcolor\": \"white\", \"linecolor\": \"white\", \"ticks\": \"\"}}, \"title\": {\"x\": 0.05}, \"xaxis\": {\"automargin\": true, \"gridcolor\": \"white\", \"linecolor\": \"white\", \"ticks\": \"\", \"title\": {\"standoff\": 15}, \"zerolinecolor\": \"white\", \"zerolinewidth\": 2}, \"yaxis\": {\"automargin\": true, \"gridcolor\": \"white\", \"linecolor\": \"white\", \"ticks\": \"\", \"title\": {\"standoff\": 15}, \"zerolinecolor\": \"white\", \"zerolinewidth\": 2}}}, \"title\": {\"text\": \"Decision Tree Model\"}, \"xaxis\": {\"anchor\": \"y\", \"domain\": [0.0, 1.0], \"title\": {\"text\": \"Weight\"}}, \"yaxis\": {\"anchor\": \"x\", \"domain\": [0.0, 1.0], \"title\": {\"text\": \"Actual Height\"}}},\n",
       "                        {\"responsive\": true}\n",
       "                    ).then(function(){\n",
       "                            \n",
       "var gd = document.getElementById('11050547-bb9c-409d-8b3b-ef3d7dfe158e');\n",
       "var x = new MutationObserver(function (mutations, observer) {{\n",
       "        var display = window.getComputedStyle(gd).display;\n",
       "        if (!display || display === 'none') {{\n",
       "            console.log([gd, 'removed!']);\n",
       "            Plotly.purge(gd);\n",
       "            observer.disconnect();\n",
       "        }}\n",
       "}});\n",
       "\n",
       "// Listen for the removal of the full notebook cells\n",
       "var notebookContainer = gd.closest('#notebook-container');\n",
       "if (notebookContainer) {{\n",
       "    x.observe(notebookContainer, {childList: true});\n",
       "}}\n",
       "\n",
       "// Listen for the clearing of the current output cell\n",
       "var outputEl = gd.closest('.output');\n",
       "if (outputEl) {{\n",
       "    x.observe(outputEl, {childList: true});\n",
       "}}\n",
       "\n",
       "                        })\n",
       "                };\n",
       "                \n",
       "            </script>\n",
       "        </div>\n",
       "</body>\n",
       "</html>"
      ]
     },
     "metadata": {},
     "output_type": "display_data"
    }
   ],
   "source": [
    "fig = px.scatter(df_predict, x='Weight',y='Actual Height', title='Decision Tree Model')\n",
    "fig.add_trace(go.Scatter(x=weight_range,y=height_range_d,mode=\"lines\",name='Decision Tree Model'))\n",
    "fig.show()"
   ]
  },
  {
   "cell_type": "code",
   "execution_count": null,
   "metadata": {
    "colab": {
     "base_uri": "https://localhost:8080/",
     "height": 423
    },
    "id": "qB23Wu5gQ1B9",
    "outputId": "b869a1a4-7eef-43e0-bd21-9b5f0ccaac7e"
   },
   "outputs": [
    {
     "data": {
      "text/html": [
       "<div>\n",
       "<style scoped>\n",
       "    .dataframe tbody tr th:only-of-type {\n",
       "        vertical-align: middle;\n",
       "    }\n",
       "\n",
       "    .dataframe tbody tr th {\n",
       "        vertical-align: top;\n",
       "    }\n",
       "\n",
       "    .dataframe thead th {\n",
       "        text-align: right;\n",
       "    }\n",
       "</style>\n",
       "<table border=\"1\" class=\"dataframe\">\n",
       "  <thead>\n",
       "    <tr style=\"text-align: right;\">\n",
       "      <th></th>\n",
       "      <th>Weight</th>\n",
       "      <th>Actual Height</th>\n",
       "      <th>Lin Reg Predicted Height</th>\n",
       "      <th>Decision Tree Predicted Height</th>\n",
       "      <th>Forecast Error Lin Reg</th>\n",
       "      <th>Forecast Error Decision Tree</th>\n",
       "    </tr>\n",
       "  </thead>\n",
       "  <tbody>\n",
       "    <tr>\n",
       "      <th>127</th>\n",
       "      <td>170</td>\n",
       "      <td>74.00</td>\n",
       "      <td>73.028653</td>\n",
       "      <td>70.000000</td>\n",
       "      <td>0.971347</td>\n",
       "      <td>4.000000</td>\n",
       "    </tr>\n",
       "    <tr>\n",
       "      <th>97</th>\n",
       "      <td>177</td>\n",
       "      <td>74.75</td>\n",
       "      <td>73.740808</td>\n",
       "      <td>71.250000</td>\n",
       "      <td>1.009192</td>\n",
       "      <td>3.500000</td>\n",
       "    </tr>\n",
       "    <tr>\n",
       "      <th>70</th>\n",
       "      <td>179</td>\n",
       "      <td>73.00</td>\n",
       "      <td>73.944280</td>\n",
       "      <td>74.200000</td>\n",
       "      <td>-0.944280</td>\n",
       "      <td>-1.200000</td>\n",
       "    </tr>\n",
       "    <tr>\n",
       "      <th>109</th>\n",
       "      <td>180</td>\n",
       "      <td>76.75</td>\n",
       "      <td>74.046017</td>\n",
       "      <td>72.333333</td>\n",
       "      <td>2.703983</td>\n",
       "      <td>4.416667</td>\n",
       "    </tr>\n",
       "    <tr>\n",
       "      <th>65</th>\n",
       "      <td>180</td>\n",
       "      <td>73.00</td>\n",
       "      <td>74.046017</td>\n",
       "      <td>72.333333</td>\n",
       "      <td>-1.046017</td>\n",
       "      <td>0.666667</td>\n",
       "    </tr>\n",
       "    <tr>\n",
       "      <th>...</th>\n",
       "      <td>...</td>\n",
       "      <td>...</td>\n",
       "      <td>...</td>\n",
       "      <td>...</td>\n",
       "      <td>...</td>\n",
       "      <td>...</td>\n",
       "    </tr>\n",
       "    <tr>\n",
       "      <th>46</th>\n",
       "      <td>264</td>\n",
       "      <td>81.75</td>\n",
       "      <td>82.591874</td>\n",
       "      <td>82.500000</td>\n",
       "      <td>-0.841874</td>\n",
       "      <td>-0.750000</td>\n",
       "    </tr>\n",
       "    <tr>\n",
       "      <th>116</th>\n",
       "      <td>265</td>\n",
       "      <td>83.00</td>\n",
       "      <td>82.693610</td>\n",
       "      <td>82.500000</td>\n",
       "      <td>0.306390</td>\n",
       "      <td>0.500000</td>\n",
       "    </tr>\n",
       "    <tr>\n",
       "      <th>69</th>\n",
       "      <td>277</td>\n",
       "      <td>77.25</td>\n",
       "      <td>83.914447</td>\n",
       "      <td>81.750000</td>\n",
       "      <td>-6.664447</td>\n",
       "      <td>-4.500000</td>\n",
       "    </tr>\n",
       "    <tr>\n",
       "      <th>64</th>\n",
       "      <td>277</td>\n",
       "      <td>80.75</td>\n",
       "      <td>83.914447</td>\n",
       "      <td>81.750000</td>\n",
       "      <td>-3.164447</td>\n",
       "      <td>-1.000000</td>\n",
       "    </tr>\n",
       "    <tr>\n",
       "      <th>38</th>\n",
       "      <td>302</td>\n",
       "      <td>80.50</td>\n",
       "      <td>86.457856</td>\n",
       "      <td>81.500000</td>\n",
       "      <td>-5.957856</td>\n",
       "      <td>-1.000000</td>\n",
       "    </tr>\n",
       "  </tbody>\n",
       "</table>\n",
       "<p>129 rows × 6 columns</p>\n",
       "</div>"
      ],
      "text/plain": [
       "     Weight  ...  Forecast Error Decision Tree\n",
       "127     170  ...                      4.000000\n",
       "97      177  ...                      3.500000\n",
       "70      179  ...                     -1.200000\n",
       "109     180  ...                      4.416667\n",
       "65      180  ...                      0.666667\n",
       "..      ...  ...                           ...\n",
       "46      264  ...                     -0.750000\n",
       "116     265  ...                      0.500000\n",
       "69      277  ...                     -4.500000\n",
       "64      277  ...                     -1.000000\n",
       "38      302  ...                     -1.000000\n",
       "\n",
       "[129 rows x 6 columns]"
      ]
     },
     "execution_count": 21,
     "metadata": {},
     "output_type": "execute_result"
    }
   ],
   "source": [
    "df_predict.sort_values('Weight')"
   ]
  },
  {
   "cell_type": "markdown",
   "metadata": {
    "id": "a9ixyQslBXu6"
   },
   "source": [
    "## **Iterating to find the minimum Mean Squared Error for a parameter in a Linear Regression Model**\n",
    "\n",
    "**Linear Regression model for NBA Player Heights: Height = Intercept + $\\\\beta_1$(Weight)=**\n",
    "\n",
    "**Height = 55.73 + 0.1017(Weight)**"
   ]
  },
  {
   "cell_type": "code",
   "execution_count": null,
   "metadata": {
    "id": "JsAuP0Z3_YWN"
   },
   "outputs": [],
   "source": [
    "mse_list = []\n",
    "\n",
    "for num in np.arange(30,70,.001):\n",
    "  mse_list.append(mse(df_predict['Weight'] * linear_reg.coef_[0] + num - df_predict['Actual Height']))"
   ]
  },
  {
   "cell_type": "code",
   "execution_count": null,
   "metadata": {
    "colab": {
     "base_uri": "https://localhost:8080/",
     "height": 615
    },
    "id": "E7dZoLGW_kEO",
    "outputId": "efc40b62-a8c9-4190-c29e-129e419c6cf8"
   },
   "outputs": [
    {
     "data": {
      "image/png": "[encoded data removed]",
      "text/plain": [
       "<Figure size 1008x720 with 1 Axes>"
      ]
     },
     "metadata": {
      "needs_background": "light"
     },
     "output_type": "display_data"
    }
   ],
   "source": [
    "plt.scatter(np.arange(30,70,.001)[mse_list.index(min(mse_list))], min(mse_list), color='red', s=250,\n",
    "            label = f'Intercept Estimate: {np.arange(30,70,.001)[mse_list.index(min(mse_list))]:.2f}\\nMean Squared Error: {min(mse_list):.2f}',zorder=2)\n",
    "plt.plot(np.arange(30,70,.001), mse_list, lw = 7,zorder=1)\n",
    "plt.xlabel('Intercept Estimate')\n",
    "plt.ylabel('Mean Squared Error')\n",
    "plt.legend();"
   ]
  },
  {
   "cell_type": "code",
   "execution_count": null,
   "metadata": {
    "colab": {
     "base_uri": "https://localhost:8080/"
    },
    "id": "FntasFANE4eB",
    "outputId": "7e2beeab-7774-45c0-ed84-8357d3ef37fc"
   },
   "outputs": [
    {
     "data": {
      "text/plain": [
       "55.73346655585519"
      ]
     },
     "execution_count": 24,
     "metadata": {},
     "output_type": "execute_result"
    }
   ],
   "source": [
    "linear_reg.intercept_"
   ]
  },
  {
   "cell_type": "markdown",
   "metadata": {
    "id": "xuhyx9qmd4tm"
   },
   "source": [
    "# **References and Additional Learning**"
   ]
  },
  {
   "cell_type": "markdown",
   "metadata": {
    "id": "3zQrvljguoRA"
   },
   "source": [
    "## **Data Set**\n",
    "\n",
    "- **[NBA Draft Combine Measurements from data.world](https://data.world/achou/nba-draft-combine-measurements)**\n",
    "\n",
    "\n",
    "## **Textbook**\n",
    "- **[Introduction to Machine Learning with Python](https://www.oreilly.com/library/view/introduction-to-machine/9781449369880/) by Andreas C. Müller and Sarah Guido**\n",
    "\n",
    "\n",
    "## **Websites**\n",
    "\n",
    "- **[scikit-learn Documentation](https://scikit-learn.org/0.21/documentation.html)**"
   ]
  },
  {
   "cell_type": "markdown",
   "metadata": {
    "id": "EVRci4LLd-bi"
   },
   "source": [
    "# **Connect**\n",
    "\n",
    "- **Feel free to connect with Adrian on [YouTube](https://www.youtube.com/channel/UCPuDxI3xb_ryUUMfkm0jsRA), [LinkedIn](https://www.linkedin.com/in/adrian-dolinay-frm-96a289106/), [Twitter](https://twitter.com/DolinayG) and [GitHub](https://github.com/ad17171717)**"
   ]
  }
 ],
 "metadata": {
  "colab": {
   "collapsed_sections": [],
   "name": "Machine Learning with Python! Mean Squared Error (MSE) FULL.ipynb",
   "provenance": []
  },
  "hide_input": false,
  "kernelspec": {
   "display_name": "Python 3",
   "language": "python",
   "name": "python3"
  },
  "language_info": {
   "codemirror_mode": {
    "name": "ipython",
    "version": 3
   },
   "file_extension": ".py",
   "mimetype": "text/x-python",
   "name": "python",
   "nbconvert_exporter": "python",
   "pygments_lexer": "ipython3",
   "version": "3.8.5"
  }
 },
 "nbformat": 4,
 "nbformat_minor": 1
}
