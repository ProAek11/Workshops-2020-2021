{
  "nbformat": 4,
  "nbformat_minor": 0,
  "metadata": {
    "colab": {
      "name": "Python - K-Nearest Neighbors Classification Algorithm (KNN)!.ipynb",
      "provenance": [],
      "collapsed_sections": []
    },
    "kernelspec": {
      "name": "python3",
      "display_name": "Python 3"
    },
    "language_info": {
      "name": "python"
    }
  },
  "cells": [
    {
      "cell_type": "code",
      "metadata": {
        "id": "FjUOHHpRWJVY"
      },
      "source": [
        "import pandas as pd\n",
        "import matplotlib.pyplot as plt\n",
        "from matplotlib.colors import ListedColormap\n",
        "from sklearn.model_selection import train_test_split\n",
        "from sklearn.metrics import accuracy_score\n",
        "import numpy as np\n",
        "from scipy.spatial import distance\n",
        "\n",
        "from sklearn.tree import DecisionTreeClassifier\n",
        "d_tree = DecisionTreeClassifier()\n",
        "\n",
        "from sklearn.naive_bayes import GaussianNB\n",
        "gnb = GaussianNB()"
      ],
      "execution_count": null,
      "outputs": []
    },
    {
      "cell_type": "code",
      "metadata": {
        "id": "GUiH9R6ULIDd"
      },
      "source": [
        "plt.rcParams[\"figure.figsize\"] = (12,10)\n",
        "plt.rcParams.update({'font.size': 12})"
      ],
      "execution_count": null,
      "outputs": []
    },
    {
      "cell_type": "markdown",
      "metadata": {
        "id": "IVnAZOjz598K"
      },
      "source": [
        "# **K-Nearest Neighbors Algorithm**\n",
        "\n",
        "**K-nearest neighbors is a non-parametric algorithm that can be utilized for classification or regression. For classification, the algorithm predicts the classification for a given input by finding the closest point or points to that input.**\n",
        "\n",
        "**The algorithm requires a distance calculation to measure between points and the assumption that points that are close together are similar.**\n"
      ]
    },
    {
      "cell_type": "markdown",
      "metadata": {
        "id": "gfrl0FGBQHCV"
      },
      "source": [
        "<sup>Reference: [Machine Learning A Probabilistic Perspective by Kevin Murphy](https://www.google.com/url?sa=t&rct=j&q=&esrc=s&source=web&cd=&ved=2ahUKEwiossWtlvXyAhVvhOAKHaHYDNUQFnoECAQQAQ&url=http%3A%2F%2Fnoiselab.ucsd.edu%2FECE228%2FMurphy_Machine_Learning.pdf&usg=AOvVaw0ivnxQoBAr1Kn4BwTBbNxe)</sup>\n",
        "\n",
        "<sup>Reference: [Data Science from Scratch First Principles with Python by Joel Grus](https://www.google.com/url?sa=t&rct=j&q=&esrc=s&source=web&cd=&ved=2ahUKEwjO1s20-f7yAhW3GFkFHZwsBcEQFnoECAIQAQ&url=http%3A%2F%2Fmath.ecnu.edu.cn%2F~lfzhou%2Fseminar%2F%5BJoel_Grus%5D_Data_Science_from_Scratch_First_Princ.pdf&usg=AOvVaw3bJ0pcZM201kEXZjeTiLrr)</sup>"
      ]
    },
    {
      "cell_type": "code",
      "metadata": {
        "id": "ESaiEDVf3Fr9"
      },
      "source": [
        ""
      ],
      "execution_count": null,
      "outputs": []
    },
    {
      "cell_type": "code",
      "metadata": {
        "id": "MZdbtssFHROv"
      },
      "source": [
        ""
      ],
      "execution_count": null,
      "outputs": []
    },
    {
      "cell_type": "code",
      "metadata": {
        "id": "YuobS6vXHT6X"
      },
      "source": [
        ""
      ],
      "execution_count": null,
      "outputs": []
    },
    {
      "cell_type": "code",
      "metadata": {
        "id": "sZyIVXbzTPdT"
      },
      "source": [
        ""
      ],
      "execution_count": null,
      "outputs": []
    },
    {
      "cell_type": "code",
      "metadata": {
        "id": "lWd6v1Y0Ncx3"
      },
      "source": [
        ""
      ],
      "execution_count": null,
      "outputs": []
    },
    {
      "cell_type": "markdown",
      "metadata": {
        "id": "WKH44Wh83ytC"
      },
      "source": [
        "## **KNN from scratch**"
      ]
    },
    {
      "cell_type": "code",
      "metadata": {
        "id": "wHkLBqVWchzI"
      },
      "source": [
        ""
      ],
      "execution_count": null,
      "outputs": []
    },
    {
      "cell_type": "code",
      "metadata": {
        "id": "qu9zf17tryvn"
      },
      "source": [
        ""
      ],
      "execution_count": null,
      "outputs": []
    },
    {
      "cell_type": "markdown",
      "metadata": {
        "id": "3g6pR5-nsmzO"
      },
      "source": [
        "### **Euclidean Distance between 2 Points**\n",
        "\n",
        "$d = \\sqrt{(q_1 - p_1)^2 + (q_2 - p_2)^2}$"
      ]
    },
    {
      "cell_type": "markdown",
      "metadata": {
        "id": "ICiGSd3yBE2d"
      },
      "source": [
        "### **Small Data Set Example**"
      ]
    },
    {
      "cell_type": "code",
      "metadata": {
        "id": "ZOWsPfe6BI2h"
      },
      "source": [
        ""
      ],
      "execution_count": null,
      "outputs": []
    },
    {
      "cell_type": "code",
      "metadata": {
        "id": "RRT8KcEeBU1t"
      },
      "source": [
        ""
      ],
      "execution_count": null,
      "outputs": []
    },
    {
      "cell_type": "code",
      "metadata": {
        "id": "8kjWlY3yBesA"
      },
      "source": [
        ""
      ],
      "execution_count": null,
      "outputs": []
    },
    {
      "cell_type": "markdown",
      "metadata": {
        "id": "Mgfzg8cHBMaF"
      },
      "source": [
        "### **Coding the KNN algorithm as a function**"
      ]
    },
    {
      "cell_type": "code",
      "metadata": {
        "id": "L50uTlT5YO8b"
      },
      "source": [
        ""
      ],
      "execution_count": null,
      "outputs": []
    },
    {
      "cell_type": "code",
      "metadata": {
        "id": "cv-7bkIG-_9o"
      },
      "source": [
        ""
      ],
      "execution_count": null,
      "outputs": []
    },
    {
      "cell_type": "markdown",
      "metadata": {
        "id": "YIFlpU8D9Q7w"
      },
      "source": [
        "### **Asteroid Data**"
      ]
    },
    {
      "cell_type": "code",
      "metadata": {
        "id": "8lTHq5Y2jBOz"
      },
      "source": [
        ""
      ],
      "execution_count": null,
      "outputs": []
    },
    {
      "cell_type": "code",
      "metadata": {
        "id": "1rxVBNBelHvz"
      },
      "source": [
        ""
      ],
      "execution_count": null,
      "outputs": []
    },
    {
      "cell_type": "markdown",
      "metadata": {
        "id": "7-UOAHouTjzX"
      },
      "source": [
        "#### **Measuring how well KNN predicts values**\n",
        "\n",
        "$\\text{Accuracy Score =} \\frac{\\text{True Positive }+\\text{ True Negative}}{\\text{Total Number of Observed Values}}$"
      ]
    },
    {
      "cell_type": "code",
      "metadata": {
        "id": "24KjwPnzns2z"
      },
      "source": [
        ""
      ],
      "execution_count": null,
      "outputs": []
    },
    {
      "cell_type": "markdown",
      "metadata": {
        "id": "8Y7KugaOp7Rl"
      },
      "source": [
        "## **KNN using Scikit-Learn**"
      ]
    },
    {
      "cell_type": "code",
      "metadata": {
        "id": "4a2Ibb9qpPRM"
      },
      "source": [
        ""
      ],
      "execution_count": null,
      "outputs": []
    },
    {
      "cell_type": "code",
      "metadata": {
        "colab": {
          "base_uri": "https://localhost:8080/",
          "height": 612
        },
        "id": "vQPiGaxuQPyx",
        "outputId": "5a504842-d8cc-4763-84df-aa424a42829f"
      },
      "source": [
        "X = df_features.to_numpy()\n",
        "y = df_target.to_numpy()\n",
        "\n",
        "cmap_light = ListedColormap(['orange', 'cyan'])\n",
        "cmap_bold = ListedColormap(['#FF0000', '#00FF00'])\n",
        "\n",
        "h = .02\n",
        "x_min, x_max = X[:, 0].min() - 1, X[:, 0].max() + 1\n",
        "y_min, y_max = X[:, 1].min() - 1, X[:, 1].max() + 1\n",
        "xx, yy = np.meshgrid(np.arange(x_min, x_max, h),\n",
        "                     np.arange(y_min, y_max, h))\n",
        "\n",
        "classifier.fit(X,y)\n",
        "Z = classifier.predict(np.c_[xx.ravel(), yy.ravel()])\n",
        "\n",
        "Z = Z.reshape(xx.shape)\n",
        "plt.figure()\n",
        "plt.pcolormesh(xx, yy, Z, cmap=cmap_light)\n",
        "\n",
        "plt.scatter(X[:, 0], X[:, 1], c=y, cmap=cmap_bold)\n",
        "plt.xlim(xx.min(), xx.max())\n",
        "plt.ylim(yy.min(), yy.max())\n",
        "plt.title(f'KNN Classifier - Neighbors = {knn_neighbors}')\n",
        "plt.show()"
      ],
      "execution_count": null,
      "outputs": [
        {
          "output_type": "display_data",
          "data": {
            "image/png": "[encoded data removed]",
            "text/plain": [
              "<Figure size 864x720 with 1 Axes>"
            ]
          },
          "metadata": {
            "needs_background": "light"
          }
        }
      ]
    },
    {
      "cell_type": "markdown",
      "metadata": {
        "id": "sipZuNkeYxrU"
      },
      "source": [
        "<sup>Source: [Nearest Neighbors Classification from scikit-learn](https://scikit-learn.org/stable/auto_examples/neighbors/plot_classification.html#sphx-glr-auto-examples-neighbors-plot-classification-py)</sup>"
      ]
    },
    {
      "cell_type": "markdown",
      "metadata": {
        "id": "fOyqkgW0Eq6l"
      },
      "source": [
        "# **Issues with KNN**\n",
        "\n",
        "**There are two significant drawbacks to the KNN algorithm.**\n",
        "\n",
        "**1. The algorithm suffers from the \"curse of dimensionality\", meaning that the algorithm cannot handle data sets with a large number of features well.**\n",
        "\n",
        "**2. The KNN algorithm is slow at classifying variables relative to other algorithms.**"
      ]
    },
    {
      "cell_type": "markdown",
      "metadata": {
        "id": "C43L2bs9H9Y1"
      },
      "source": [
        "## **Curse of dimensionality**"
      ]
    },
    {
      "cell_type": "markdown",
      "metadata": {
        "id": "8dfgTRhsXzxN"
      },
      "source": [
        "### **Euclidean Distance for higher dimensions**\n",
        "\n",
        "$d = \\sqrt{(q_1 - p_1)^2 + (q_2 - p_2)^2 + ... + (q_i - p_i)^2 + ... + (q_n - p_n)^2}$"
      ]
    },
    {
      "cell_type": "code",
      "metadata": {
        "id": "2tBPRsXFWSIf"
      },
      "source": [
        ""
      ],
      "execution_count": null,
      "outputs": []
    },
    {
      "cell_type": "code",
      "metadata": {
        "id": "nmM9XWcrYGiq"
      },
      "source": [
        ""
      ],
      "execution_count": null,
      "outputs": []
    },
    {
      "cell_type": "markdown",
      "metadata": {
        "id": "8BZGyfRSRQt3"
      },
      "source": [
        "<sup>Reference: [Data Science from Scratch First Principles with Python by Joel Grus](https://www.google.com/url?sa=t&rct=j&q=&esrc=s&source=web&cd=&ved=2ahUKEwjO1s20-f7yAhW3GFkFHZwsBcEQFnoECAIQAQ&url=http%3A%2F%2Fmath.ecnu.edu.cn%2F~lfzhou%2Fseminar%2F%5BJoel_Grus%5D_Data_Science_from_Scratch_First_Princ.pdf&usg=AOvVaw3bJ0pcZM201kEXZjeTiLrr)</sup>"
      ]
    },
    {
      "cell_type": "markdown",
      "metadata": {
        "id": "Yl2A2ldxIChr"
      },
      "source": [
        "## **Comparing Time to Run**"
      ]
    },
    {
      "cell_type": "code",
      "metadata": {
        "id": "Pq49InJ_5GsK"
      },
      "source": [
        ""
      ],
      "execution_count": null,
      "outputs": []
    },
    {
      "cell_type": "code",
      "metadata": {
        "id": "YNGos84W5mXU"
      },
      "source": [
        ""
      ],
      "execution_count": null,
      "outputs": []
    },
    {
      "cell_type": "code",
      "metadata": {
        "id": "tolcX4Gt5G4O"
      },
      "source": [
        ""
      ],
      "execution_count": null,
      "outputs": []
    },
    {
      "cell_type": "code",
      "metadata": {
        "id": "G5pWNNQP5JC8"
      },
      "source": [
        ""
      ],
      "execution_count": null,
      "outputs": []
    },
    {
      "cell_type": "code",
      "metadata": {
        "id": "O4BKQDSi5FuP"
      },
      "source": [
        ""
      ],
      "execution_count": null,
      "outputs": []
    },
    {
      "cell_type": "code",
      "metadata": {
        "id": "uxwcoMmEatYv"
      },
      "source": [
        ""
      ],
      "execution_count": null,
      "outputs": []
    },
    {
      "cell_type": "code",
      "metadata": {
        "id": "zB17HXpmb0W2"
      },
      "source": [
        ""
      ],
      "execution_count": null,
      "outputs": []
    },
    {
      "cell_type": "markdown",
      "metadata": {
        "id": "bHGOCAHeC1nl"
      },
      "source": [
        "# **References and Additional Learning**"
      ]
    },
    {
      "cell_type": "markdown",
      "metadata": {
        "id": "0QkSKXOo6LD0"
      },
      "source": [
        "## **Data Sets**\n",
        "\n",
        "- **[NASA JPL Asteroid Data set from Kaggle](https://www.kaggle.com/sakhawat18/asteroid-dataset)**\n",
        "\n",
        "- **[Microsoft Malware Data Set from Kaggle](https://www.kaggle.com/c/microsoft-malware-prediction)**"
      ]
    },
    {
      "cell_type": "markdown",
      "metadata": {
        "id": "eAOD_UPWDB6-"
      },
      "source": [
        "## **Textbooks**\n",
        "\n",
        "- **[Machine Learning A Probabilistic Perspective by Kevin Murphy](https://www.google.com/url?sa=t&rct=j&q=&esrc=s&source=web&cd=&ved=2ahUKEwiossWtlvXyAhVvhOAKHaHYDNUQFnoECAQQAQ&url=http%3A%2F%2Fnoiselab.ucsd.edu%2FECE228%2FMurphy_Machine_Learning.pdf&usg=AOvVaw0ivnxQoBAr1Kn4BwTBbNxe)**\n",
        "\n",
        "- **[Understanding Machine Learning:\n",
        "From Theory to Algorithms](https://www.cs.huji.ac.il/~shais/UnderstandingMachineLearning/understanding-machine-learning-theory-algorithms.pdf)**\n",
        "\n",
        "- **[Data Science from Scratch First Principles with Python by Joel Grus](https://www.google.com/url?sa=t&rct=j&q=&esrc=s&source=web&cd=&ved=2ahUKEwjO1s20-f7yAhW3GFkFHZwsBcEQFnoECAIQAQ&url=http%3A%2F%2Fmath.ecnu.edu.cn%2F~lfzhou%2Fseminar%2F%5BJoel_Grus%5D_Data_Science_from_Scratch_First_Princ.pdf&usg=AOvVaw3bJ0pcZM201kEXZjeTiLrr)**"
      ]
    },
    {
      "cell_type": "markdown",
      "metadata": {
        "id": "q3iYrXnNDydD"
      },
      "source": [
        "## **Videos**\n",
        "\n",
        "- **[StatQuest: K-nearest neighbors, Clearly Explained by Josh Starmer](https://www.youtube.com/watch?v=HVXime0nQeI&t=219s)**\n",
        "\n",
        "- **[K-Nearest Neighbor by ritvikmath](https://www.youtube.com/watch?v=UR2ag4lbBtc&t=196s)**"
      ]
    }
  ]
}