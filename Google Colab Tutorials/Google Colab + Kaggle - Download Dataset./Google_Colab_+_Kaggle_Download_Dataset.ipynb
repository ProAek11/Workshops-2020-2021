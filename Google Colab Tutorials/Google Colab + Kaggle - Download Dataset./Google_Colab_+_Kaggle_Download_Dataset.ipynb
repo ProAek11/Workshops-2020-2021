{
  "nbformat": 4,
  "nbformat_minor": 0,
  "metadata": {
    "colab": {
      "name": "Google Colab + Kaggle - Download Dataset.ipynb",
      "provenance": [],
      "collapsed_sections": []
    },
    "kernelspec": {
      "name": "python3",
      "display_name": "Python 3"
    },
    "language_info": {
      "name": "python"
    }
  },
  "cells": [
    {
      "cell_type": "code",
      "metadata": {
        "id": "JD9Ye-55G3tb"
      },
      "source": [
        "import zipfile\n",
        "from google.colab import files\n",
        "\n",
        "#upload the kaggle json file\n",
        "files.upload()"
      ],
      "execution_count": null,
      "outputs": []
    },
    {
      "cell_type": "code",
      "metadata": {
        "colab": {
          "base_uri": "https://localhost:8080/"
        },
        "id": "38Tkbn2lHsmQ",
        "outputId": "b8073fcd-5e3f-404b-805e-582cd11f98b7"
      },
      "source": [
        "#update kaggle api\n",
        "!pip install --upgrade --force-reinstall --no-deps kaggle"
      ],
      "execution_count": 2,
      "outputs": [
        {
          "output_type": "stream",
          "text": [
            "Collecting kaggle\n",
            "  Downloading kaggle-1.5.12.tar.gz (58 kB)\n",
            "\u001b[?25l\r\u001b[K     |█████▋                          | 10 kB 22.8 MB/s eta 0:00:01\r\u001b[K     |███████████▏                    | 20 kB 29.0 MB/s eta 0:00:01\r\u001b[K     |████████████████▊               | 30 kB 34.9 MB/s eta 0:00:01\r\u001b[K     |██████████████████████▎         | 40 kB 36.3 MB/s eta 0:00:01\r\u001b[K     |███████████████████████████▉    | 51 kB 36.3 MB/s eta 0:00:01\r\u001b[K     |████████████████████████████████| 58 kB 5.3 MB/s \n",
            "\u001b[?25hBuilding wheels for collected packages: kaggle\n",
            "  Building wheel for kaggle (setup.py) ... \u001b[?25l\u001b[?25hdone\n",
            "  Created wheel for kaggle: filename=kaggle-1.5.12-py3-none-any.whl size=73052 sha256=1eab938996423922b632c891d82459b32d5aabf7aba87832cc8ef01c5bfdf195\n",
            "  Stored in directory: /root/.cache/pip/wheels/62/d6/58/5853130f941e75b2177d281eb7e44b4a98ed46dd155f556dc5\n",
            "Successfully built kaggle\n",
            "Installing collected packages: kaggle\n",
            "  Attempting uninstall: kaggle\n",
            "    Found existing installation: kaggle 1.5.12\n",
            "    Uninstalling kaggle-1.5.12:\n",
            "      Successfully uninstalled kaggle-1.5.12\n",
            "Successfully installed kaggle-1.5.12\n"
          ],
          "name": "stdout"
        }
      ]
    },
    {
      "cell_type": "code",
      "metadata": {
        "colab": {
          "base_uri": "https://localhost:8080/"
        },
        "id": "_R2K-APxIOq6",
        "outputId": "9f752c60-3c85-4579-cec1-278196a13a38"
      },
      "source": [
        "!mkdir ~/.kaggle\n",
        "!cp /content/kaggle.json ~/.kaggle/\n",
        "!chmod 600 ~/.kaggle/kaggle.json\n",
        "!kaggle competitions download -c dog-breed-identification"
      ],
      "execution_count": 4,
      "outputs": [
        {
          "output_type": "stream",
          "text": [
            "mkdir: cannot create directory ‘/root/.kaggle’: File exists\n",
            "Downloading dog-breed-identification.zip to /content\n",
            " 97% 673M/691M [00:07<00:00, 75.1MB/s]\n",
            "100% 691M/691M [00:07<00:00, 91.7MB/s]\n"
          ],
          "name": "stdout"
        }
      ]
    },
    {
      "cell_type": "code",
      "metadata": {
        "id": "Un8W5sHqIe8U"
      },
      "source": [
        "#folder is unzipped, may take a few moments to populate\n",
        "\n",
        "with zipfile.ZipFile('/content/dog-breed-identification.zip', 'r') as zip_ref:\n",
        "    zip_ref.extractall('/content')"
      ],
      "execution_count": 5,
      "outputs": []
    }
  ]
}