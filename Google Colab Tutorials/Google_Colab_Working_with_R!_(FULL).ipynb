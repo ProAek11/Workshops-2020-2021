{
  "nbformat": 4,
  "nbformat_minor": 0,
  "metadata": {
    "colab": {
      "name": "Google Colab - Working with R! (FULL).ipynb",
      "provenance": [],
      "collapsed_sections": []
    },
    "kernelspec": {
      "name": "python3",
      "display_name": "Python 3"
    },
    "language_info": {
      "name": "python"
    }
  },
  "cells": [
    {
      "cell_type": "code",
      "metadata": {
        "id": "1bJiCs-W7Grb"
      },
      "source": [
        "%load_ext rpy2.ipython"
      ],
      "execution_count": 1,
      "outputs": []
    },
    {
      "cell_type": "code",
      "metadata": {
        "colab": {
          "base_uri": "https://localhost:8080/"
        },
        "id": "Dq40x3OV7Vi-",
        "outputId": "af8b1cb8-76ed-44fe-ea1a-9d4a06ad6270"
      },
      "source": [
        "%%R \n",
        "library(datasets)\n",
        "data(iris)\n",
        "summary(iris)"
      ],
      "execution_count": 2,
      "outputs": [
        {
          "output_type": "stream",
          "text": [
            "  Sepal.Length    Sepal.Width     Petal.Length    Petal.Width   \n",
            " Min.   :4.300   Min.   :2.000   Min.   :1.000   Min.   :0.100  \n",
            " 1st Qu.:5.100   1st Qu.:2.800   1st Qu.:1.600   1st Qu.:0.300  \n",
            " Median :5.800   Median :3.000   Median :4.350   Median :1.300  \n",
            " Mean   :5.843   Mean   :3.057   Mean   :3.758   Mean   :1.199  \n",
            " 3rd Qu.:6.400   3rd Qu.:3.300   3rd Qu.:5.100   3rd Qu.:1.800  \n",
            " Max.   :7.900   Max.   :4.400   Max.   :6.900   Max.   :2.500  \n",
            "       Species  \n",
            " setosa    :50  \n",
            " versicolor:50  \n",
            " virginica :50  \n",
            "                \n",
            "                \n",
            "                \n"
          ],
          "name": "stdout"
        }
      ]
    },
    {
      "cell_type": "code",
      "metadata": {
        "id": "ykY7depW8oT2"
      },
      "source": [
        "#notebook with R kernel -> https://colab.research.google.com/notebook#create=true&language=r"
      ],
      "execution_count": 3,
      "outputs": []
    },
    {
      "cell_type": "markdown",
      "metadata": {
        "id": "LuHT4xDW-xL2"
      },
      "source": [
        "# **References and Additional Learning**\n",
        "\n",
        "## **Websites**\n",
        "\n",
        "- **[Documentation for rpy2](https://rpy2.github.io/doc/v3.0.x/html/index.html)**\n",
        "\n",
        "# **Connect**\n",
        "- **Feel free to connect with Adrian on [YouTube](https://www.youtube.com/channel/UCPuDxI3xb_ryUUMfkm0jsRA), [LinkedIn](https://www.linkedin.com/in/adrian-dolinay-frm-96a289106/), [Twitter](https://twitter.com/DolinayG) and [GitHub](https://github.com/ad17171717). Happy coding!**\n",
        "\n",
        "- **[Running an R kernel in Google Colab](https://www.roelpeters.be/running-an-r-kernel-in-google-colab/) by Roel Peters**"
      ]
    }
  ]
}