{
  "nbformat": 4,
  "nbformat_minor": 0,
  "metadata": {
    "colab": {
      "name": "LaTeX and Markdown Examples.ipynb",
      "provenance": [],
      "collapsed_sections": []
    },
    "kernelspec": {
      "name": "python3",
      "display_name": "Python 3"
    }
  },
  "cells": [
    {
      "cell_type": "markdown",
      "metadata": {
        "id": "J0j7zrkQrw61"
      },
      "source": [
        "# <center> **Question from the textbook College Algebra by Sheldon Axler** <center/>\n",
        "\n",
        "## Find a number $t$ such that the line containing the points (1, $t$) and (3, 7) has slope 5."
      ]
    },
    {
      "cell_type": "markdown",
      "metadata": {
        "id": "i9dr9bd6fjc4"
      },
      "source": [
        "<br/>\n",
        "<br/>\n",
        "\n",
        "# <center> **Answer** <center/>\n",
        "\n",
        "## We know the formula for the slope of two points is: $\\frac{y_2 - y_1}{x_2 - x_1} = slope$\n",
        "\n",
        "## (1,$t$) corresponds to $x_1, y_1$ and (3,7) corresponds to $x_2, y_2$.\n",
        "\n",
        "## We can set up the formula for the slope: $[\\frac{7-t}{3-1} = 5] = [\\frac{7-t}{2} = 5] = [7 - t = 10] = [-t = 3] = [t = -3]$\n",
        "\n",
        "## **Using the formula for the slope between two points, we find that $t$ or $y_1$ = -3**\n",
        "\n",
        "<br/>\n",
        "<br/>"
      ]
    },
    {
      "cell_type": "markdown",
      "metadata": {
        "id": "rqfnwBnGryub"
      },
      "source": [
        "# <center> **Question from the textbook Calculus 8th Edition by James Stewart** <center/>\n",
        "\n",
        "## How would you “remove the discontinuity” of $f$? In other words, how would you define $f(2)$ in order to make $f$ continuous at 2?\n",
        "\n",
        "## $f(x) = \\frac{x^2 - x - 2}{x-2}$\n"
      ]
    },
    {
      "cell_type": "markdown",
      "metadata": {
        "id": "JfbpoftqihPQ"
      },
      "source": [
        "<br/>\n",
        "<br/>\n",
        "\n",
        "# <center> **Answer** <center/>\n",
        "\n",
        "## We first need to factor the trinomial.\n",
        "## $f(x) = \\frac{x^2 - x - 2}{x-2} = \\frac{(x + 1)(x - 2)}{x-2}$\n",
        "## Next we can cancel out the ($x - 2$) terms in the numerator and the denominator.\n",
        "## $\\frac{(x + 1)(x - 2)}{x-2} = x + 1$\n",
        "## Plugging in 2, we now get: $f(2) = 2 + 1 = 3$\n",
        "## **$f$ is continuos at 2.**\n",
        "\n",
        "<br/>\n",
        "<br/>"
      ]
    },
    {
      "cell_type": "markdown",
      "metadata": {
        "id": "9EroznmNry5K"
      },
      "source": [
        "# <center> **Question from the textbook Calculus 8th Edition by James Stewart** <center/>\n",
        "\n",
        "## Evaluate the integral\n",
        "\n",
        "## $\\int_1^3 (x^2 + 2x - 4)dx$"
      ]
    },
    {
      "cell_type": "markdown",
      "metadata": {
        "id": "EAMvHq6GkMKF"
      },
      "source": [
        "<br/>\n",
        "<br/>\n",
        "\n",
        "# <center> **Answer** <center/>\n",
        "\n",
        "\n",
        "$$\\int_1^3 (x^2 + 2x - 4) dx =\\\\\n",
        "\\frac{x^3}{3} + x^2 - 4x \\Big|_1^3 = \\\\\n",
        "(9 + 9 - 12) - (\\frac{1}{3} + 1 -4) = \\\\\n",
        "6 + 2\\frac{2}{3} = \\\\\n",
        "\\frac{18}{3} + \\frac{8}{3} = \\\\\n",
        "\\boldsymbol{\\frac{26}{3}} \n",
        "$$"
      ]
    },
    {
      "cell_type": "markdown",
      "metadata": {
        "id": "fC7qM3ZhYReX"
      },
      "source": [
        "<br/>\n",
        "<br/>\n",
        "\n",
        "# <center>**Sources to Learn More!**<center/>\n",
        "\n",
        "### [**Markdown Cheat Sheet**](https://www.markdownguide.org/cheat-sheet/)\n",
        "### [**Introduction to LaTeX**](https://www.latex-project.org/about/)\n"
      ]
    }
  ]
}