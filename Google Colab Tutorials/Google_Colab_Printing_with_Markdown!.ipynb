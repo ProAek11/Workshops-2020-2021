{
  "nbformat": 4,
  "nbformat_minor": 0,
  "metadata": {
    "colab": {
      "name": "Google Colab - Printing with Markdown!.ipynb",
      "provenance": [],
      "collapsed_sections": []
    },
    "kernelspec": {
      "name": "python3",
      "display_name": "Python 3"
    },
    "language_info": {
      "name": "python"
    }
  },
  "cells": [
    {
      "cell_type": "code",
      "metadata": {
        "id": "35RA5BMRo0bC"
      },
      "source": [
        "from IPython.display import Markdown as md\n",
        "from IPython.display import YouTubeVideo\n",
        "import numpy as np"
      ],
      "execution_count": 1,
      "outputs": []
    },
    {
      "cell_type": "code",
      "metadata": {
        "colab": {
          "base_uri": "https://localhost:8080/",
          "height": 321
        },
        "id": "ENfoMlOcFzQ4",
        "outputId": "4a9e3578-a179-49c9-b1f1-da009861bff1"
      },
      "source": [
        "#tutorial on YouTube\n",
        "YouTubeVideo('egOR43vlBgk')"
      ],
      "execution_count": 2,
      "outputs": [
        {
          "output_type": "execute_result",
          "data": {
            "text/html": [
              "\n",
              "        <iframe\n",
              "            width=\"400\"\n",
              "            height=\"300\"\n",
              "            src=\"https://www.youtube.com/embed/egOR43vlBgk\"\n",
              "            frameborder=\"0\"\n",
              "            allowfullscreen\n",
              "        ></iframe>\n",
              "        "
            ],
            "text/plain": [
              "<IPython.lib.display.YouTubeVideo at 0x7f83c92b4190>"
            ]
          },
          "metadata": {
            "tags": []
          },
          "execution_count": 2
        }
      ]
    },
    {
      "cell_type": "code",
      "metadata": {
        "id": "0he5sgRhx-9B"
      },
      "source": [
        "normal_samples = np.random.normal(size = 10000)"
      ],
      "execution_count": 3,
      "outputs": []
    },
    {
      "cell_type": "code",
      "metadata": {
        "colab": {
          "base_uri": "https://localhost:8080/",
          "height": 78
        },
        "id": "yj7lGrUBy1sh",
        "outputId": "61dd9a2c-4c05-43ad-c15e-78b3b8c11481"
      },
      "source": [
        "md(f'### **The sample mean for the standard normal distribution is: {np.mean(normal_samples):.2f} and the sample standard deviation for the distribution is: {np.std(normal_samples):.2f}**')"
      ],
      "execution_count": 4,
      "outputs": [
        {
          "output_type": "execute_result",
          "data": {
            "text/markdown": "### **The sample mean for the standard normal distribution is: 0.00 and the sample standard deviation for the distribution is: 1.01**",
            "text/plain": [
              "<IPython.core.display.Markdown object>"
            ]
          },
          "metadata": {
            "tags": []
          },
          "execution_count": 4
        }
      ]
    },
    {
      "cell_type": "code",
      "metadata": {
        "colab": {
          "base_uri": "https://localhost:8080/",
          "height": 58
        },
        "id": "9VqWmCYUy1vA",
        "outputId": "d8154097-7eda-466a-a8b8-363d579182f1"
      },
      "source": [
        "md(f'### **Number of samples from the standard normal distribution: {len(normal_samples)}**')"
      ],
      "execution_count": 5,
      "outputs": [
        {
          "output_type": "execute_result",
          "data": {
            "text/markdown": "### **Number of samples from the standard normal distribution: 10000**",
            "text/plain": [
              "<IPython.core.display.Markdown object>"
            ]
          },
          "metadata": {
            "tags": []
          },
          "execution_count": 5
        }
      ]
    },
    {
      "cell_type": "code",
      "metadata": {
        "colab": {
          "base_uri": "https://localhost:8080/",
          "height": 62
        },
        "id": "8wuo-x-m0V2e",
        "outputId": "a19db395-e026-424a-d1f5-77579e3ffcad"
      },
      "source": [
        "md('### **The true $\\mu$ is: 0 and the true $\\sigma$ is: 1**')"
      ],
      "execution_count": 6,
      "outputs": [
        {
          "output_type": "execute_result",
          "data": {
            "text/markdown": "### **The true $\\mu$ is: 0 and the true $\\sigma$ is: 1**",
            "text/plain": [
              "<IPython.core.display.Markdown object>"
            ]
          },
          "metadata": {
            "tags": []
          },
          "execution_count": 6
        }
      ]
    }
  ]
}