{
  "nbformat": 4,
  "nbformat_minor": 0,
  "metadata": {
    "colab": {
      "name": "Google_Colab_IPython_display! (FULL).ipynb",
      "provenance": [],
      "collapsed_sections": []
    },
    "kernelspec": {
      "name": "python3",
      "display_name": "Python 3"
    },
    "language_info": {
      "name": "python"
    }
  },
  "cells": [
    {
      "cell_type": "code",
      "metadata": {
        "id": "rdWzNg3InxXj"
      },
      "source": [
        "from IPython import display"
      ],
      "execution_count": 1,
      "outputs": []
    },
    {
      "cell_type": "code",
      "metadata": {
        "colab": {
          "base_uri": "https://localhost:8080/",
          "height": 321
        },
        "id": "VNl8TmiH9BLx",
        "outputId": "d17678c3-8801-4d33-8557-b2f16162695e"
      },
      "source": [
        "#tutorial on YouTube\n",
        "display.YouTubeVideo('ZPbLS3E-AAg')"
      ],
      "execution_count": 3,
      "outputs": [
        {
          "output_type": "execute_result",
          "data": {
            "text/html": [
              "\n",
              "        <iframe\n",
              "            width=\"400\"\n",
              "            height=\"300\"\n",
              "            src=\"https://www.youtube.com/embed/ZPbLS3E-AAg\"\n",
              "            frameborder=\"0\"\n",
              "            allowfullscreen\n",
              "        ></iframe>\n",
              "        "
            ],
            "text/plain": [
              "<IPython.lib.display.YouTubeVideo at 0x7f06809c3710>"
            ]
          },
          "metadata": {
            "tags": []
          },
          "execution_count": 3
        }
      ]
    },
    {
      "cell_type": "code",
      "metadata": {
        "colab": {
          "base_uri": "https://localhost:8080/",
          "height": 83
        },
        "id": "Q1BhJOsjt9GK",
        "outputId": "e45335f0-1e09-4f5f-e099-5d4456977ac6"
      },
      "source": [
        "html_table = ''' <table style=\"width:25%\">\n",
        "  <tr>\n",
        "    <th>Student Name</th>\n",
        "    <th>Major</th>\n",
        "    <th>Minor</th>\n",
        "  </tr>\n",
        "  <tr>\n",
        "    <td>Ivan</td>\n",
        "    <td>Environmental Science</td>\n",
        "    <td>Economics</td>\n",
        "  </tr>\n",
        "  <tr>\n",
        "    <td>Rizwana</td>\n",
        "    <td>Mathematics</td>\n",
        "    <td>Music Technology</td>\n",
        "  </tr>\n",
        "</table> '''\n",
        "\n",
        "display.HTML(data=html_table)"
      ],
      "execution_count": null,
      "outputs": [
        {
          "output_type": "execute_result",
          "data": {
            "text/html": [
              " <table style=\"width:25%\">\n",
              "  <tr>\n",
              "    <th>Student Name</th>\n",
              "    <th>Major</th>\n",
              "    <th>Minor</th>\n",
              "  </tr>\n",
              "  <tr>\n",
              "    <td>Ivan</td>\n",
              "    <td>Environmental Science</td>\n",
              "    <td>Economics</td>\n",
              "  </tr>\n",
              "  <tr>\n",
              "    <td>Rizwana</td>\n",
              "    <td>Mathematics</td>\n",
              "    <td>Music Technology</td>\n",
              "  </tr>\n",
              "</table> "
            ],
            "text/plain": [
              "<IPython.core.display.HTML object>"
            ]
          },
          "metadata": {
            "tags": []
          },
          "execution_count": 39
        }
      ]
    },
    {
      "cell_type": "code",
      "metadata": {
        "colab": {
          "base_uri": "https://localhost:8080/",
          "height": 74
        },
        "id": "PLE89a0v15Wk",
        "outputId": "dff56a12-e5af-46f3-8e84-b4d7415f523d"
      },
      "source": [
        "display.Markdown(data='# **Markdown Title**')"
      ],
      "execution_count": null,
      "outputs": [
        {
          "output_type": "execute_result",
          "data": {
            "text/markdown": "# **Markdown Title**",
            "text/plain": [
              "<IPython.core.display.Markdown object>"
            ]
          },
          "metadata": {
            "tags": []
          },
          "execution_count": 32
        }
      ]
    },
    {
      "cell_type": "code",
      "metadata": {
        "colab": {
          "base_uri": "https://localhost:8080/",
          "height": 48
        },
        "id": "XTgbCGNJ1cho",
        "outputId": "8f3d255e-9c16-4097-8bcc-f0b1be6d5101"
      },
      "source": [
        "display.Latex('\\Large \\\\text{Pythagorean Theorem}: a^2+b^2=c^2')"
      ],
      "execution_count": null,
      "outputs": [
        {
          "output_type": "execute_result",
          "data": {
            "text/latex": "\\Large \\text{Pythagorean Theorem}: a^2+b^2=c^2",
            "text/plain": [
              "<IPython.core.display.Latex object>"
            ]
          },
          "metadata": {
            "tags": []
          },
          "execution_count": 34
        }
      ]
    },
    {
      "cell_type": "code",
      "metadata": {
        "colab": {
          "base_uri": "https://localhost:8080/",
          "height": 421
        },
        "id": "-U3qWPduwu4k",
        "outputId": "5fd24428-fda6-42cd-de64-b5a91337f5ad"
      },
      "source": [
        "display.IFrame(src='https://tudev.org/', width=400, height=400)"
      ],
      "execution_count": null,
      "outputs": [
        {
          "output_type": "execute_result",
          "data": {
            "text/html": [
              "\n",
              "        <iframe\n",
              "            width=\"400\"\n",
              "            height=\"400\"\n",
              "            src=\"https://tudev.org/\"\n",
              "            frameborder=\"0\"\n",
              "            allowfullscreen\n",
              "        ></iframe>\n",
              "        "
            ],
            "text/plain": [
              "<IPython.lib.display.IFrame at 0x7fae8731eb50>"
            ]
          },
          "metadata": {
            "tags": []
          },
          "execution_count": 17
        }
      ]
    },
    {
      "cell_type": "code",
      "metadata": {
        "colab": {
          "base_uri": "https://localhost:8080/",
          "height": 529
        },
        "id": "NKL3IUvRn6ro",
        "outputId": "5638b79f-0155-4f02-d500-6f9793464472"
      },
      "source": [
        "display.Image('/content/python.png')"
      ],
      "execution_count": null,
      "outputs": [
        {
          "output_type": "execute_result",
          "data": {
            "image/png": "[encoded data removed]",
            "text/plain": [
              "<IPython.core.display.Image object>"
            ]
          },
          "metadata": {
            "tags": []
          },
          "execution_count": 2
        }
      ]
    },
    {
      "cell_type": "code",
      "metadata": {
        "colab": {
          "base_uri": "https://localhost:8080/",
          "height": 321
        },
        "id": "ySFEDcRvqmaY",
        "outputId": "1b336cd8-0fa6-457d-aa74-458229d54183"
      },
      "source": [
        "display.VimeoVideo('1439935')"
      ],
      "execution_count": null,
      "outputs": [
        {
          "output_type": "execute_result",
          "data": {
            "text/html": [
              "\n",
              "        <iframe\n",
              "            width=\"400\"\n",
              "            height=\"300\"\n",
              "            src=\"https://player.vimeo.com/video/1439935\"\n",
              "            frameborder=\"0\"\n",
              "            allowfullscreen\n",
              "        ></iframe>\n",
              "        "
            ],
            "text/plain": [
              "<IPython.lib.display.VimeoVideo at 0x7f7b85ced390>"
            ]
          },
          "metadata": {
            "tags": []
          },
          "execution_count": 9
        }
      ]
    },
    {
      "cell_type": "code",
      "metadata": {
        "colab": {
          "base_uri": "https://localhost:8080/",
          "height": 321
        },
        "id": "25C_xt2orYz5",
        "outputId": "0ccd8a3f-dfbe-4779-9056-1b7d6e70b2ca"
      },
      "source": [
        "display.YouTubeVideo('E8CeeN8_CCc')"
      ],
      "execution_count": null,
      "outputs": [
        {
          "output_type": "execute_result",
          "data": {
            "text/html": [
              "\n",
              "        <iframe\n",
              "            width=\"400\"\n",
              "            height=\"300\"\n",
              "            src=\"https://www.youtube.com/embed/E8CeeN8_CCc\"\n",
              "            frameborder=\"0\"\n",
              "            allowfullscreen\n",
              "        ></iframe>\n",
              "        "
            ],
            "text/plain": [
              "<IPython.lib.display.YouTubeVideo at 0x7f7b8664ae50>"
            ],
            "image/jpeg": "[encoded data removed]"
          },
          "metadata": {
            "tags": []
          },
          "execution_count": 10
        }
      ]
    },
    {
      "cell_type": "code",
      "metadata": {
        "id": "fhdSs63NsvFY"
      },
      "source": [
        "%load_ext rpy2.ipython\n",
        "\n",
        "%R install.packages(\"Metrics\")\n",
        "\n",
        "display.clear_output()"
      ],
      "execution_count": null,
      "outputs": []
    },
    {
      "cell_type": "markdown",
      "metadata": {
        "id": "47cCwAEGG44k"
      },
      "source": [
        "# **References and Additional Learning**\n",
        "\n",
        "## **Website**\n",
        "\n",
        "- **[Module display](https://ipython.readthedocs.io/en/stable/api/generated/IPython.display.html) from the IPython Documentation Site**\n",
        "\n",
        "# **Connect**\n",
        "- **Feel free to connect with Adrian on [YouTube](https://www.youtube.com/channel/UCPuDxI3xb_ryUUMfkm0jsRA), [LinkedIn](https://www.linkedin.com/in/adrian-dolinay-frm-96a289106/), [Twitter](https://twitter.com/DolinayG) and [GitHub](https://github.com/ad17171717). Happy coding!**"
      ]
    }
  ]
}