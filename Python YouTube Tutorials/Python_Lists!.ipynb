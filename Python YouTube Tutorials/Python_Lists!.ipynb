{
  "nbformat": 4,
  "nbformat_minor": 0,
  "metadata": {
    "colab": {
      "name": "Python - Lists! (FULL)",
      "provenance": [],
      "collapsed_sections": []
    },
    "kernelspec": {
      "name": "python3",
      "display_name": "Python 3"
    }
  },
  "cells": [
    {
      "cell_type": "code",
      "metadata": {
        "id": "CdYrOwgncIm0"
      },
      "source": [
        "import random\r\n",
        "import string\r\n",
        "from IPython.display import YouTubeVideo"
      ],
      "execution_count": 1,
      "outputs": []
    },
    {
      "cell_type": "code",
      "metadata": {
        "colab": {
          "base_uri": "https://localhost:8080/",
          "height": 321
        },
        "id": "S8xExIrzyKI7",
        "outputId": "6481eeac-af39-446b-d774-328748e218f8"
      },
      "source": [
        "#tutorial on YouTube\r\n",
        "YouTubeVideo('s6gME_IWU6A')"
      ],
      "execution_count": 2,
      "outputs": [
        {
          "output_type": "execute_result",
          "data": {
            "text/html": [
              "\n",
              "        <iframe\n",
              "            width=\"400\"\n",
              "            height=\"300\"\n",
              "            src=\"https://www.youtube.com/embed/s6gME_IWU6A\"\n",
              "            frameborder=\"0\"\n",
              "            allowfullscreen\n",
              "        ></iframe>\n",
              "        "
            ],
            "text/plain": [
              "<IPython.lib.display.YouTubeVideo at 0x7efe6a8d7470>"
            ],
            "image/jpeg": "[encoded data removed]"
          },
          "metadata": {
            "tags": []
          },
          "execution_count": 2
        }
      ]
    },
    {
      "cell_type": "markdown",
      "metadata": {
        "id": "Z_iBhdP5dpbD"
      },
      "source": [
        "# **Lists**\r\n",
        "\r\n",
        "**Within Python, lists are a mutable, dynamic class that can reference multiple elements. Python lists are pointer structures, meaning they reference the data rather than store it. The advantages of pointer structures are they do not require sequential storage space and the size of pointer structures can be dynamic.**\r\n",
        "\r\n",
        "**Lists can reference different data types within their structure.**\r\n",
        "\r\n",
        "**Lists are similar to arrays in other languages such as Java or C++. However, Python lists are more flexible than arrays, because the size of lists can be altered after creation and lists have more operations that can be executed relative to arrays.**\r\n",
        "\r\n",
        "**There are drawbacks to Python lists. Lists take up more memory space than arrays and conducting operations on lists takes longer than it would with arrays.**\r\n",
        "\r\n",
        "<br/>\r\n",
        "\r\n",
        "<sup>Source: Data Structures and Algorithms Using Python by Rance Necaise</sup>\r\n",
        "<br/>\r\n",
        "<sup>Source: Python Data Structures and Algorithms by  Benjamin Baka</sup>"
      ]
    },
    {
      "cell_type": "code",
      "metadata": {
        "colab": {
          "base_uri": "https://localhost:8080/"
        },
        "id": "Ed_KSoIk7Bpx",
        "outputId": "9f3f2b50-1ea3-45eb-81ea-04a2471ec6b2"
      },
      "source": [
        "help(list)"
      ],
      "execution_count": 3,
      "outputs": [
        {
          "output_type": "stream",
          "text": [
            "Help on class list in module builtins:\n",
            "\n",
            "class list(object)\n",
            " |  list() -> new empty list\n",
            " |  list(iterable) -> new list initialized from iterable's items\n",
            " |  \n",
            " |  Methods defined here:\n",
            " |  \n",
            " |  __add__(self, value, /)\n",
            " |      Return self+value.\n",
            " |  \n",
            " |  __contains__(self, key, /)\n",
            " |      Return key in self.\n",
            " |  \n",
            " |  __delitem__(self, key, /)\n",
            " |      Delete self[key].\n",
            " |  \n",
            " |  __eq__(self, value, /)\n",
            " |      Return self==value.\n",
            " |  \n",
            " |  __ge__(self, value, /)\n",
            " |      Return self>=value.\n",
            " |  \n",
            " |  __getattribute__(self, name, /)\n",
            " |      Return getattr(self, name).\n",
            " |  \n",
            " |  __getitem__(...)\n",
            " |      x.__getitem__(y) <==> x[y]\n",
            " |  \n",
            " |  __gt__(self, value, /)\n",
            " |      Return self>value.\n",
            " |  \n",
            " |  __iadd__(self, value, /)\n",
            " |      Implement self+=value.\n",
            " |  \n",
            " |  __imul__(self, value, /)\n",
            " |      Implement self*=value.\n",
            " |  \n",
            " |  __init__(self, /, *args, **kwargs)\n",
            " |      Initialize self.  See help(type(self)) for accurate signature.\n",
            " |  \n",
            " |  __iter__(self, /)\n",
            " |      Implement iter(self).\n",
            " |  \n",
            " |  __le__(self, value, /)\n",
            " |      Return self<=value.\n",
            " |  \n",
            " |  __len__(self, /)\n",
            " |      Return len(self).\n",
            " |  \n",
            " |  __lt__(self, value, /)\n",
            " |      Return self<value.\n",
            " |  \n",
            " |  __mul__(self, value, /)\n",
            " |      Return self*value.\n",
            " |  \n",
            " |  __ne__(self, value, /)\n",
            " |      Return self!=value.\n",
            " |  \n",
            " |  __new__(*args, **kwargs) from builtins.type\n",
            " |      Create and return a new object.  See help(type) for accurate signature.\n",
            " |  \n",
            " |  __repr__(self, /)\n",
            " |      Return repr(self).\n",
            " |  \n",
            " |  __reversed__(...)\n",
            " |      L.__reversed__() -- return a reverse iterator over the list\n",
            " |  \n",
            " |  __rmul__(self, value, /)\n",
            " |      Return value*self.\n",
            " |  \n",
            " |  __setitem__(self, key, value, /)\n",
            " |      Set self[key] to value.\n",
            " |  \n",
            " |  __sizeof__(...)\n",
            " |      L.__sizeof__() -- size of L in memory, in bytes\n",
            " |  \n",
            " |  append(...)\n",
            " |      L.append(object) -> None -- append object to end\n",
            " |  \n",
            " |  clear(...)\n",
            " |      L.clear() -> None -- remove all items from L\n",
            " |  \n",
            " |  copy(...)\n",
            " |      L.copy() -> list -- a shallow copy of L\n",
            " |  \n",
            " |  count(...)\n",
            " |      L.count(value) -> integer -- return number of occurrences of value\n",
            " |  \n",
            " |  extend(...)\n",
            " |      L.extend(iterable) -> None -- extend list by appending elements from the iterable\n",
            " |  \n",
            " |  index(...)\n",
            " |      L.index(value, [start, [stop]]) -> integer -- return first index of value.\n",
            " |      Raises ValueError if the value is not present.\n",
            " |  \n",
            " |  insert(...)\n",
            " |      L.insert(index, object) -- insert object before index\n",
            " |  \n",
            " |  pop(...)\n",
            " |      L.pop([index]) -> item -- remove and return item at index (default last).\n",
            " |      Raises IndexError if list is empty or index is out of range.\n",
            " |  \n",
            " |  remove(...)\n",
            " |      L.remove(value) -> None -- remove first occurrence of value.\n",
            " |      Raises ValueError if the value is not present.\n",
            " |  \n",
            " |  reverse(...)\n",
            " |      L.reverse() -- reverse *IN PLACE*\n",
            " |  \n",
            " |  sort(...)\n",
            " |      L.sort(key=None, reverse=False) -> None -- stable sort *IN PLACE*\n",
            " |  \n",
            " |  ----------------------------------------------------------------------\n",
            " |  Data and other attributes defined here:\n",
            " |  \n",
            " |  __hash__ = None\n",
            "\n"
          ],
          "name": "stdout"
        }
      ]
    },
    {
      "cell_type": "markdown",
      "metadata": {
        "id": "FPbCBbz2fOp-"
      },
      "source": [
        "## **Creating Lists**"
      ]
    },
    {
      "cell_type": "code",
      "metadata": {
        "colab": {
          "base_uri": "https://localhost:8080/"
        },
        "id": "BUFfVv-8cm-Z",
        "outputId": "116b5ed5-a83e-4450-d208-798584734581"
      },
      "source": [
        "#explicitly write it out\r\n",
        "num_list_1 = [0, 1, 2, 3, 4]\r\n",
        "print(num_list_1)\r\n",
        "\r\n",
        "#calling the list constructor\r\n",
        "num_list_2 = list(range(7))\r\n",
        "print(num_list_2)\r\n",
        "\r\n",
        "#list comprehension\r\n",
        "num_list_3 = [i for i in range(10)]\r\n",
        "print(num_list_3)\r\n",
        "\r\n",
        "#empty list\r\n",
        "empty_list = []\r\n",
        "print(empty_list)"
      ],
      "execution_count": 4,
      "outputs": [
        {
          "output_type": "stream",
          "text": [
            "[0, 1, 2, 3, 4]\n",
            "[0, 1, 2, 3, 4, 5, 6]\n",
            "[0, 1, 2, 3, 4, 5, 6, 7, 8, 9]\n",
            "[]\n"
          ],
          "name": "stdout"
        }
      ]
    },
    {
      "cell_type": "markdown",
      "metadata": {
        "id": "aucWNH6c5bgi"
      },
      "source": [
        "### **Strings to Lists**"
      ]
    },
    {
      "cell_type": "code",
      "metadata": {
        "colab": {
          "base_uri": "https://localhost:8080/",
          "height": 130
        },
        "id": "AZuKSnzJ5jUJ",
        "outputId": "c70858d7-7020-4f25-a165-c202f9ed1918"
      },
      "source": [
        "poem = \"You may write me down in history. With your bitter, twisted lies, You may trod me in the very dirt But still, like dust, I'll rise. Does my sassiness upset you? Why are you beset with gloom? ’Cause I walk like I've got oil wells Pumping in my living room. Just like moons and like suns, With the certainty of tides, Just like hopes springing high, Still I'll rise. Did you want to see me broken? Bowed head and lowered eyes? Shoulders falling down like teardrops, Weakened by my soulful cries? Does my haughtiness offend you? Don't you take it awful hard ’Cause I laugh like I've got gold mines Diggin’ in my own backyard. You may shoot me with your words, You may cut me with your eyes, You may kill me with your hatefulness, But still, like air, I’ll rise. Does my sexiness upset you? Does it come as a surprise That I dance like I've got diamonds At the meeting of my thighs? Out of the huts of history’s shame I rise Up from a past that’s rooted in pain I rise I'm a black ocean, leaping and wide, Welling and swelling I bear in the tide. Leaving behind nights of terror and fear I rise Into a daybreak that’s wondrously clear I rise Bringing the gifts that my ancestors gave, I am the dream and the hope of the slave. I rise I rise I rise.\"\r\n",
        "\r\n",
        "translator = str.maketrans('', '', string.punctuation)\r\n",
        "poem = poem.translate(translator)\r\n",
        "poem = poem.lower()\r\n",
        "poem"
      ],
      "execution_count": 5,
      "outputs": [
        {
          "output_type": "execute_result",
          "data": {
            "application/vnd.google.colaboratory.intrinsic+json": {
              "type": "string"
            },
            "text/plain": [
              "'you may write me down in history with your bitter twisted lies you may trod me in the very dirt but still like dust ill rise does my sassiness upset you why are you beset with gloom ’cause i walk like ive got oil wells pumping in my living room just like moons and like suns with the certainty of tides just like hopes springing high still ill rise did you want to see me broken bowed head and lowered eyes shoulders falling down like teardrops weakened by my soulful cries does my haughtiness offend you dont you take it awful hard ’cause i laugh like ive got gold mines diggin’ in my own backyard you may shoot me with your words you may cut me with your eyes you may kill me with your hatefulness but still like air i’ll rise does my sexiness upset you does it come as a surprise that i dance like ive got diamonds at the meeting of my thighs out of the huts of history’s shame i rise up from a past that’s rooted in pain i rise im a black ocean leaping and wide welling and swelling i bear in the tide leaving behind nights of terror and fear i rise into a daybreak that’s wondrously clear i rise bringing the gifts that my ancestors gave i am the dream and the hope of the slave i rise i rise i rise'"
            ]
          },
          "metadata": {
            "tags": []
          },
          "execution_count": 5
        }
      ]
    },
    {
      "cell_type": "code",
      "metadata": {
        "colab": {
          "base_uri": "https://localhost:8080/"
        },
        "id": "WWMCyXKVJgr1",
        "outputId": "60b5aa11-cc5f-4eba-967e-d245e4e75cba"
      },
      "source": [
        "#the split function will turn the string into a list of strings\r\n",
        "corpus = poem.split(\" \")\r\n",
        "print(len(corpus))\r\n",
        "\r\n",
        "#gets rid of duplicate words\r\n",
        "corpus = list(set(corpus))\r\n",
        "print(len(corpus))"
      ],
      "execution_count": 6,
      "outputs": [
        {
          "output_type": "stream",
          "text": [
            "240\n",
            "133\n"
          ],
          "name": "stdout"
        }
      ]
    },
    {
      "cell_type": "markdown",
      "metadata": {
        "id": "m6S06aN7JfKi"
      },
      "source": [
        "## **Indexing**"
      ]
    },
    {
      "cell_type": "markdown",
      "metadata": {
        "id": "-zejtoISdIGy"
      },
      "source": [
        "**Indexing is used to access an element given the position of the element within a list.**\r\n",
        "**Within Python lists, index positions start at zero and increments by one for each additional element position.**"
      ]
    },
    {
      "cell_type": "markdown",
      "metadata": {
        "id": "SCJv9wRSZCEY"
      },
      "source": [
        "\r\n",
        "<center><b>  Example Index <b/><center/>\r\n",
        "\r\n",
        "| | | | | | | |\r\n",
        "|-|-|-| - | - | - | - |\r\n",
        "|**List Elements**| 'hello', | 'hola',  | 'привіт',  | 'こんにちは' |\r\n",
        "| **Index Position** | 0 | 1 | 2 | 3 |\r\n",
        "| **Negative Index Position** | -4 | -3 | -2 | -1 |"
      ]
    },
    {
      "cell_type": "code",
      "metadata": {
        "colab": {
          "base_uri": "https://localhost:8080/",
          "height": 36
        },
        "id": "Ht2_c-mgiN0e",
        "outputId": "4569162b-a02d-4b2d-95dc-8b5e1067cd83"
      },
      "source": [
        "greetings_list = ['hello', 'hola', 'привіт', 'こんにちは']\r\n",
        "\r\n",
        "greetings_list[0]\r\n",
        "\r\n",
        "#negative indexing always accesses the last element in a list when \"-1\" is passed\r\n",
        "greetings_list[-1]"
      ],
      "execution_count": 7,
      "outputs": [
        {
          "output_type": "execute_result",
          "data": {
            "application/vnd.google.colaboratory.intrinsic+json": {
              "type": "string"
            },
            "text/plain": [
              "'こんにちは'"
            ]
          },
          "metadata": {
            "tags": []
          },
          "execution_count": 7
        }
      ]
    },
    {
      "cell_type": "code",
      "metadata": {
        "colab": {
          "base_uri": "https://localhost:8080/"
        },
        "id": "xcdhBLSWYEC3",
        "outputId": "ae80c6e2-cc98-4a33-c412-5bdd4ff60c25"
      },
      "source": [
        "greetings_list.index('hola')"
      ],
      "execution_count": 8,
      "outputs": [
        {
          "output_type": "execute_result",
          "data": {
            "text/plain": [
              "1"
            ]
          },
          "metadata": {
            "tags": []
          },
          "execution_count": 8
        }
      ]
    },
    {
      "cell_type": "code",
      "metadata": {
        "colab": {
          "base_uri": "https://localhost:8080/"
        },
        "id": "Ys9XmdXZcnLs",
        "outputId": "59e88b08-9270-434b-8ba5-a9648206a531"
      },
      "source": [
        "for index, num in enumerate(greetings_list):\r\n",
        "    print(index, num)"
      ],
      "execution_count": 9,
      "outputs": [
        {
          "output_type": "stream",
          "text": [
            "0 hello\n",
            "1 hola\n",
            "2 привіт\n",
            "3 こんにちは\n"
          ],
          "name": "stdout"
        }
      ]
    },
    {
      "cell_type": "markdown",
      "metadata": {
        "id": "8BJ4Vu28k52x"
      },
      "source": [
        "## **Built-in List Functions**"
      ]
    },
    {
      "cell_type": "markdown",
      "metadata": {
        "id": "9ZbiBA__mwHn"
      },
      "source": [
        "### **Append**\r\n",
        "\r\n",
        "**The append function adds an element to the end of an existing list.**"
      ]
    },
    {
      "cell_type": "code",
      "metadata": {
        "colab": {
          "base_uri": "https://localhost:8080/"
        },
        "id": "rkU2S20ncnPq",
        "outputId": "3b07f996-e21a-4cfc-948d-4d531faa7e1f"
      },
      "source": [
        "print(num_list_1)\r\n",
        "\r\n",
        "for i in range(5,10):\r\n",
        "  num_list_1.append(i)\r\n",
        "  print(num_list_1)"
      ],
      "execution_count": 10,
      "outputs": [
        {
          "output_type": "stream",
          "text": [
            "[0, 1, 2, 3, 4]\n",
            "[0, 1, 2, 3, 4, 5]\n",
            "[0, 1, 2, 3, 4, 5, 6]\n",
            "[0, 1, 2, 3, 4, 5, 6, 7]\n",
            "[0, 1, 2, 3, 4, 5, 6, 7, 8]\n",
            "[0, 1, 2, 3, 4, 5, 6, 7, 8, 9]\n"
          ],
          "name": "stdout"
        }
      ]
    },
    {
      "cell_type": "code",
      "metadata": {
        "colab": {
          "base_uri": "https://localhost:8080/"
        },
        "id": "zZ4pC3Ya4m4V",
        "outputId": "59395c4d-1f7c-4a8e-f9b1-b31b91089610"
      },
      "source": [
        "random_list = []\r\n",
        "\r\n",
        "while len(random_list) < 25:\r\n",
        "  random_list.append(random.randint(1, 100))\r\n",
        "\r\n",
        "print(random_list)"
      ],
      "execution_count": 11,
      "outputs": [
        {
          "output_type": "stream",
          "text": [
            "[21, 76, 88, 29, 87, 58, 96, 74, 66, 30, 16, 84, 89, 34, 30, 56, 61, 34, 23, 98, 79, 20, 23, 32, 15]\n"
          ],
          "name": "stdout"
        }
      ]
    },
    {
      "cell_type": "markdown",
      "metadata": {
        "id": "3xPjrjDb4Pza"
      },
      "source": [
        "### **Count**\r\n",
        "\r\n",
        "**The count function returns the number of times an element appears in a list.**"
      ]
    },
    {
      "cell_type": "code",
      "metadata": {
        "colab": {
          "base_uri": "https://localhost:8080/"
        },
        "id": "D43XZl9jcncI",
        "outputId": "8105d896-7743-4889-b829-74abc9e4cfba"
      },
      "source": [
        "medals_beach_vball = ['USA', 'Brazil', 'USA', 'Australia', 'Brazil', 'USA', 'USA', 'USA', 'Germany', 'USA', 'Brazil', 'Germany']\r\n",
        "\r\n",
        "medals_beach_vball.count('USA')"
      ],
      "execution_count": 12,
      "outputs": [
        {
          "output_type": "execute_result",
          "data": {
            "text/plain": [
              "6"
            ]
          },
          "metadata": {
            "tags": []
          },
          "execution_count": 12
        }
      ]
    },
    {
      "cell_type": "code",
      "metadata": {
        "colab": {
          "base_uri": "https://localhost:8080/"
        },
        "id": "8BguwwBF4_Ur",
        "outputId": "d39ba2f2-e692-49fa-df60-e208b0677fde"
      },
      "source": [
        "for i in set(medals_beach_vball):\r\n",
        "  print(f'Country:{i}\\nGold Medal Count: {medals_beach_vball.count(i)}\\n\\n')"
      ],
      "execution_count": 13,
      "outputs": [
        {
          "output_type": "stream",
          "text": [
            "Country:Brazil\n",
            "Gold Medal Count: 3\n",
            "\n",
            "\n",
            "Country:USA\n",
            "Gold Medal Count: 6\n",
            "\n",
            "\n",
            "Country:Australia\n",
            "Gold Medal Count: 1\n",
            "\n",
            "\n",
            "Country:Germany\n",
            "Gold Medal Count: 2\n",
            "\n",
            "\n"
          ],
          "name": "stdout"
        }
      ]
    },
    {
      "cell_type": "markdown",
      "metadata": {
        "id": "szmIcYiwVQk-"
      },
      "source": [
        "### **Sort**\r\n",
        "\r\n",
        "**The sort function modifies a list in place by ascending order by default. The sort function can also sort elements in descending order and by custom order using a specified key.**"
      ]
    },
    {
      "cell_type": "code",
      "metadata": {
        "colab": {
          "base_uri": "https://localhost:8080/"
        },
        "id": "Z-dl6f9dVQ4t",
        "outputId": "188dda75-f88b-44b9-fd09-781742d109f4"
      },
      "source": [
        "#print(random_list)\r\n",
        "\r\n",
        "random_list.sort()\r\n",
        "#print(random_list)\r\n",
        "\r\n",
        "random_list.sort(reverse = True)\r\n",
        "print(random_list)"
      ],
      "execution_count": 14,
      "outputs": [
        {
          "output_type": "stream",
          "text": [
            "[98, 96, 89, 88, 87, 84, 79, 76, 74, 66, 61, 58, 56, 34, 34, 32, 30, 30, 29, 23, 23, 21, 20, 16, 15]\n"
          ],
          "name": "stdout"
        }
      ]
    },
    {
      "cell_type": "code",
      "metadata": {
        "colab": {
          "base_uri": "https://localhost:8080/"
        },
        "id": "dUf4Cui3qzd1",
        "outputId": "c15c0d3e-cb5a-4e1b-9ff4-0130af81671b"
      },
      "source": [
        "word_of_the_day = ['rectitude', 'gumption', 'pedantic', 'arrant', 'sophomoric', 'ossify']\r\n",
        "\r\n",
        "for i in word_of_the_day:\r\n",
        "  print(i, len(i))"
      ],
      "execution_count": 15,
      "outputs": [
        {
          "output_type": "stream",
          "text": [
            "rectitude 9\n",
            "gumption 8\n",
            "pedantic 8\n",
            "arrant 6\n",
            "sophomoric 10\n",
            "ossify 6\n"
          ],
          "name": "stdout"
        }
      ]
    },
    {
      "cell_type": "code",
      "metadata": {
        "colab": {
          "base_uri": "https://localhost:8080/"
        },
        "id": "UFTeB4FseuJO",
        "outputId": "42dd52ee-e4ba-4dbf-9c37-696de5095468"
      },
      "source": [
        "word_of_the_day.sort(key = len)\r\n",
        "\r\n",
        "word_of_the_day"
      ],
      "execution_count": 16,
      "outputs": [
        {
          "output_type": "execute_result",
          "data": {
            "text/plain": [
              "['arrant', 'ossify', 'gumption', 'pedantic', 'rectitude', 'sophomoric']"
            ]
          },
          "metadata": {
            "tags": []
          },
          "execution_count": 16
        }
      ]
    },
    {
      "cell_type": "markdown",
      "metadata": {
        "id": "BeQ4KmGYjdPT"
      },
      "source": [
        "### **Pop**\r\n",
        "**The pop function removes the last element within a list. The default for pop is to remove the last element, but a user can input different index positions to delete other elements within a list.**\r\n",
        "\r\n",
        "**The time complexity for the default pop function where the last element within a list is deleted is $0(1)$ (constant time), while the time complexity for a different index position is $0(n)$ (linear time). The reason why passing an index position other than the last for pop is slower is because pop needs to execute a linear search in order to find the element being popped.**\r\n",
        "\r\n",
        "<br/>\r\n",
        "\r\n",
        "<sup>Source: [Complexity of Python Operations](https://www.ics.uci.edu/~pattis/ICS-33/lectures/complexitypython.txt) by Rich Pattis from the UC Irvine website</sup>"
      ]
    },
    {
      "cell_type": "code",
      "metadata": {
        "colab": {
          "base_uri": "https://localhost:8080/"
        },
        "id": "0Mjy9jJujdcd",
        "outputId": "ef6da064-9763-4144-e7a2-c0998b9963d6"
      },
      "source": [
        "print(num_list_1)\r\n",
        "num_list_1.pop(0)"
      ],
      "execution_count": 17,
      "outputs": [
        {
          "output_type": "stream",
          "text": [
            "[0, 1, 2, 3, 4, 5, 6, 7, 8, 9]\n"
          ],
          "name": "stdout"
        },
        {
          "output_type": "execute_result",
          "data": {
            "text/plain": [
              "0"
            ]
          },
          "metadata": {
            "tags": []
          },
          "execution_count": 17
        }
      ]
    },
    {
      "cell_type": "markdown",
      "metadata": {
        "id": "PhTRe89dzK77"
      },
      "source": [
        "### **Copy**\r\n",
        "**The copy function creates a shallow copy of a list that is the same as the original, but seperate.**\r\n",
        "<br/>\r\n",
        "**If an assignment is used to create a list from another list, the new list is a reference, not a new seperate list.**"
      ]
    },
    {
      "cell_type": "code",
      "metadata": {
        "colab": {
          "base_uri": "https://localhost:8080/"
        },
        "id": "kCVk6EPCzLH5",
        "outputId": "090b83e1-effa-4471-a163-31a71ba88948"
      },
      "source": [
        "#creates a reference to a list but not a seperate list\r\n",
        "num_reference = num_list_1\r\n",
        "\r\n",
        "num_reference.pop()\r\n",
        "\r\n",
        "print(f'The original list contains: {num_list_1}\\nThe reference list contains: {num_reference}')"
      ],
      "execution_count": 18,
      "outputs": [
        {
          "output_type": "stream",
          "text": [
            "The original list contains: [1, 2, 3, 4, 5, 6, 7, 8]\n",
            "The reference list contains: [1, 2, 3, 4, 5, 6, 7, 8]\n"
          ],
          "name": "stdout"
        }
      ]
    },
    {
      "cell_type": "code",
      "metadata": {
        "colab": {
          "base_uri": "https://localhost:8080/"
        },
        "id": "QezKhsOI31PT",
        "outputId": "fc5a2cf1-22d6-4db2-e2b9-f5d25b26203b"
      },
      "source": [
        "#creates a copy that is separate from the original list\r\n",
        "num_copy = num_list_1.copy()\r\n",
        "\r\n",
        "num_copy.pop()\r\n",
        "\r\n",
        "print(f'The original list contains: {num_list_1}\\nThe copied list contains: {num_copy}')"
      ],
      "execution_count": 19,
      "outputs": [
        {
          "output_type": "stream",
          "text": [
            "The original list contains: [1, 2, 3, 4, 5, 6, 7, 8]\n",
            "The copied list contains: [1, 2, 3, 4, 5, 6, 7]\n"
          ],
          "name": "stdout"
        }
      ]
    },
    {
      "cell_type": "markdown",
      "metadata": {
        "id": "eIh__MY-dvmA"
      },
      "source": [
        "# **References and Additional Learning**"
      ]
    },
    {
      "cell_type": "markdown",
      "metadata": {
        "id": "xno2FN_ddiE9"
      },
      "source": [
        "## **Textbooks**\r\n",
        "- **[Data Structures and Algorithms Using Python](https://www.amazon.com/Data-Structures-Algorithms-Using-Python/dp/0470618299) by Rance Necaise**\r\n",
        "\r\n",
        "- **[Python Data Structures and Algorithms](https://www.amazon.com/Python-Data-Structures-Algorithms-application-ebook/dp/B01IF7NLM8) by  Benjamin Baka**"
      ]
    },
    {
      "cell_type": "markdown",
      "metadata": {
        "id": "BogjnGWPkoov"
      },
      "source": [
        "## **Website**\r\n",
        "\r\n",
        "- **[Data-Structure Documentation](https://docs.python.org/3/tutorial/datastructures.html) on Python.org**"
      ]
    },
    {
      "cell_type": "markdown",
      "metadata": {
        "id": "y_f4LopooOh6"
      },
      "source": [
        "## **Poem**\r\n",
        "\r\n",
        "- **[Still I Rise](https://www.poetryfoundation.org/poems/46446/still-i-rise) by Maya Angelou**"
      ]
    },
    {
      "cell_type": "markdown",
      "metadata": {
        "id": "_FGL_YIqdyn0"
      },
      "source": [
        "# **Connect**\r\n",
        "- **Feel free to connect with Adrian on [YouTube](https://www.youtube.com/channel/UCPuDxI3xb_ryUUMfkm0jsRA), [LinkedIn](https://www.linkedin.com/in/adrian-dolinay-frm-96a289106/), [Twitter](https://twitter.com/DolinayG) and [GitHub](https://github.com/ad17171717). Happy coding!**"
      ]
    }
  ]
}