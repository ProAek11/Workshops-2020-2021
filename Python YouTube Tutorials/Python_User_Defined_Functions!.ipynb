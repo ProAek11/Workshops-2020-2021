{
  "nbformat": 4,
  "nbformat_minor": 0,
  "metadata": {
    "colab": {
      "name": "Python - User Defined Functions! (FULL)",
      "provenance": [],
      "collapsed_sections": [
        "xno2FN_ddiE9",
        "BogjnGWPkoov",
        "_FGL_YIqdyn0"
      ]
    },
    "kernelspec": {
      "name": "python3",
      "display_name": "Python 3"
    }
  },
  "cells": [
    {
      "cell_type": "code",
      "metadata": {
        "id": "CdYrOwgncIm0"
      },
      "source": [
        "from IPython.display import YouTubeVideo\n",
        "import numpy as np\n",
        "from scipy.integrate import quad\n",
        "from math import sqrt, pi, e, factorial"
      ],
      "execution_count": 1,
      "outputs": []
    },
    {
      "cell_type": "code",
      "metadata": {
        "id": "S8xExIrzyKI7",
        "colab": {
          "base_uri": "https://localhost:8080/",
          "height": 321
        },
        "outputId": "5ad35674-d43a-4645-c79d-075b2702d140"
      },
      "source": [
        "#tutorial on YouTube\n",
        "YouTubeVideo('SV0QgCR4WGk')"
      ],
      "execution_count": 2,
      "outputs": [
        {
          "output_type": "execute_result",
          "data": {
            "text/html": [
              "\n",
              "        <iframe\n",
              "            width=\"400\"\n",
              "            height=\"300\"\n",
              "            src=\"https://www.youtube.com/embed/SV0QgCR4WGk\"\n",
              "            frameborder=\"0\"\n",
              "            allowfullscreen\n",
              "        ></iframe>\n",
              "        "
            ],
            "text/plain": [
              "<IPython.lib.display.YouTubeVideo at 0x7f170713d750>"
            ],
            "image/jpeg": "[encoded data removed]"
          },
          "metadata": {
            "tags": []
          },
          "execution_count": 2
        }
      ]
    },
    {
      "cell_type": "markdown",
      "metadata": {
        "id": "Z_iBhdP5dpbD"
      },
      "source": [
        "# **Functions**\n",
        "\n",
        "**A function is a block of code that is run only when it is called. Functions are first class objects, meaning they are: created at runtime, can be used within an arguement, can be used as a variable or in a data structure and are returned as the result of a function.**\n",
        "\n",
        "**Within Python, a function requires: a name and a body. Input parameters are usually included for functions, but are not required.**\n",
        "\n",
        "**Functions can be used to abstract away the underlying process either for security reasons or to simplify the process for the function's users.**"
      ]
    },
    {
      "cell_type": "markdown",
      "metadata": {
        "id": "oe6wopcmk8Oy"
      },
      "source": [
        "<sup>Source: [Python Data Structures and Algorithms](https://www.amazon.com/Python-Data-Structures-Algorithms-application-ebook/dp/B01IF7NLM8) by  Benjamin Baka</sup>\n",
        "\n",
        "<sup>Source: [Problem Solving with Algorithms and Data Structures using Python](https://runestone.academy/runestone/books/published/pythonds/index.html) by Brad Miller and David Ranum</sup>"
      ]
    },
    {
      "cell_type": "markdown",
      "metadata": {
        "id": "2_8nFWoQI884"
      },
      "source": [
        "## **Built-in Functions**"
      ]
    },
    {
      "cell_type": "markdown",
      "metadata": {
        "id": "BNfum5eLLC7h"
      },
      "source": [
        "|   |   |**Built-in Functions**   |   |   |\n",
        "|---|:----:|:----:|:----:|:----:|\n",
        "| abs()  | delattr()  |  hash() | memoryview()  |  set() |\n",
        "| all()  | dict()  | help()  | min()  | setattr()  |\n",
        "| any()  | dir()  | hex()  | next()  | slice()  |\n",
        "| ascii()  | divmod()  | id()  |object()   | sorted()  |\n",
        "| bin()  | enumerate()  | input()  |oct()   | staticmethod()  |\n",
        "| bool()  | eval()  | int()  | open()  |str()   |\n",
        "| breakpoint()  | exec()  | isinstance()  | ord()  | sum()  |\n",
        "| bytearray()  |  filter() | issubclass()  | pow()  | super()  |\n",
        "| bytes()  | float()  | iter()  | print()  | tuple()  |\n",
        "| callable()  |  format() | len()  |  property() |  type() |\n",
        "| chr()  | frozenset()  | list()  | range()  | vars()  |\n",
        "| classmethod()  | getattr()  | locals()  | repr()  | zip()  |\n",
        "| compile()  | globals()  |  map() | reversed()  | \\_\\__import___()  |\n",
        "| complex()  |  hasattr() | max()  |  round() |   |"
      ]
    },
    {
      "cell_type": "markdown",
      "metadata": {
        "id": "PXNQbFw3OVE9"
      },
      "source": [
        "<sup>Source: [Built-in Functions](https://docs.python.org/3/library/functions.html) from Python.org</sup>"
      ]
    },
    {
      "cell_type": "code",
      "metadata": {
        "colab": {
          "base_uri": "https://localhost:8080/"
        },
        "id": "SCWhv3vHJjpl",
        "outputId": "7e27bfbd-04fc-417a-e8c0-9eb07fb9903c"
      },
      "source": [
        "print"
      ],
      "execution_count": 3,
      "outputs": [
        {
          "output_type": "execute_result",
          "data": {
            "text/plain": [
              "<function print>"
            ]
          },
          "metadata": {
            "tags": []
          },
          "execution_count": 3
        }
      ]
    },
    {
      "cell_type": "code",
      "metadata": {
        "colab": {
          "base_uri": "https://localhost:8080/"
        },
        "id": "-BGhujKeJN0A",
        "outputId": "b85d6453-8319-4f57-86f1-5a6304fd4268"
      },
      "source": [
        "num_list = [i for i in range(25)]\n",
        "\n",
        "print(f'The largest number in the list is {max(num_list)} and the smallest number is {min(num_list)}.')"
      ],
      "execution_count": 4,
      "outputs": [
        {
          "output_type": "stream",
          "text": [
            "The largest number in the list is 24 and the smallest number is 0.\n"
          ],
          "name": "stdout"
        }
      ]
    },
    {
      "cell_type": "markdown",
      "metadata": {
        "id": "0-g7B0fGCqe2"
      },
      "source": [
        "## **Functions from Packages**"
      ]
    },
    {
      "cell_type": "code",
      "metadata": {
        "colab": {
          "base_uri": "https://localhost:8080/"
        },
        "id": "8zbmlipoG19y",
        "outputId": "34399f0d-09c3-4688-85ef-a7a5933241b7"
      },
      "source": [
        "sqrt(9)\n",
        "\n",
        "help(sqrt)"
      ],
      "execution_count": 5,
      "outputs": [
        {
          "output_type": "stream",
          "text": [
            "Help on built-in function sqrt in module math:\n",
            "\n",
            "sqrt(x, /)\n",
            "    Return the square root of x.\n",
            "\n"
          ],
          "name": "stdout"
        }
      ]
    },
    {
      "cell_type": "code",
      "metadata": {
        "colab": {
          "base_uri": "https://localhost:8080/"
        },
        "id": "fJxqqr6RYxpc",
        "outputId": "ffad1aff-72d7-4d63-fad0-4f15d4f6c47c"
      },
      "source": [
        "factorial(3)"
      ],
      "execution_count": 6,
      "outputs": [
        {
          "output_type": "execute_result",
          "data": {
            "text/plain": [
              "6"
            ]
          },
          "metadata": {
            "tags": []
          },
          "execution_count": 6
        }
      ]
    },
    {
      "cell_type": "markdown",
      "metadata": {
        "id": "FPbCBbz2fOp-"
      },
      "source": [
        "## **Creating Functions**"
      ]
    },
    {
      "cell_type": "markdown",
      "metadata": {
        "id": "Uq1MAcbNFB55"
      },
      "source": [
        "### **Square Root Function**"
      ]
    },
    {
      "cell_type": "code",
      "metadata": {
        "id": "BUFfVv-8cm-Z"
      },
      "source": [
        "def sqroot(x):\n",
        "  return x**.5"
      ],
      "execution_count": 7,
      "outputs": []
    },
    {
      "cell_type": "code",
      "metadata": {
        "colab": {
          "base_uri": "https://localhost:8080/"
        },
        "id": "UwGMIRcBEZd6",
        "outputId": "eeb541f4-7619-4bb2-9971-8d87e47ad715"
      },
      "source": [
        "for i in range(10):\n",
        "  print(sqroot(i) == sqrt(i))"
      ],
      "execution_count": 8,
      "outputs": [
        {
          "output_type": "stream",
          "text": [
            "True\n",
            "True\n",
            "True\n",
            "True\n",
            "True\n",
            "True\n",
            "True\n",
            "True\n",
            "True\n",
            "True\n"
          ],
          "name": "stdout"
        }
      ]
    },
    {
      "cell_type": "code",
      "metadata": {
        "colab": {
          "base_uri": "https://localhost:8080/"
        },
        "id": "rI4anaD0E_vx",
        "outputId": "50425972-704a-44fc-b4b4-9577ccf29c93"
      },
      "source": [
        "np.angle(sqroot(-9), deg = True)"
      ],
      "execution_count": 9,
      "outputs": [
        {
          "output_type": "execute_result",
          "data": {
            "text/plain": [
              "90.0"
            ]
          },
          "metadata": {
            "tags": []
          },
          "execution_count": 9
        }
      ]
    },
    {
      "cell_type": "markdown",
      "metadata": {
        "id": "DeMs3ByQlx3L"
      },
      "source": [
        "### **Pi Function (No parameter example)**"
      ]
    },
    {
      "cell_type": "code",
      "metadata": {
        "id": "BIWP74dMliNs"
      },
      "source": [
        "def pi_approx():\n",
        "  return (2143/22)**(1/4)"
      ],
      "execution_count": 10,
      "outputs": []
    },
    {
      "cell_type": "markdown",
      "metadata": {
        "id": "1mpxb9V1nHC8"
      },
      "source": [
        "<sup>Source: [Pi Approximations](https://mathworld.wolfram.com/PiApproximations.html) from Wolfram MathWorld</sup>"
      ]
    },
    {
      "cell_type": "code",
      "metadata": {
        "colab": {
          "base_uri": "https://localhost:8080/"
        },
        "id": "Pa-lYR7zltJp",
        "outputId": "16d6eb80-128d-417b-b17c-2fb99831598c"
      },
      "source": [
        "pi == pi_approx"
      ],
      "execution_count": 11,
      "outputs": [
        {
          "output_type": "execute_result",
          "data": {
            "text/plain": [
              "False"
            ]
          },
          "metadata": {
            "tags": []
          },
          "execution_count": 11
        }
      ]
    },
    {
      "cell_type": "markdown",
      "metadata": {
        "id": "IRKr60CsomJ2"
      },
      "source": [
        "### **Volume of a Sphere Function (calling a function within a function)**"
      ]
    },
    {
      "cell_type": "code",
      "metadata": {
        "id": "3hBk1X9xn13I"
      },
      "source": [
        "def vol_sphere(r):\n",
        "  return (4/3) * pi_approx() * r**3"
      ],
      "execution_count": 12,
      "outputs": []
    },
    {
      "cell_type": "code",
      "metadata": {
        "colab": {
          "base_uri": "https://localhost:8080/"
        },
        "id": "lNETdSF1pB5l",
        "outputId": "cbea54db-03a1-4ab6-855d-26dc7f59123a"
      },
      "source": [
        "#what is the volume of a sphere with radius 5 cm?\n",
        "#523 cm^3\n",
        "vol_sphere(5)"
      ],
      "execution_count": 13,
      "outputs": [
        {
          "output_type": "execute_result",
          "data": {
            "text/plain": [
              "523.5987754304409"
            ]
          },
          "metadata": {
            "tags": []
          },
          "execution_count": 13
        }
      ]
    },
    {
      "cell_type": "markdown",
      "metadata": {
        "id": "mY17c-kfwxzd"
      },
      "source": [
        "### **Analytic Continuation of the Factorial (creating a function within a function)**"
      ]
    },
    {
      "cell_type": "markdown",
      "metadata": {
        "id": "jRD5Co1kG1I1"
      },
      "source": [
        "$\\Large n! = \\int_0^{\\infty} x^n e^{-x} dx$"
      ]
    },
    {
      "cell_type": "code",
      "metadata": {
        "id": "vDQFMaJ07sw2"
      },
      "source": [
        "#quad is a function that solves an integral equation iteratively rather than analytically\n",
        "\n",
        "def analytic_fact(n):\n",
        "\n",
        "  def integrand(x, n):\n",
        "    return x**n * e**-x\n",
        "  \n",
        "  return quad(integrand, 0, np.inf, args=(n))[0]"
      ],
      "execution_count": 14,
      "outputs": []
    },
    {
      "cell_type": "code",
      "metadata": {
        "colab": {
          "base_uri": "https://localhost:8080/"
        },
        "id": "n6lh6kRTAKC6",
        "outputId": "2e314a32-7a6b-4572-9d70-1b8e82845a31"
      },
      "source": [
        "analytic_fact(n = .5)"
      ],
      "execution_count": 15,
      "outputs": [
        {
          "output_type": "execute_result",
          "data": {
            "text/plain": [
              "0.886226925453611"
            ]
          },
          "metadata": {
            "tags": []
          },
          "execution_count": 15
        }
      ]
    },
    {
      "cell_type": "markdown",
      "metadata": {
        "id": "t6nZQ8BIbb0F"
      },
      "source": [
        "<sup>Source: [10 Mind Blowing Mathematical Equations](https://nargaque.com/2011/10/05/10-mind-blowing-mathematical-equations/) from A Reasoner's Miscellany</sup>"
      ]
    },
    {
      "cell_type": "markdown",
      "metadata": {
        "id": "BV95rQ7PZNPM"
      },
      "source": [
        "## **Functions within other Objects**"
      ]
    },
    {
      "cell_type": "code",
      "metadata": {
        "colab": {
          "base_uri": "https://localhost:8080/"
        },
        "id": "M_XKQwjiWYrx",
        "outputId": "b5eb3ae7-2724-4f48-f06c-a53fdb389462"
      },
      "source": [
        "#Since user-defined functions are objects, we can do include them in other objects, such as lists\n",
        "\n",
        "\n",
        "sqroot_list = [sqroot(i) for i in range(10)]\n",
        "\n",
        "sqroot_list"
      ],
      "execution_count": 16,
      "outputs": [
        {
          "output_type": "execute_result",
          "data": {
            "text/plain": [
              "[0.0,\n",
              " 1.0,\n",
              " 1.4142135623730951,\n",
              " 1.7320508075688772,\n",
              " 2.0,\n",
              " 2.23606797749979,\n",
              " 2.449489742783178,\n",
              " 2.6457513110645907,\n",
              " 2.8284271247461903,\n",
              " 3.0]"
            ]
          },
          "metadata": {
            "tags": []
          },
          "execution_count": 16
        }
      ]
    },
    {
      "cell_type": "markdown",
      "metadata": {
        "id": "eIh__MY-dvmA"
      },
      "source": [
        "# **References and Additional Learning**"
      ]
    },
    {
      "cell_type": "markdown",
      "metadata": {
        "id": "xno2FN_ddiE9"
      },
      "source": [
        "## **Textbooks**\n",
        "\n",
        "- **[Problem Solving with Algorithms and Data Structures using Python](https://runestone.academy/runestone/books/published/pythonds/index.html) by Brad Miller and David Ranum (FREE!)**\n",
        "\n",
        "- **[Data Structures and Algorithms Using Python](https://www.amazon.com/Data-Structures-Algorithms-Using-Python/dp/0470618299) by Rance Necaise**\n",
        "\n",
        "- **[Python Data Structures and Algorithms](https://www.amazon.com/Python-Data-Structures-Algorithms-application-ebook/dp/B01IF7NLM8) by  Benjamin Baka**"
      ]
    },
    {
      "cell_type": "markdown",
      "metadata": {
        "id": "BogjnGWPkoov"
      },
      "source": [
        "## **Website**\n",
        "\n",
        "- **[Built-in Functions](https://docs.python.org/3/library/functions.html) on Python.org**\n",
        "\n",
        "\n",
        "- **[Functions as First-Class Objects in Python](https://realpython.com/lessons/functions-first-class-objects-python/) by Christopher Bailey**"
      ]
    },
    {
      "cell_type": "markdown",
      "metadata": {
        "id": "_FGL_YIqdyn0"
      },
      "source": [
        "# **Connect**\n",
        "- **Feel free to connect with Adrian on [YouTube](https://www.youtube.com/channel/UCPuDxI3xb_ryUUMfkm0jsRA), [LinkedIn](https://www.linkedin.com/in/adrian-dolinay-frm-96a289106/), [Twitter](https://twitter.com/DolinayG) and [GitHub](https://github.com/ad17171717). Happy coding!**"
      ]
    }
  ]
}