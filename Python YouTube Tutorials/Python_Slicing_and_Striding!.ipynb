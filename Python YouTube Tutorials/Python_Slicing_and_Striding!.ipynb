{
  "nbformat": 4,
  "nbformat_minor": 0,
  "metadata": {
    "colab": {
      "name": "Python Slicing and Striding!.ipynb",
      "provenance": [],
      "collapsed_sections": []
    },
    "kernelspec": {
      "name": "python3",
      "display_name": "Python 3"
    }
  },
  "cells": [
    {
      "cell_type": "code",
      "metadata": {
        "id": "sL5jaDQsQ1Fe"
      },
      "source": [
        "import string\r\n",
        "import numpy as np\r\n",
        "from IPython.display import YouTubeVideo"
      ],
      "execution_count": 1,
      "outputs": []
    },
    {
      "cell_type": "code",
      "metadata": {
        "colab": {
          "base_uri": "https://localhost:8080/",
          "height": 321
        },
        "id": "_ToqGg0G-NLq",
        "outputId": "17c9a4d4-a7a4-4fe0-ac09-d3a487adeb53"
      },
      "source": [
        "#tutorial on YouTube\r\n",
        "YouTubeVideo('uPLgyXcV-OE')"
      ],
      "execution_count": 2,
      "outputs": [
        {
          "output_type": "execute_result",
          "data": {
            "text/html": [
              "\n",
              "        <iframe\n",
              "            width=\"400\"\n",
              "            height=\"300\"\n",
              "            src=\"https://www.youtube.com/embed/uPLgyXcV-OE\"\n",
              "            frameborder=\"0\"\n",
              "            allowfullscreen\n",
              "        ></iframe>\n",
              "        "
            ],
            "text/plain": [
              "<IPython.lib.display.YouTubeVideo at 0x7fac6e8e0358>"
            ],
            "image/jpeg": "[encoded data removed]"
          },
          "metadata": {
            "tags": []
          },
          "execution_count": 2
        }
      ]
    },
    {
      "cell_type": "markdown",
      "metadata": {
        "id": "uCzq1YeggOpe"
      },
      "source": [
        "# **What is Slicing?**\r\n",
        "\r\n",
        "**Given a list or set of elements, slicing allows you to access all or a specified subset of the elements.**\r\n",
        "\r\n",
        "**Array slicing originated from APL, a progamming language developed in the 1950/60's and designed by Kenneth Iverson.**"
      ]
    },
    {
      "cell_type": "markdown",
      "metadata": {
        "id": "XQFgSz6IZDu9"
      },
      "source": [
        "# **What is Striding?**\r\n",
        "**Striding specifies the $n$th element to be returned within a slice.**"
      ]
    },
    {
      "cell_type": "markdown",
      "metadata": {
        "id": "GPehRQ_bRrv2"
      },
      "source": [
        "# **Slicing Lists**\r\n",
        "**The most common use of slicing in Python is to slice through lists.**"
      ]
    },
    {
      "cell_type": "code",
      "metadata": {
        "colab": {
          "base_uri": "https://localhost:8080/"
        },
        "id": "4rEzRE3pgBfW",
        "outputId": "901cb354-3aba-48cd-9ef2-dc1a0647ac50"
      },
      "source": [
        "num_list = [i for i in range(26)]\r\n",
        "num_list"
      ],
      "execution_count": 3,
      "outputs": [
        {
          "output_type": "execute_result",
          "data": {
            "text/plain": [
              "[0,\n",
              " 1,\n",
              " 2,\n",
              " 3,\n",
              " 4,\n",
              " 5,\n",
              " 6,\n",
              " 7,\n",
              " 8,\n",
              " 9,\n",
              " 10,\n",
              " 11,\n",
              " 12,\n",
              " 13,\n",
              " 14,\n",
              " 15,\n",
              " 16,\n",
              " 17,\n",
              " 18,\n",
              " 19,\n",
              " 20,\n",
              " 21,\n",
              " 22,\n",
              " 23,\n",
              " 24,\n",
              " 25]"
            ]
          },
          "metadata": {
            "tags": []
          },
          "execution_count": 3
        }
      ]
    },
    {
      "cell_type": "code",
      "metadata": {
        "colab": {
          "base_uri": "https://localhost:8080/"
        },
        "id": "nW_vAInFgBh1",
        "outputId": "991176f5-906b-4f51-e75c-2fbe9a979a7c"
      },
      "source": [
        "print(num_list[:])\r\n",
        "print(num_list[:5])\r\n",
        "print(num_list[(len(num_list)-5):])"
      ],
      "execution_count": 4,
      "outputs": [
        {
          "output_type": "stream",
          "text": [
            "[0, 1, 2, 3, 4, 5, 6, 7, 8, 9, 10, 11, 12, 13, 14, 15, 16, 17, 18, 19, 20, 21, 22, 23, 24, 25]\n",
            "[0, 1, 2, 3, 4]\n",
            "[21, 22, 23, 24, 25]\n"
          ],
          "name": "stdout"
        }
      ]
    },
    {
      "cell_type": "markdown",
      "metadata": {
        "id": "UEvrsce6Xhb-"
      },
      "source": [
        "# **Striding Lists**"
      ]
    },
    {
      "cell_type": "code",
      "metadata": {
        "colab": {
          "base_uri": "https://localhost:8080/"
        },
        "id": "vEGiSxg4XgAA",
        "outputId": "12b89641-1ebb-4792-8ad9-62d3d730f5a5"
      },
      "source": [
        "print(num_list[::3])\r\n",
        "print(num_list[3::3])"
      ],
      "execution_count": 5,
      "outputs": [
        {
          "output_type": "stream",
          "text": [
            "[0, 3, 6, 9, 12, 15, 18, 21, 24]\n",
            "[3, 6, 9, 12, 15, 18, 21, 24]\n"
          ],
          "name": "stdout"
        }
      ]
    },
    {
      "cell_type": "markdown",
      "metadata": {
        "id": "fR1U2bLUu2zu"
      },
      "source": [
        "# **Creating lists with slicing**"
      ]
    },
    {
      "cell_type": "code",
      "metadata": {
        "colab": {
          "base_uri": "https://localhost:8080/"
        },
        "id": "W7eMFT0sUHRk",
        "outputId": "297e4b3b-6b85-413f-e198-7907dbc0e835"
      },
      "source": [
        "even_list = num_list[::2]\r\n",
        "odd_list = num_list[1::2]\r\n",
        "\r\n",
        "for i,j in zip(even_list, odd_list):\r\n",
        "  print(f'Even Number: {i}')\r\n",
        "  print(f'Odd Number: {j}')"
      ],
      "execution_count": 6,
      "outputs": [
        {
          "output_type": "stream",
          "text": [
            "Even Number: 0\n",
            "Odd Number: 1\n",
            "Even Number: 2\n",
            "Odd Number: 3\n",
            "Even Number: 4\n",
            "Odd Number: 5\n",
            "Even Number: 6\n",
            "Odd Number: 7\n",
            "Even Number: 8\n",
            "Odd Number: 9\n",
            "Even Number: 10\n",
            "Odd Number: 11\n",
            "Even Number: 12\n",
            "Odd Number: 13\n",
            "Even Number: 14\n",
            "Odd Number: 15\n",
            "Even Number: 16\n",
            "Odd Number: 17\n",
            "Even Number: 18\n",
            "Odd Number: 19\n",
            "Even Number: 20\n",
            "Odd Number: 21\n",
            "Even Number: 22\n",
            "Odd Number: 23\n",
            "Even Number: 24\n",
            "Odd Number: 25\n"
          ],
          "name": "stdout"
        }
      ]
    },
    {
      "cell_type": "markdown",
      "metadata": {
        "id": "NcLnlQTFa16D"
      },
      "source": [
        "# **NumPy Arrays can be Sliced and Strided**"
      ]
    },
    {
      "cell_type": "code",
      "metadata": {
        "colab": {
          "base_uri": "https://localhost:8080/"
        },
        "id": "HY3a8t8wbS4r",
        "outputId": "1b0ff330-4eda-43f9-ba66-e2bbf53555a2"
      },
      "source": [
        "np_array = np.arange(0, 1.1, .1)\r\n",
        "print(np_array[:5])\r\n",
        "print(np_array[5:])\r\n",
        "print(np_array[::2])"
      ],
      "execution_count": 7,
      "outputs": [
        {
          "output_type": "stream",
          "text": [
            "[0.  0.1 0.2 0.3 0.4]\n",
            "[0.5 0.6 0.7 0.8 0.9 1. ]\n",
            "[0.  0.2 0.4 0.6 0.8 1. ]\n"
          ],
          "name": "stdout"
        }
      ]
    },
    {
      "cell_type": "markdown",
      "metadata": {
        "id": "zFhzer-ZeOke"
      },
      "source": [
        "## **Multidimensional Slicing and Striding**"
      ]
    },
    {
      "cell_type": "code",
      "metadata": {
        "colab": {
          "base_uri": "https://localhost:8080/"
        },
        "id": "_UDewoZScVJk",
        "outputId": "f77881f5-7595-40c2-af33-140fd3520a99"
      },
      "source": [
        "multi_array = np.array([[1, 2, 3, 4, 5], [6, 7, 8, 9, 10], [11, 12, 13, 14, 15]])\r\n",
        "print('Full array\\n', multi_array, '\\n')\r\n",
        "\r\n",
        "#columns\r\n",
        "print('Column Slicing')\r\n",
        "print(multi_array[:, 2],'\\n')\r\n",
        "print(multi_array[:, 3:],'\\n')\r\n",
        "\r\n",
        "#rows\r\n",
        "print('Row Slicing')\r\n",
        "print(multi_array[:1, :],'\\n')\r\n",
        "print(multi_array[1:, :],'\\n')\r\n",
        "\r\n",
        "#sub-arrays\r\n",
        "print('Sub-array Slicing')\r\n",
        "print(multi_array[1:, 3:],'\\n')"
      ],
      "execution_count": 8,
      "outputs": [
        {
          "output_type": "stream",
          "text": [
            "Full array\n",
            " [[ 1  2  3  4  5]\n",
            " [ 6  7  8  9 10]\n",
            " [11 12 13 14 15]] \n",
            "\n",
            "Column Slicing\n",
            "[ 3  8 13] \n",
            "\n",
            "[[ 4  5]\n",
            " [ 9 10]\n",
            " [14 15]] \n",
            "\n",
            "Row Slicing\n",
            "[[1 2 3 4 5]] \n",
            "\n",
            "[[ 6  7  8  9 10]\n",
            " [11 12 13 14 15]] \n",
            "\n",
            "Sub-array Slicing\n",
            "[[ 9 10]\n",
            " [14 15]] \n",
            "\n"
          ],
          "name": "stdout"
        }
      ]
    },
    {
      "cell_type": "markdown",
      "metadata": {
        "id": "Sp-EkP63Q-cC"
      },
      "source": [
        "# **Slicing Strings**\r\n",
        "\r\n",
        "**Like lists and NumPy arrays, strings can also be sliced.**\r\n"
      ]
    },
    {
      "cell_type": "code",
      "metadata": {
        "colab": {
          "base_uri": "https://localhost:8080/",
          "height": 35
        },
        "id": "6I0LTYNyQsGZ",
        "outputId": "e40c3c77-2973-4625-b736-e5064c9d6f35"
      },
      "source": [
        "alphabet = string.ascii_lowercase\r\n",
        "alphabet[:5]"
      ],
      "execution_count": 9,
      "outputs": [
        {
          "output_type": "execute_result",
          "data": {
            "application/vnd.google.colaboratory.intrinsic+json": {
              "type": "string"
            },
            "text/plain": [
              "'abcde'"
            ]
          },
          "metadata": {
            "tags": []
          },
          "execution_count": 9
        }
      ]
    },
    {
      "cell_type": "code",
      "metadata": {
        "colab": {
          "base_uri": "https://localhost:8080/",
          "height": 35
        },
        "id": "JjAo2MJnQsNX",
        "outputId": "629e372d-e20b-42b4-d439-7c045f39198a"
      },
      "source": [
        "alphabet[::4]"
      ],
      "execution_count": 10,
      "outputs": [
        {
          "output_type": "execute_result",
          "data": {
            "application/vnd.google.colaboratory.intrinsic+json": {
              "type": "string"
            },
            "text/plain": [
              "'aeimquy'"
            ]
          },
          "metadata": {
            "tags": []
          },
          "execution_count": 10
        }
      ]
    },
    {
      "cell_type": "markdown",
      "metadata": {
        "id": "GPnIIgAVgmL2"
      },
      "source": [
        "# **Negative Indexing**\r\n",
        "**Most programming languages do not allow for negative indexing, but luckily Python is one of the exceptions.**"
      ]
    },
    {
      "cell_type": "code",
      "metadata": {
        "colab": {
          "base_uri": "https://localhost:8080/"
        },
        "id": "q_3xrphzgK6C",
        "outputId": "d70a7a73-9632-4542-c57b-dcf2736dfa4d"
      },
      "source": [
        "num_list[-1]"
      ],
      "execution_count": 11,
      "outputs": [
        {
          "output_type": "execute_result",
          "data": {
            "text/plain": [
              "25"
            ]
          },
          "metadata": {
            "tags": []
          },
          "execution_count": 11
        }
      ]
    },
    {
      "cell_type": "code",
      "metadata": {
        "colab": {
          "base_uri": "https://localhost:8080/"
        },
        "id": "bKeQN-plnpoR",
        "outputId": "21a3c63b-9c28-4fa9-badb-619a97e47fa2"
      },
      "source": [
        "#reverse list\r\n",
        "num_list[::-1]"
      ],
      "execution_count": 12,
      "outputs": [
        {
          "output_type": "execute_result",
          "data": {
            "text/plain": [
              "[25,\n",
              " 24,\n",
              " 23,\n",
              " 22,\n",
              " 21,\n",
              " 20,\n",
              " 19,\n",
              " 18,\n",
              " 17,\n",
              " 16,\n",
              " 15,\n",
              " 14,\n",
              " 13,\n",
              " 12,\n",
              " 11,\n",
              " 10,\n",
              " 9,\n",
              " 8,\n",
              " 7,\n",
              " 6,\n",
              " 5,\n",
              " 4,\n",
              " 3,\n",
              " 2,\n",
              " 1,\n",
              " 0]"
            ]
          },
          "metadata": {
            "tags": []
          },
          "execution_count": 12
        }
      ]
    },
    {
      "cell_type": "code",
      "metadata": {
        "colab": {
          "base_uri": "https://localhost:8080/"
        },
        "id": "CqCFWynEnH-V",
        "outputId": "84848b48-6cce-42b5-e4d0-0291b68150cf"
      },
      "source": [
        "#reverse string, check for palindromes\r\n",
        "string_1 = 'madam'\r\n",
        "string_2 = 'racecar'\r\n",
        "string_3 = 'hello'\r\n",
        "\r\n",
        "print(string_1[::-1])\r\n",
        "print(string_2[::-1])\r\n",
        "print(string_3[::-1])"
      ],
      "execution_count": 13,
      "outputs": [
        {
          "output_type": "stream",
          "text": [
            "madam\n",
            "racecar\n",
            "olleh\n"
          ],
          "name": "stdout"
        }
      ]
    },
    {
      "cell_type": "markdown",
      "metadata": {
        "id": "Tg7ABRJcJ8qL"
      },
      "source": [
        "# **References and Additional Learning**"
      ]
    },
    {
      "cell_type": "markdown",
      "metadata": {
        "id": "UXJc1mjyJ8xp"
      },
      "source": [
        "## **Textbooks**\r\n",
        "- **[Effective Python: 90 Specific Ways to Write Better Python](https://www.amazon.com/Effective-Python-Specific-Software-Development/dp/0134853989) by Brett Slatkin**\r\n",
        "\r\n",
        "- **[Python Data Science Handbook: Essential Tools for Working with Data](https://www.google.com/url?sa=t&rct=j&q=&esrc=s&source=web&cd=&ved=2ahUKEwiZvr2CyY_uAhWRGVkFHa0fDX8QFjACegQIBBAC&url=https%3A%2F%2Fwww.amazon.com%2FPython-Data-Science-Handbook-Essential%2Fdp%2F1491912057&usg=AOvVaw0pVhfOdlXE2c75z5-gAlwt) by Jake VanderPlas**"
      ]
    },
    {
      "cell_type": "markdown",
      "metadata": {
        "id": "ri5Xo85IJ84h"
      },
      "source": [
        "## **Podcast**\r\n",
        "\r\n",
        "- **[TalkPython Episode 275: Beautiful Pythonic Refactorings](https://talkpython.fm/episodes/show/275/beautiful-pythonic-refactorings) with Conor Hoekstra**"
      ]
    },
    {
      "cell_type": "markdown",
      "metadata": {
        "id": "PfA80repKDny"
      },
      "source": [
        "# **Connect**\r\n",
        "- **Feel free to connect with Adrian on [YouTube](https://www.youtube.com/channel/UCPuDxI3xb_ryUUMfkm0jsRA), [LinkedIn](https://www.linkedin.com/in/adrian-dolinay-frm-96a289106/), [Twitter](https://twitter.com/DolinayG) and [GitHub](https://github.com/ad17171717). Happy coding!**"
      ]
    }
  ]
}