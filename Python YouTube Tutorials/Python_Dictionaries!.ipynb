{
  "nbformat": 4,
  "nbformat_minor": 0,
  "metadata": {
    "colab": {
      "name": "Python - Dictionaries! (FULL).ipynb",
      "provenance": [],
      "collapsed_sections": []
    },
    "kernelspec": {
      "name": "python3",
      "display_name": "Python 3"
    },
    "language_info": {
      "name": "python"
    }
  },
  "cells": [
    {
      "cell_type": "code",
      "metadata": {
        "id": "NciboXCKCa7X"
      },
      "source": [
        "import string\n",
        "import pandas as pd\n",
        "import random\n",
        "from IPython.display import YouTubeVideo"
      ],
      "execution_count": 2,
      "outputs": []
    },
    {
      "cell_type": "code",
      "metadata": {
        "colab": {
          "base_uri": "https://localhost:8080/",
          "height": 321
        },
        "id": "0FLtVlIWgqId",
        "outputId": "3a67d371-e326-4a2a-ac85-a4410422a000"
      },
      "source": [
        "#tutorial on YouTube\n",
        "YouTubeVideo('EKWkRfbFRts')"
      ],
      "execution_count": 3,
      "outputs": [
        {
          "output_type": "execute_result",
          "data": {
            "text/html": [
              "\n",
              "        <iframe\n",
              "            width=\"400\"\n",
              "            height=\"300\"\n",
              "            src=\"https://www.youtube.com/embed/EKWkRfbFRts\"\n",
              "            frameborder=\"0\"\n",
              "            allowfullscreen\n",
              "        ></iframe>\n",
              "        "
            ],
            "text/plain": [
              "<IPython.lib.display.YouTubeVideo at 0x7f216c1fda90>"
            ]
          },
          "metadata": {
            "tags": []
          },
          "execution_count": 3
        }
      ]
    },
    {
      "cell_type": "markdown",
      "metadata": {
        "id": "EokACF7yCoQJ"
      },
      "source": [
        "# **Dictionaries**\n",
        "\n",
        "**Within Python, the dictionary class is a collection of mutable objects (values) that are indexed by numbers, strings or certain sets (keys) which are immutable.**\n",
        "\n",
        "**The main use of dictionaries is to store values which can then be called by a given key.**"
      ]
    },
    {
      "cell_type": "markdown",
      "metadata": {
        "id": "7FB1g1YsHXNx"
      },
      "source": [
        "<sup>Source: [Python Data Structures and Algorithms](https://www.amazon.com/Python-Data-Structures-Algorithms-application-ebook/dp/B01IF7NLM8) by  Benjamin Baka</sup>"
      ]
    },
    {
      "cell_type": "code",
      "metadata": {
        "colab": {
          "base_uri": "https://localhost:8080/"
        },
        "id": "yCtHPzMkCrV2",
        "outputId": "5fa981a4-0b5a-4b58-f1ce-c989b4e1a2d3"
      },
      "source": [
        "help(dict)"
      ],
      "execution_count": null,
      "outputs": [
        {
          "output_type": "stream",
          "text": [
            "Help on class dict in module builtins:\n",
            "\n",
            "class dict(object)\n",
            " |  dict() -> new empty dictionary\n",
            " |  dict(mapping) -> new dictionary initialized from a mapping object's\n",
            " |      (key, value) pairs\n",
            " |  dict(iterable) -> new dictionary initialized as if via:\n",
            " |      d = {}\n",
            " |      for k, v in iterable:\n",
            " |          d[k] = v\n",
            " |  dict(**kwargs) -> new dictionary initialized with the name=value pairs\n",
            " |      in the keyword argument list.  For example:  dict(one=1, two=2)\n",
            " |  \n",
            " |  Methods defined here:\n",
            " |  \n",
            " |  __contains__(self, key, /)\n",
            " |      True if the dictionary has the specified key, else False.\n",
            " |  \n",
            " |  __delitem__(self, key, /)\n",
            " |      Delete self[key].\n",
            " |  \n",
            " |  __eq__(self, value, /)\n",
            " |      Return self==value.\n",
            " |  \n",
            " |  __ge__(self, value, /)\n",
            " |      Return self>=value.\n",
            " |  \n",
            " |  __getattribute__(self, name, /)\n",
            " |      Return getattr(self, name).\n",
            " |  \n",
            " |  __getitem__(...)\n",
            " |      x.__getitem__(y) <==> x[y]\n",
            " |  \n",
            " |  __gt__(self, value, /)\n",
            " |      Return self>value.\n",
            " |  \n",
            " |  __init__(self, /, *args, **kwargs)\n",
            " |      Initialize self.  See help(type(self)) for accurate signature.\n",
            " |  \n",
            " |  __iter__(self, /)\n",
            " |      Implement iter(self).\n",
            " |  \n",
            " |  __le__(self, value, /)\n",
            " |      Return self<=value.\n",
            " |  \n",
            " |  __len__(self, /)\n",
            " |      Return len(self).\n",
            " |  \n",
            " |  __lt__(self, value, /)\n",
            " |      Return self<value.\n",
            " |  \n",
            " |  __ne__(self, value, /)\n",
            " |      Return self!=value.\n",
            " |  \n",
            " |  __repr__(self, /)\n",
            " |      Return repr(self).\n",
            " |  \n",
            " |  __setitem__(self, key, value, /)\n",
            " |      Set self[key] to value.\n",
            " |  \n",
            " |  __sizeof__(...)\n",
            " |      D.__sizeof__() -> size of D in memory, in bytes\n",
            " |  \n",
            " |  clear(...)\n",
            " |      D.clear() -> None.  Remove all items from D.\n",
            " |  \n",
            " |  copy(...)\n",
            " |      D.copy() -> a shallow copy of D\n",
            " |  \n",
            " |  get(self, key, default=None, /)\n",
            " |      Return the value for key if key is in the dictionary, else default.\n",
            " |  \n",
            " |  items(...)\n",
            " |      D.items() -> a set-like object providing a view on D's items\n",
            " |  \n",
            " |  keys(...)\n",
            " |      D.keys() -> a set-like object providing a view on D's keys\n",
            " |  \n",
            " |  pop(...)\n",
            " |      D.pop(k[,d]) -> v, remove specified key and return the corresponding value.\n",
            " |      If key is not found, d is returned if given, otherwise KeyError is raised\n",
            " |  \n",
            " |  popitem(...)\n",
            " |      D.popitem() -> (k, v), remove and return some (key, value) pair as a\n",
            " |      2-tuple; but raise KeyError if D is empty.\n",
            " |  \n",
            " |  setdefault(self, key, default=None, /)\n",
            " |      Insert key with a value of default if key is not in the dictionary.\n",
            " |      \n",
            " |      Return the value for key if key is in the dictionary, else default.\n",
            " |  \n",
            " |  update(...)\n",
            " |      D.update([E, ]**F) -> None.  Update D from dict/iterable E and F.\n",
            " |      If E is present and has a .keys() method, then does:  for k in E: D[k] = E[k]\n",
            " |      If E is present and lacks a .keys() method, then does:  for k, v in E: D[k] = v\n",
            " |      In either case, this is followed by: for k in F:  D[k] = F[k]\n",
            " |  \n",
            " |  values(...)\n",
            " |      D.values() -> an object providing a view on D's values\n",
            " |  \n",
            " |  ----------------------------------------------------------------------\n",
            " |  Class methods defined here:\n",
            " |  \n",
            " |  fromkeys(iterable, value=None, /) from builtins.type\n",
            " |      Create a new dictionary with keys from iterable and values set to value.\n",
            " |  \n",
            " |  ----------------------------------------------------------------------\n",
            " |  Static methods defined here:\n",
            " |  \n",
            " |  __new__(*args, **kwargs) from builtins.type\n",
            " |      Create and return a new object.  See help(type) for accurate signature.\n",
            " |  \n",
            " |  ----------------------------------------------------------------------\n",
            " |  Data and other attributes defined here:\n",
            " |  \n",
            " |  __hash__ = None\n",
            "\n"
          ],
          "name": "stdout"
        }
      ]
    },
    {
      "cell_type": "markdown",
      "metadata": {
        "id": "sTvopNpvD4IN"
      },
      "source": [
        "## **Creating a Dictionary**"
      ]
    },
    {
      "cell_type": "code",
      "metadata": {
        "colab": {
          "base_uri": "https://localhost:8080/"
        },
        "id": "3MHg01gpCzEi",
        "outputId": "ccc3196d-c1ff-440a-d96c-6d4c2c9d82ff"
      },
      "source": [
        "#explicitly code it out\n",
        "alpha_dict_1 = {1:'a', 2:'b', 3:'c', 4:'d'}\n",
        "print(alpha_dict_1)\n",
        "\n",
        "#calling the dict constructor\n",
        "alpha_dict_2 = dict(zip([i for i in range(1,7)], [i for i in string.ascii_lowercase][:6]))\n",
        "print(alpha_dict_2)\n",
        "\n",
        "#dictionary comprehension\n",
        "alpha_dict_3 = {alpha: num for alpha, num in zip(range(1,27), [i for i in string.ascii_lowercase])}\n",
        "print(alpha_dict_3)\n",
        "\n",
        "#empty dictionary\n",
        "empty_dict = {}\n",
        "print(empty_dict)"
      ],
      "execution_count": null,
      "outputs": [
        {
          "output_type": "stream",
          "text": [
            "{1: 'a', 2: 'b', 3: 'c', 4: 'd'}\n",
            "{1: 'a', 2: 'b', 3: 'c', 4: 'd', 5: 'e', 6: 'f'}\n",
            "{1: 'a', 2: 'b', 3: 'c', 4: 'd', 5: 'e', 6: 'f', 7: 'g', 8: 'h', 9: 'i', 10: 'j', 11: 'k', 12: 'l', 13: 'm', 14: 'n', 15: 'o', 16: 'p', 17: 'q', 18: 'r', 19: 's', 20: 't', 21: 'u', 22: 'v', 23: 'w', 24: 'x', 25: 'y', 26: 'z'}\n",
            "{}\n"
          ],
          "name": "stdout"
        }
      ]
    },
    {
      "cell_type": "markdown",
      "metadata": {
        "id": "9e2w7SdeKXg-"
      },
      "source": [
        "## **Calling keys and values from a Dictionary**"
      ]
    },
    {
      "cell_type": "code",
      "metadata": {
        "colab": {
          "base_uri": "https://localhost:8080/"
        },
        "id": "ydYS-xyNCzTF",
        "outputId": "67e962aa-dbc8-4645-8dee-552441a00eda"
      },
      "source": [
        "for key in alpha_dict_1:\n",
        "  print(key)"
      ],
      "execution_count": null,
      "outputs": [
        {
          "output_type": "stream",
          "text": [
            "1\n",
            "2\n",
            "3\n",
            "4\n"
          ],
          "name": "stdout"
        }
      ]
    },
    {
      "cell_type": "code",
      "metadata": {
        "colab": {
          "base_uri": "https://localhost:8080/"
        },
        "id": "X0yIgZEpLKkV",
        "outputId": "e9cb2853-b18e-4372-9206-b7d0dfc9d54f"
      },
      "source": [
        "for value in alpha_dict_1.values():\n",
        "  print(value)"
      ],
      "execution_count": null,
      "outputs": [
        {
          "output_type": "stream",
          "text": [
            "a\n",
            "b\n",
            "c\n",
            "d\n"
          ],
          "name": "stdout"
        }
      ]
    },
    {
      "cell_type": "code",
      "metadata": {
        "colab": {
          "base_uri": "https://localhost:8080/"
        },
        "id": "Us7f0fyQGMEy",
        "outputId": "5b08d639-de6d-4511-c7b9-1baa20d759ff"
      },
      "source": [
        "for key, value in alpha_dict_1.items():\n",
        "  print(key, value)"
      ],
      "execution_count": null,
      "outputs": [
        {
          "output_type": "stream",
          "text": [
            "1 a\n",
            "2 b\n",
            "3 c\n",
            "4 d\n"
          ],
          "name": "stdout"
        }
      ]
    },
    {
      "cell_type": "code",
      "metadata": {
        "colab": {
          "base_uri": "https://localhost:8080/",
          "height": 36
        },
        "id": "SAZo1uRBGMIh",
        "outputId": "406532f7-ec45-4c74-b8b5-30f228bd20a5"
      },
      "source": [
        "alpha_dict_1[1]"
      ],
      "execution_count": null,
      "outputs": [
        {
          "output_type": "execute_result",
          "data": {
            "application/vnd.google.colaboratory.intrinsic+json": {
              "type": "string"
            },
            "text/plain": [
              "'a'"
            ]
          },
          "metadata": {
            "tags": []
          },
          "execution_count": 7
        }
      ]
    },
    {
      "cell_type": "markdown",
      "metadata": {
        "id": "jsyg9C97pX3o"
      },
      "source": [
        "## **Deleting and Popping Keys and Values from a Dictionary**"
      ]
    },
    {
      "cell_type": "code",
      "metadata": {
        "colab": {
          "base_uri": "https://localhost:8080/"
        },
        "id": "8pWdnoIXpm40",
        "outputId": "cf10eab6-c166-4f05-9368-fbaf5266343e"
      },
      "source": [
        "alpha_dict_1"
      ],
      "execution_count": null,
      "outputs": [
        {
          "output_type": "execute_result",
          "data": {
            "text/plain": [
              "{1: 'a', 2: 'b', 3: 'c', 4: 'd'}"
            ]
          },
          "metadata": {
            "tags": []
          },
          "execution_count": 8
        }
      ]
    },
    {
      "cell_type": "code",
      "metadata": {
        "id": "tJWITI4HpelI"
      },
      "source": [
        "del alpha_dict_1[4]"
      ],
      "execution_count": null,
      "outputs": []
    },
    {
      "cell_type": "code",
      "metadata": {
        "id": "qQClU6m7pkLb"
      },
      "source": [
        "#use pop if you need so save the value you are deleting\n",
        "removed_letter = alpha_dict_1.pop(3)"
      ],
      "execution_count": null,
      "outputs": []
    },
    {
      "cell_type": "code",
      "metadata": {
        "colab": {
          "base_uri": "https://localhost:8080/",
          "height": 36
        },
        "id": "X36sGgh9qFKJ",
        "outputId": "c3996e22-e4f9-471e-8655-fb5f58c7bad2"
      },
      "source": [
        "removed_letter"
      ],
      "execution_count": null,
      "outputs": [
        {
          "output_type": "execute_result",
          "data": {
            "application/vnd.google.colaboratory.intrinsic+json": {
              "type": "string"
            },
            "text/plain": [
              "'c'"
            ]
          },
          "metadata": {
            "tags": []
          },
          "execution_count": 11
        }
      ]
    },
    {
      "cell_type": "code",
      "metadata": {
        "colab": {
          "base_uri": "https://localhost:8080/"
        },
        "id": "wgetU50Epwyt",
        "outputId": "2fdaefae-f5cc-468a-94b9-a5f444457dab"
      },
      "source": [
        "alpha_dict_1"
      ],
      "execution_count": null,
      "outputs": [
        {
          "output_type": "execute_result",
          "data": {
            "text/plain": [
              "{1: 'a', 2: 'b'}"
            ]
          },
          "metadata": {
            "tags": []
          },
          "execution_count": 12
        }
      ]
    },
    {
      "cell_type": "markdown",
      "metadata": {
        "id": "KtNajuwmN4zj"
      },
      "source": [
        "## **Changing values within a Dictionary**"
      ]
    },
    {
      "cell_type": "code",
      "metadata": {
        "id": "5v54WtobGMMh"
      },
      "source": [
        "for key,upper in zip(alpha_dict_3, string.ascii_uppercase):\n",
        "  alpha_dict_3[key] = upper"
      ],
      "execution_count": null,
      "outputs": []
    },
    {
      "cell_type": "code",
      "metadata": {
        "colab": {
          "base_uri": "https://localhost:8080/"
        },
        "id": "cEM_Vh5ICzWB",
        "outputId": "cafbbbba-7ffd-49a1-bdf3-32fb8c62884a"
      },
      "source": [
        "alpha_dict_3"
      ],
      "execution_count": null,
      "outputs": [
        {
          "output_type": "execute_result",
          "data": {
            "text/plain": [
              "{1: 'A',\n",
              " 2: 'B',\n",
              " 3: 'C',\n",
              " 4: 'D',\n",
              " 5: 'E',\n",
              " 6: 'F',\n",
              " 7: 'G',\n",
              " 8: 'H',\n",
              " 9: 'I',\n",
              " 10: 'J',\n",
              " 11: 'K',\n",
              " 12: 'L',\n",
              " 13: 'M',\n",
              " 14: 'N',\n",
              " 15: 'O',\n",
              " 16: 'P',\n",
              " 17: 'Q',\n",
              " 18: 'R',\n",
              " 19: 'S',\n",
              " 20: 'T',\n",
              " 21: 'U',\n",
              " 22: 'V',\n",
              " 23: 'W',\n",
              " 24: 'X',\n",
              " 25: 'Y',\n",
              " 26: 'Z'}"
            ]
          },
          "metadata": {
            "tags": []
          },
          "execution_count": 14
        }
      ]
    },
    {
      "cell_type": "markdown",
      "metadata": {
        "id": "ycUcIX_4Ovgy"
      },
      "source": [
        "## **Sorting a Dictionary**"
      ]
    },
    {
      "cell_type": "code",
      "metadata": {
        "colab": {
          "base_uri": "https://localhost:8080/"
        },
        "id": "RBdHvpQ4Czdx",
        "outputId": "8151862f-349a-4171-cc8e-f08fb6cc8db6"
      },
      "source": [
        "reverse_dict = dict(zip([key for key in alpha_dict_3], sorted(list(alpha_dict_3.values()),reverse = True)))\n",
        "reverse_dict"
      ],
      "execution_count": null,
      "outputs": [
        {
          "output_type": "execute_result",
          "data": {
            "text/plain": [
              "{1: 'Z',\n",
              " 2: 'Y',\n",
              " 3: 'X',\n",
              " 4: 'W',\n",
              " 5: 'V',\n",
              " 6: 'U',\n",
              " 7: 'T',\n",
              " 8: 'S',\n",
              " 9: 'R',\n",
              " 10: 'Q',\n",
              " 11: 'P',\n",
              " 12: 'O',\n",
              " 13: 'N',\n",
              " 14: 'M',\n",
              " 15: 'L',\n",
              " 16: 'K',\n",
              " 17: 'J',\n",
              " 18: 'I',\n",
              " 19: 'H',\n",
              " 20: 'G',\n",
              " 21: 'F',\n",
              " 22: 'E',\n",
              " 23: 'D',\n",
              " 24: 'C',\n",
              " 25: 'B',\n",
              " 26: 'A'}"
            ]
          },
          "metadata": {
            "tags": []
          },
          "execution_count": 15
        }
      ]
    },
    {
      "cell_type": "markdown",
      "metadata": {
        "id": "zUbft2zLjUb3"
      },
      "source": [
        "## **Nested Dictionaries**"
      ]
    },
    {
      "cell_type": "code",
      "metadata": {
        "id": "qbIngSXhPPZl"
      },
      "source": [
        "students = {'Student 1': {'Name': 'Amir', 'Major': 'Computer Science', 'Student Class': 'Junior'},\n",
        "            'Student 2': {'Name': 'John', 'Major': 'Finance', 'Student Class': 'Sophmore'},\n",
        "            'Student 3': {'Name': 'Arjun', 'Major': 'Statistics', 'Student Class': 'Freshman'},\n",
        "            'Student 4': {'Name': 'Mei', 'Major': 'Economics', 'Student Class': 'Senior'},\n",
        "            'Student 5': {'Name': 'Helga', 'Major': 'Physics', 'Student Class': 'Sophmore'}}"
      ],
      "execution_count": null,
      "outputs": []
    },
    {
      "cell_type": "code",
      "metadata": {
        "colab": {
          "base_uri": "https://localhost:8080/",
          "height": 36
        },
        "id": "kHu9T78omYqY",
        "outputId": "aef916d2-093a-48fb-c181-7edd6c269621"
      },
      "source": [
        "students['Student 1'].get('Name')"
      ],
      "execution_count": null,
      "outputs": [
        {
          "output_type": "execute_result",
          "data": {
            "application/vnd.google.colaboratory.intrinsic+json": {
              "type": "string"
            },
            "text/plain": [
              "'Amir'"
            ]
          },
          "metadata": {
            "tags": []
          },
          "execution_count": 17
        }
      ]
    },
    {
      "cell_type": "code",
      "metadata": {
        "id": "DVGZ7k1cQWGL"
      },
      "source": [
        "statistics_midterm = {'Student Name':['Amir', 'John', 'Arjun', 'Mei', 'Helga'],\n",
        "                       'Score':[85, 55, 72, 90, 70]}"
      ],
      "execution_count": null,
      "outputs": []
    },
    {
      "cell_type": "markdown",
      "metadata": {
        "id": "gX5TG4RsRzyv"
      },
      "source": [
        "## **Create a pandas DataFrame from a Dictionary**"
      ]
    },
    {
      "cell_type": "code",
      "metadata": {
        "id": "fvgJJ-3qUqO6"
      },
      "source": [
        "stats_midterm = pd.DataFrame(data = statistics_midterm)"
      ],
      "execution_count": null,
      "outputs": []
    },
    {
      "cell_type": "code",
      "metadata": {
        "colab": {
          "base_uri": "https://localhost:8080/",
          "height": 206
        },
        "id": "kNjjVM1uU9_d",
        "outputId": "f12bf804-461f-4038-8728-979878e0a6b8"
      },
      "source": [
        "stats_midterm"
      ],
      "execution_count": null,
      "outputs": [
        {
          "output_type": "execute_result",
          "data": {
            "text/html": [
              "<div>\n",
              "<style scoped>\n",
              "    .dataframe tbody tr th:only-of-type {\n",
              "        vertical-align: middle;\n",
              "    }\n",
              "\n",
              "    .dataframe tbody tr th {\n",
              "        vertical-align: top;\n",
              "    }\n",
              "\n",
              "    .dataframe thead th {\n",
              "        text-align: right;\n",
              "    }\n",
              "</style>\n",
              "<table border=\"1\" class=\"dataframe\">\n",
              "  <thead>\n",
              "    <tr style=\"text-align: right;\">\n",
              "      <th></th>\n",
              "      <th>Student Name</th>\n",
              "      <th>Score</th>\n",
              "    </tr>\n",
              "  </thead>\n",
              "  <tbody>\n",
              "    <tr>\n",
              "      <th>0</th>\n",
              "      <td>Amir</td>\n",
              "      <td>85</td>\n",
              "    </tr>\n",
              "    <tr>\n",
              "      <th>1</th>\n",
              "      <td>John</td>\n",
              "      <td>55</td>\n",
              "    </tr>\n",
              "    <tr>\n",
              "      <th>2</th>\n",
              "      <td>Arjun</td>\n",
              "      <td>72</td>\n",
              "    </tr>\n",
              "    <tr>\n",
              "      <th>3</th>\n",
              "      <td>Mei</td>\n",
              "      <td>90</td>\n",
              "    </tr>\n",
              "    <tr>\n",
              "      <th>4</th>\n",
              "      <td>Helga</td>\n",
              "      <td>70</td>\n",
              "    </tr>\n",
              "  </tbody>\n",
              "</table>\n",
              "</div>"
            ],
            "text/plain": [
              "  Student Name  Score\n",
              "0         Amir     85\n",
              "1         John     55\n",
              "2        Arjun     72\n",
              "3          Mei     90\n",
              "4        Helga     70"
            ]
          },
          "metadata": {
            "tags": []
          },
          "execution_count": 20
        }
      ]
    },
    {
      "cell_type": "markdown",
      "metadata": {
        "id": "v_MVd9kxCz0M"
      },
      "source": [
        "# **References and Additional Learning**"
      ]
    },
    {
      "cell_type": "markdown",
      "metadata": {
        "id": "DUvCdsHjC3-E"
      },
      "source": [
        "## **Textbooks**\n",
        "- **[Python Data Structures and Algorithms](https://www.amazon.com/Python-Data-Structures-Algorithms-application-ebook/dp/B01IF7NLM8) by  Benjamin Baka**"
      ]
    },
    {
      "cell_type": "markdown",
      "metadata": {
        "id": "cJnzhZD7C4CV"
      },
      "source": [
        "## **Website**\n",
        "\n",
        "- **[Data-Structure Documentation](https://docs.python.org/3/tutorial/datastructures.html) on Python.org**"
      ]
    },
    {
      "cell_type": "markdown",
      "metadata": {
        "id": "UoacKSbcC42l"
      },
      "source": [
        "# **Connect**\n",
        "- **Feel free to connect with Adrian on [YouTube](https://www.youtube.com/channel/UCPuDxI3xb_ryUUMfkm0jsRA), [LinkedIn](https://www.linkedin.com/in/adrian-dolinay-frm-96a289106/), [Twitter](https://twitter.com/DolinayG) and [GitHub](https://github.com/ad17171717). Happy coding!**"
      ]
    }
  ]
}