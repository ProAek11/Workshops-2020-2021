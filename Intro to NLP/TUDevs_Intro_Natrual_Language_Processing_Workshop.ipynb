{
  "nbformat": 4,
  "nbformat_minor": 0,
  "metadata": {
    "colab": {
      "name": "TUDev's Intro Natrual Language Processing Workshop!.ipynb",
      "provenance": [],
      "collapsed_sections": []
    },
    "kernelspec": {
      "name": "python3",
      "display_name": "Python 3"
    },
    "language_info": {
      "name": "python"
    }
  },
  "cells": [
    {
      "cell_type": "code",
      "metadata": {
        "id": "rmBX0VfghUmV"
      },
      "source": [
        "!pip install vaderSentiment\n",
        "from vaderSentiment.vaderSentiment import SentimentIntensityAnalyzer\n",
        "!pip install stop_words\n",
        "from stop_words import get_stop_words\n",
        "stop_words = list(get_stop_words('en'))\n",
        "\n",
        "from textblob import TextBlob\n",
        "\n",
        "import matplotlib.ticker as tick\n",
        "import matplotlib.pyplot as plt\n",
        "\n",
        "from wordcloud import WordCloud\n",
        "\n",
        "import pandas as pd\n",
        "\n",
        "from IPython.display import clear_output\n",
        "clear_output()"
      ],
      "execution_count": 1,
      "outputs": []
    },
    {
      "cell_type": "code",
      "metadata": {
        "id": "Qbr8e_1AEOhQ"
      },
      "source": [
        "plt.rcParams.update({'font.size': 14})\n",
        "plt.rcParams[\"figure.figsize\"] = (12,8)"
      ],
      "execution_count": 2,
      "outputs": []
    },
    {
      "cell_type": "markdown",
      "metadata": {
        "id": "vWbPZwURJA2B"
      },
      "source": [
        "# **Natural Language Processing**\n",
        "\n",
        "**\"By \"natural language\" we mean a language that is used for everyday communication by humans; languages like English, Hindi or Portuguese. In contrast to artificial languages such as programming languages and mathematical notations, natural languages have evolved as they pass from generation to generation, and are hard to pin down with explicit rules. We will take Natural Language Processing — or NLP for short — in a wide sense to cover any kind of computer manipulation of natural language. At one extreme, it could be as simple as counting word frequencies to compare different writing styles. At the other extreme, NLP involves \"understanding\" complete human utterances, at least to the extent of being able to give useful responses to them.\"**"
      ]
    },
    {
      "cell_type": "markdown",
      "metadata": {
        "id": "1qnzvC15tHWs"
      },
      "source": [
        "<sup>Source: [Natural Language Processing with Python (NLTK Book)](https://www.nltk.org/book/) by  Steven Bird, Ewan Klein, and Edward Loper</sup>"
      ]
    },
    {
      "cell_type": "markdown",
      "metadata": {
        "id": "VROA4Kv4Rn4T"
      },
      "source": [
        "## **Sentiment Analysis**\n",
        "\n",
        "**Sentiment  analysis  or  opinion  mining  is  the  computational  study  of  people’s  opinions,  appraisals,  and  emotions  toward  entities,  events  and  their  attributes.**"
      ]
    },
    {
      "cell_type": "markdown",
      "metadata": {
        "id": "R0si_JsNeZUL"
      },
      "source": [
        "<sup>Source: [Sentiment Analysis and Subjectivity](https://www.cs.uic.edu/~liub/FBS/NLP-handbook-sentiment-analysis.pdf) by Bing Liu </sup>"
      ]
    },
    {
      "cell_type": "markdown",
      "metadata": {
        "id": "550HJ4EmoDvU"
      },
      "source": [
        "## **Valence Aware Dictionary and sEntiment Reasoner (VADER)**\n",
        "\n",
        "**VADER is a lexicon and rule-based sentiment analysis tool that is specifically attuned to sentiments expressed in social media. It is fully open-sourced under an MIT License.**"
      ]
    },
    {
      "cell_type": "markdown",
      "metadata": {
        "id": "si7g-cGnpUOR"
      },
      "source": [
        "<sup>Source: [vaderSentiment GitHub page](https://github.com/cjhutto/vaderSentiment) by C.J. Hutto and E.E. Gilbert</sup>"
      ]
    },
    {
      "cell_type": "code",
      "metadata": {
        "id": "XaNvgybShv7F"
      },
      "source": [
        ""
      ],
      "execution_count": 2,
      "outputs": []
    },
    {
      "cell_type": "markdown",
      "metadata": {
        "id": "yVfePKGlj9z1"
      },
      "source": [
        "## **Checking sentiment values for words within a lexicon**"
      ]
    },
    {
      "cell_type": "code",
      "metadata": {
        "id": "lyr5j9C8idW3"
      },
      "source": [
        ""
      ],
      "execution_count": 2,
      "outputs": []
    },
    {
      "cell_type": "code",
      "metadata": {
        "id": "UbNuVYvBjGVW"
      },
      "source": [
        ""
      ],
      "execution_count": 2,
      "outputs": []
    },
    {
      "cell_type": "code",
      "metadata": {
        "id": "Ls0SEv_GkL2m"
      },
      "source": [
        ""
      ],
      "execution_count": 2,
      "outputs": []
    },
    {
      "cell_type": "markdown",
      "metadata": {
        "id": "VsTaiDlzIvcl"
      },
      "source": [
        "## **Getting rid of stop words**\n",
        "\n",
        "**Stop words are high frequency words with little to no lexical content. A common strategy for NLP practitioners is to remove these words from the text they are analyzing.**"
      ]
    },
    {
      "cell_type": "code",
      "metadata": {
        "id": "AWMrL8fAIyyC"
      },
      "source": [
        ""
      ],
      "execution_count": 2,
      "outputs": []
    },
    {
      "cell_type": "code",
      "metadata": {
        "id": "ZM-rwtokQown"
      },
      "source": [
        "text = 'This is a great game! Beautiful graphics and solid gameplay.'"
      ],
      "execution_count": 3,
      "outputs": []
    },
    {
      "cell_type": "code",
      "metadata": {
        "id": "55aKRS4sQux7"
      },
      "source": [
        ""
      ],
      "execution_count": 3,
      "outputs": []
    },
    {
      "cell_type": "code",
      "metadata": {
        "id": "cjwKecqdRKqu"
      },
      "source": [
        ""
      ],
      "execution_count": 3,
      "outputs": []
    },
    {
      "cell_type": "markdown",
      "metadata": {
        "id": "htNAd9X4jPSf"
      },
      "source": [
        "## **Updating the sentiment score of a word**\n",
        "\n",
        "**There may be words that are significant in a certain industry. For example if you have a food review site, you may want to attach positive or negative values to certain food attributes.**"
      ]
    },
    {
      "cell_type": "code",
      "metadata": {
        "id": "Mr-k4YjxjZWv"
      },
      "source": [
        ""
      ],
      "execution_count": 3,
      "outputs": []
    },
    {
      "cell_type": "code",
      "metadata": {
        "id": "82PSS0efjVAu"
      },
      "source": [
        ""
      ],
      "execution_count": 3,
      "outputs": []
    },
    {
      "cell_type": "code",
      "metadata": {
        "id": "JBi9brvDjgvG"
      },
      "source": [
        ""
      ],
      "execution_count": 3,
      "outputs": []
    },
    {
      "cell_type": "markdown",
      "metadata": {
        "id": "2I3qayFCmafn"
      },
      "source": [
        "## **Ways to Approach Multilingual Sentiment Analysis**"
      ]
    },
    {
      "cell_type": "markdown",
      "metadata": {
        "id": "dBUdVazyTX1z"
      },
      "source": [
        "**According to ethnologue.com, English is the most spoken language in the world. But other languages such as Mandarin Chinese are not too far off. If you have a global platform there will be translation issues you must deal with.**"
      ]
    },
    {
      "cell_type": "code",
      "metadata": {
        "colab": {
          "base_uri": "https://localhost:8080/",
          "height": 488
        },
        "id": "fDFPsJj5sNyO",
        "outputId": "4e358485-05b4-4f81-e2b7-a7abfe0687ef"
      },
      "source": [
        "@tick.FuncFormatter\n",
        "def million_formatter(x, pos):\n",
        "    return \"%.1f M\" % (x/1E6)\n",
        "\n",
        "fig, ax = plt.subplots()\n",
        "ax.bar(x = ['English', 'Mandarin Chinese', 'Hindi', 'Spanish', 'Arabic'], height = [1348000000, 1120000000, 600000000, 543000000, 274000000], color = ['pink', 'purple', 'blue', 'green', 'darkblue'])\n",
        "ax.yaxis.set_major_formatter(million_formatter)"
      ],
      "execution_count": 4,
      "outputs": [
        {
          "output_type": "display_data",
          "data": {
            "image/png": "[encoded data removed]",
            "text/plain": [
              "<Figure size 864x576 with 1 Axes>"
            ]
          },
          "metadata": {
            "tags": [],
            "needs_background": "light"
          }
        }
      ]
    },
    {
      "cell_type": "markdown",
      "metadata": {
        "id": "3JoXGBI1oNFR"
      },
      "source": [
        "<sup>Source: [Ethnologue.com](https://www.ethnologue.com/guides/ethnologue200) from the article \"What are the top 200 most spoken languages?\"</sup>"
      ]
    },
    {
      "cell_type": "code",
      "metadata": {
        "id": "TnIj5BH1wca7"
      },
      "source": [
        ""
      ],
      "execution_count": 4,
      "outputs": []
    },
    {
      "cell_type": "code",
      "metadata": {
        "id": "o7E6LqI3xT-0"
      },
      "source": [
        ""
      ],
      "execution_count": 4,
      "outputs": []
    },
    {
      "cell_type": "markdown",
      "metadata": {
        "id": "YJ3DNxYIMKUk"
      },
      "source": [
        "# **Sentiment analysis of Yelp Reviews**"
      ]
    },
    {
      "cell_type": "code",
      "metadata": {
        "id": "k0T34sBgxeES"
      },
      "source": [
        ""
      ],
      "execution_count": 4,
      "outputs": []
    },
    {
      "cell_type": "code",
      "metadata": {
        "id": "Qqz9xFtQPDBx"
      },
      "source": [
        ""
      ],
      "execution_count": 4,
      "outputs": []
    },
    {
      "cell_type": "code",
      "metadata": {
        "id": "N2tMmf5ZVsHx"
      },
      "source": [
        ""
      ],
      "execution_count": 4,
      "outputs": []
    },
    {
      "cell_type": "code",
      "metadata": {
        "id": "pWGVM6fzPDEg"
      },
      "source": [
        ""
      ],
      "execution_count": 4,
      "outputs": []
    },
    {
      "cell_type": "code",
      "metadata": {
        "id": "BdLg4nk8PDHa"
      },
      "source": [
        ""
      ],
      "execution_count": 4,
      "outputs": []
    },
    {
      "cell_type": "code",
      "metadata": {
        "id": "Y1v76cgkPDJ0"
      },
      "source": [
        ""
      ],
      "execution_count": 4,
      "outputs": []
    },
    {
      "cell_type": "code",
      "metadata": {
        "id": "kG6LtGKaPDR_"
      },
      "source": [
        ""
      ],
      "execution_count": 4,
      "outputs": []
    },
    {
      "cell_type": "code",
      "metadata": {
        "id": "GhvNLjxIPDVC"
      },
      "source": [
        ""
      ],
      "execution_count": 4,
      "outputs": []
    },
    {
      "cell_type": "markdown",
      "metadata": {
        "id": "mvFPjP7wp8pJ"
      },
      "source": [
        "## **Visualizing the text**"
      ]
    },
    {
      "cell_type": "code",
      "metadata": {
        "id": "WRcT8H-9PDYR"
      },
      "source": [
        ""
      ],
      "execution_count": 4,
      "outputs": []
    },
    {
      "cell_type": "code",
      "metadata": {
        "id": "w_E1tgR5PDdB"
      },
      "source": [
        ""
      ],
      "execution_count": 4,
      "outputs": []
    },
    {
      "cell_type": "markdown",
      "metadata": {
        "id": "bQUTvpbHPDs3"
      },
      "source": [
        "# **References and Additional Learning**"
      ]
    },
    {
      "cell_type": "markdown",
      "metadata": {
        "id": "D8TeJNXlPHo7"
      },
      "source": [
        "## **Textbook**\n",
        "- **[Natural Language Processing with Python (NLTK Book)](https://www.nltk.org/book/) by  Steven Bird, Ewan Klein, and Edward Loper (Free!)**"
      ]
    },
    {
      "cell_type": "markdown",
      "metadata": {
        "id": "aPem00yao10O"
      },
      "source": [
        "## **Website**\n",
        "- **[vaderSentiment GitHub page](https://github.com/cjhutto/vaderSentiment) by C.J. Hutto and E.E. Gilbert**"
      ]
    },
    {
      "cell_type": "markdown",
      "metadata": {
        "id": "f0VlFM5ScItp"
      },
      "source": [
        "## **Paper**\n",
        "- **[VADER: A Parsimonious Rule-based Model for Sentiment Analysis of Social Media Text](https://www.researchgate.net/publication/275828927_VADER_A_Parsimonious_Rule-based_Model_for_Sentiment_Analysis_of_Social_Media_Text) by C.J. Hutto and E.E. Gilbert**"
      ]
    },
    {
      "cell_type": "markdown",
      "metadata": {
        "id": "pcFOV50BPWox"
      },
      "source": [
        "# **Connect**\n",
        "\n",
        "- **Join [TUDev](https://docs.google.com/forms/d/e/1FAIpQLSdsJbBbza_HsqhGM_5YjaSo-XnWug2KNCXv9CYQcXW4qtCQsw/viewform) and check out our [website](https://tudev.org/)!**\n",
        "\n",
        "- **Feel free to connect with Adrian on [YouTube](https://www.youtube.com/channel/UCPuDxI3xb_ryUUMfkm0jsRA), [LinkedIn](https://www.linkedin.com/in/adrian-dolinay-frm-96a289106/), [Twitter](https://twitter.com/DolinayG) and [GitHub](https://github.com/ad17171717). Happy coding!**"
      ]
    }
  ]
}